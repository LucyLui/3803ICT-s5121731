{
 "cells": [
  {
   "cell_type": "code",
   "execution_count": 2,
   "metadata": {},
   "outputs": [],
   "source": [
    "#1\n",
    "from sklearn import datasets\n",
    "import matplotlib.pyplot as plt\n",
    "digits= datasets.load_digits()\n",
    "from sklearn.model_selection import train_test_split\n",
    "import numpy as np\n",
    "X=digits.data\n",
    "y=digits.target\n",
    "X_train, X_test, y_train,y_test=train_test_split(X,y,test_size=0.2,random_state=0)"
   ]
  },
  {
   "cell_type": "code",
   "execution_count": 7,
   "metadata": {},
   "outputs": [
    {
     "data": {
      "text/plain": [
       "0.9722222222222222"
      ]
     },
     "execution_count": 7,
     "metadata": {},
     "output_type": "execute_result"
    }
   ],
   "source": [
    "#1.1\n",
    "from sklearn import neighbors\n",
    "#neighbors.KNeighborsClassifier(n_neighbors=6,weights='uniform',algorithm='auto',leaf_size=1,p=2, metric='minkowski',metric_params=None, n-jobs=1)\n",
    "knn=neighbors.KNeighborsClassifier(n_neighbors=6)\n",
    "knn.fit(X_train,y_train)\n",
    "s6=knn.score(X_test,y_test)\n",
    "s6\n"
   ]
  },
  {
   "cell_type": "code",
   "execution_count": 6,
   "metadata": {},
   "outputs": [
    {
     "data": {
      "image/png": "[encoded data removed]",
      "text/plain": [
       "<matplotlib.figure.Figure at 0x7470690>"
      ]
     },
     "metadata": {},
     "output_type": "display_data"
    }
   ],
   "source": [
    "def score(n):\n",
    "  k=neighbors.KNeighborsClassifier(n_neighbors=n)\n",
    "  k.fit(X_train,y_train)\n",
    "  s=k.score(X_test,y_test)\n",
    "  return s\n",
    "\n",
    "sk=[0,0,0,0,0,0,0,0,0,0,0,0,0,0,0,0,0,0,0,0]\n",
    "sq=[1,2,3,4,5,6,7,8,9,10,11,12,13,14,15,16,17,18,19,20]\n",
    "for k in sq :\n",
    "    sk[k-1]=score(k)\n",
    "sk\n",
    "x=range(len(sq))\n",
    "plt.plot(sq,sk)\n",
    "plt.grid()"
   ]
  },
  {
   "cell_type": "code",
   "execution_count": 4,
   "metadata": {},
   "outputs": [],
   "source": [
    "#1.2\n",
    "#From the result of 1.1, when k=1, the biggest accuracy can be obtained. As k becomes biggger, the accuracy decrease slightly. From the plot above we can get k=1 is underfitting and when k>=7 is overfitting. Because when k=1, the number of neighbors is too small and k>=7 the number of neighbors is too large, the accuracy begins to drop. "
   ]
  },
  {
   "cell_type": "code",
   "execution_count": 40,
   "metadata": {},
   "outputs": [
    {
     "data": {
      "text/plain": [
       "0.9736842105263158"
      ]
     },
     "execution_count": 40,
     "metadata": {},
     "output_type": "execute_result"
    }
   ],
   "source": [
    "#2 the accuracy scores and the confusion matrix using different kernels\n",
    "from sklearn import svm\n",
    "clfl = svm.SVC(kernel='linear')\n",
    "clfl.fit(X_train, y_train)\n",
    "scol=clfl.score(X_test,y_test)\n",
    "scol"
   ]
  },
  {
   "cell_type": "code",
   "execution_count": 29,
   "metadata": {},
   "outputs": [
    {
     "data": {
      "text/plain": [
       "array([[13,  0,  0],\n",
       "       [ 0, 15,  1],\n",
       "       [ 0,  0,  9]], dtype=int64)"
      ]
     },
     "execution_count": 29,
     "metadata": {},
     "output_type": "execute_result"
    }
   ],
   "source": [
    "from sklearn.metrics import confusion_matrix\n",
    "y_predl = clfl.fit(X_train, y_train).predict(X_test)\n",
    "confusion_matrix(y_test,y_predl)"
   ]
  },
  {
   "cell_type": "code",
   "execution_count": 37,
   "metadata": {},
   "outputs": [
    {
     "data": {
      "text/plain": [
       "0.9473684210526315"
      ]
     },
     "execution_count": 37,
     "metadata": {},
     "output_type": "execute_result"
    }
   ],
   "source": [
    "clfp = svm.SVC(kernel='poly')\n",
    "clfp.fit(X_train, y_train)\n",
    "scop=clfp.score(X_test,y_test)\n",
    "scop"
   ]
  },
  {
   "cell_type": "code",
   "execution_count": 41,
   "metadata": {},
   "outputs": [
    {
     "data": {
      "text/plain": [
       "array([[13,  0,  0],\n",
       "       [ 0, 15,  1],\n",
       "       [ 0,  1,  8]], dtype=int64)"
      ]
     },
     "execution_count": 41,
     "metadata": {},
     "output_type": "execute_result"
    }
   ],
   "source": [
    "from sklearn.metrics import confusion_matrix\n",
    "y_predp = clfp.fit(X_train, y_train).predict(X_test)\n",
    "confusion_matrix(y_test,y_predp)"
   ]
  },
  {
   "cell_type": "code",
   "execution_count": 42,
   "metadata": {},
   "outputs": [
    {
     "data": {
      "text/plain": [
       "0.9736842105263158"
      ]
     },
     "execution_count": 42,
     "metadata": {},
     "output_type": "execute_result"
    }
   ],
   "source": [
    "clfr = svm.SVC(kernel='rbf')\n",
    "clfr.fit(X_train, y_train)\n",
    "scor=clfr.score(X_test,y_test)\n",
    "scor"
   ]
  },
  {
   "cell_type": "code",
   "execution_count": 44,
   "metadata": {},
   "outputs": [
    {
     "data": {
      "text/plain": [
       "array([[13,  0,  0],\n",
       "       [ 0, 15,  1],\n",
       "       [ 0,  0,  9]], dtype=int64)"
      ]
     },
     "execution_count": 44,
     "metadata": {},
     "output_type": "execute_result"
    }
   ],
   "source": [
    "from sklearn.metrics import confusion_matrix\n",
    "y_predr = clfr.fit(X_train, y_train).predict(X_test)\n",
    "confusion_matrix(y_test,y_predr)\n",
    "#From the results we can see linear and rbf kernels are the best since they have the highest accuracy scores and the best confusion matrix."
   ]
  },
  {
   "cell_type": "code",
   "execution_count": 46,
   "metadata": {},
   "outputs": [
    {
     "data": {
      "text/plain": [
       "1.0"
      ]
     },
     "execution_count": 46,
     "metadata": {},
     "output_type": "execute_result"
    }
   ],
   "source": [
    "#3\n",
    "from sklearn.naive_bayes import GaussianNB\n",
    "# create naive bayes classifier\n",
    "gaunb = GaussianNB()\n",
    " \n",
    "# train classifier with dataset\n",
    "gaunb = gaunb.fit(X_train, y_train)\n",
    "scog=gaunb.score(X_test,y_test)\n",
    "scog\n",
    " "
   ]
  },
  {
   "cell_type": "code",
   "execution_count": 48,
   "metadata": {},
   "outputs": [
    {
     "data": {
      "text/plain": [
       "array([[13,  0,  0],\n",
       "       [ 0, 16,  0],\n",
       "       [ 0,  0,  9]], dtype=int64)"
      ]
     },
     "execution_count": 48,
     "metadata": {},
     "output_type": "execute_result"
    }
   ],
   "source": [
    "# predict using classifier\n",
    "prediction = gaunb.predict(X_test)\n",
    "confusion_matrix(y_test,prediction)\n",
    "#For the zero conditional probability, we have to re‐estimate class conditional probabilities."
   ]
  },
  {
   "cell_type": "code",
   "execution_count": 61,
   "metadata": {},
   "outputs": [
    {
     "data": {
      "image/png": "[encoded data removed]",
      "text/plain": [
       "<matplotlib.figure.Figure at 0x96b6a10>"
      ]
     },
     "metadata": {},
     "output_type": "display_data"
    }
   ],
   "source": [
    "#4.1\n",
    "acKM=np.mean(sk[0:8])\n",
    "acSVM=scol\n",
    "acNB=scog\n",
    "ac=[acKM,acSVM,acNB]\n",
    "x=['KM','SVM','NB']\n",
    "plt.plot(x,ac,'.',MarkerSize=12)\n",
    "plt.grid()"
   ]
  },
  {
   "cell_type": "code",
   "execution_count": 62,
   "metadata": {},
   "outputs": [],
   "source": [
    "#4.2\n",
    "#It's hard to find data samples which meet the given requirements. But one possible reason for these is overfitting or underfitting. As for all the classifiers predict differently from each other, it may because the algorithm of classifiers are different from each other."
   ]
  },
  {
   "cell_type": "code",
   "execution_count": 66,
   "metadata": {},
   "outputs": [
    {
     "data": {
      "text/html": [
       "<div>\n",
       "<style scoped>\n",
       "    .dataframe tbody tr th:only-of-type {\n",
       "        vertical-align: middle;\n",
       "    }\n",
       "\n",
       "    .dataframe tbody tr th {\n",
       "        vertical-align: top;\n",
       "    }\n",
       "\n",
       "    .dataframe thead th {\n",
       "        text-align: right;\n",
       "    }\n",
       "</style>\n",
       "<table border=\"1\" class=\"dataframe\">\n",
       "  <thead>\n",
       "    <tr style=\"text-align: right;\">\n",
       "      <th></th>\n",
       "      <th>Unnamed: 0</th>\n",
       "      <th>TV</th>\n",
       "      <th>radio</th>\n",
       "      <th>newspaper</th>\n",
       "      <th>sales</th>\n",
       "    </tr>\n",
       "  </thead>\n",
       "  <tbody>\n",
       "    <tr>\n",
       "      <th>0</th>\n",
       "      <td>1</td>\n",
       "      <td>230.1</td>\n",
       "      <td>37.8</td>\n",
       "      <td>69.2</td>\n",
       "      <td>22.1</td>\n",
       "    </tr>\n",
       "    <tr>\n",
       "      <th>1</th>\n",
       "      <td>2</td>\n",
       "      <td>44.5</td>\n",
       "      <td>39.3</td>\n",
       "      <td>45.1</td>\n",
       "      <td>10.4</td>\n",
       "    </tr>\n",
       "    <tr>\n",
       "      <th>2</th>\n",
       "      <td>3</td>\n",
       "      <td>17.2</td>\n",
       "      <td>45.9</td>\n",
       "      <td>69.3</td>\n",
       "      <td>9.3</td>\n",
       "    </tr>\n",
       "    <tr>\n",
       "      <th>3</th>\n",
       "      <td>4</td>\n",
       "      <td>151.5</td>\n",
       "      <td>41.3</td>\n",
       "      <td>58.5</td>\n",
       "      <td>18.5</td>\n",
       "    </tr>\n",
       "    <tr>\n",
       "      <th>4</th>\n",
       "      <td>5</td>\n",
       "      <td>180.8</td>\n",
       "      <td>10.8</td>\n",
       "      <td>58.4</td>\n",
       "      <td>12.9</td>\n",
       "    </tr>\n",
       "  </tbody>\n",
       "</table>\n",
       "</div>"
      ],
      "text/plain": [
       "   Unnamed: 0     TV  radio  newspaper  sales\n",
       "0           1  230.1   37.8       69.2   22.1\n",
       "1           2   44.5   39.3       45.1   10.4\n",
       "2           3   17.2   45.9       69.3    9.3\n",
       "3           4  151.5   41.3       58.5   18.5\n",
       "4           5  180.8   10.8       58.4   12.9"
      ]
     },
     "execution_count": 66,
     "metadata": {},
     "output_type": "execute_result"
    }
   ],
   "source": [
    "#Regression 1\n",
    "import pandas as pd\n",
    "data=pd.read_csv('data/Advertising.csv')\n",
    "data.head()"
   ]
  },
  {
   "cell_type": "code",
   "execution_count": 72,
   "metadata": {},
   "outputs": [
    {
     "data": {
      "text/html": [
       "<div>\n",
       "<style scoped>\n",
       "    .dataframe tbody tr th:only-of-type {\n",
       "        vertical-align: middle;\n",
       "    }\n",
       "\n",
       "    .dataframe tbody tr th {\n",
       "        vertical-align: top;\n",
       "    }\n",
       "\n",
       "    .dataframe thead th {\n",
       "        text-align: right;\n",
       "    }\n",
       "</style>\n",
       "<table border=\"1\" class=\"dataframe\">\n",
       "  <thead>\n",
       "    <tr style=\"text-align: right;\">\n",
       "      <th></th>\n",
       "      <th>TV</th>\n",
       "      <th>radio</th>\n",
       "      <th>newspaper</th>\n",
       "    </tr>\n",
       "  </thead>\n",
       "  <tbody>\n",
       "    <tr>\n",
       "      <th>0</th>\n",
       "      <td>230.1</td>\n",
       "      <td>37.8</td>\n",
       "      <td>69.2</td>\n",
       "    </tr>\n",
       "    <tr>\n",
       "      <th>1</th>\n",
       "      <td>44.5</td>\n",
       "      <td>39.3</td>\n",
       "      <td>45.1</td>\n",
       "    </tr>\n",
       "    <tr>\n",
       "      <th>2</th>\n",
       "      <td>17.2</td>\n",
       "      <td>45.9</td>\n",
       "      <td>69.3</td>\n",
       "    </tr>\n",
       "    <tr>\n",
       "      <th>3</th>\n",
       "      <td>151.5</td>\n",
       "      <td>41.3</td>\n",
       "      <td>58.5</td>\n",
       "    </tr>\n",
       "    <tr>\n",
       "      <th>4</th>\n",
       "      <td>180.8</td>\n",
       "      <td>10.8</td>\n",
       "      <td>58.4</td>\n",
       "    </tr>\n",
       "  </tbody>\n",
       "</table>\n",
       "</div>"
      ],
      "text/plain": [
       "      TV  radio  newspaper\n",
       "0  230.1   37.8       69.2\n",
       "1   44.5   39.3       45.1\n",
       "2   17.2   45.9       69.3\n",
       "3  151.5   41.3       58.5\n",
       "4  180.8   10.8       58.4"
      ]
     },
     "execution_count": 72,
     "metadata": {},
     "output_type": "execute_result"
    }
   ],
   "source": [
    "#create a python list of feature names   \n",
    "X = data[['TV', 'radio', 'newspaper']]  \n",
    "# print the first 5 rows  \n",
    "X.head()  "
   ]
  },
  {
   "cell_type": "code",
   "execution_count": 75,
   "metadata": {},
   "outputs": [
    {
     "data": {
      "text/plain": [
       "0    22.1\n",
       "1    10.4\n",
       "2     9.3\n",
       "3    18.5\n",
       "4    12.9\n",
       "Name: sales, dtype: float64"
      ]
     },
     "execution_count": 75,
     "metadata": {},
     "output_type": "execute_result"
    }
   ],
   "source": [
    "# select a Series from the DataFrame  \n",
    "y = data['sales']  \n",
    "# equivalent command that works if there are no spaces in the column name  \n",
    "y = data.sales  \n",
    "# print the first 5 values  \n",
    "y.head() "
   ]
  },
  {
   "cell_type": "code",
   "execution_count": 84,
   "metadata": {},
   "outputs": [
    {
     "data": {
      "text/plain": [
       "2.8769666223179318"
      ]
     },
     "execution_count": 84,
     "metadata": {},
     "output_type": "execute_result"
    }
   ],
   "source": [
    "X_train,X_test, y_train, y_test = train_test_split(X, y, random_state=1)  \n",
    "from sklearn.linear_model import LinearRegression  \n",
    "linreg = LinearRegression()  \n",
    "model=linreg.fit(X_train, y_train)  \n",
    "linreg.intercept_ "
   ]
  },
  {
   "cell_type": "code",
   "execution_count": 87,
   "metadata": {},
   "outputs": [
    {
     "data": {
      "text/plain": [
       "(['TV', 'radio', 'newspaper'], array([0.05, 0.18, 0.  ]))"
      ]
     },
     "execution_count": 87,
     "metadata": {},
     "output_type": "execute_result"
    }
   ],
   "source": [
    "feature_cols,linreg.coef_"
   ]
  },
  {
   "cell_type": "code",
   "execution_count": 88,
   "metadata": {},
   "outputs": [
    {
     "data": {
      "text/plain": [
       "array([21.71, 16.41,  7.61, 17.81, 18.61, 23.84, 16.32, 13.43,  9.17,\n",
       "       17.33, 14.44,  9.84, 17.19, 16.73, 15.06, 15.61, 12.43, 17.18,\n",
       "       11.09, 18.01,  9.28, 12.98,  8.8 , 10.42, 11.38, 14.98,  9.79,\n",
       "       19.4 , 18.18, 17.13, 21.55, 14.7 , 16.25, 12.32, 19.92, 15.32,\n",
       "       13.89, 10.03, 20.93,  7.45,  3.65,  7.22,  6.  , 18.43,  8.39,\n",
       "       14.08, 15.02, 20.36, 20.57, 19.61])"
      ]
     },
     "execution_count": 88,
     "metadata": {},
     "output_type": "execute_result"
    }
   ],
   "source": [
    "y_pred = linreg.predict(X_test)  \n",
    "y_pred  "
   ]
  },
  {
   "cell_type": "code",
   "execution_count": 89,
   "metadata": {},
   "outputs": [
    {
     "data": {
      "text/html": [
       "<div>\n",
       "<style scoped>\n",
       "    .dataframe tbody tr th:only-of-type {\n",
       "        vertical-align: middle;\n",
       "    }\n",
       "\n",
       "    .dataframe tbody tr th {\n",
       "        vertical-align: top;\n",
       "    }\n",
       "\n",
       "    .dataframe thead th {\n",
       "        text-align: right;\n",
       "    }\n",
       "</style>\n",
       "<table border=\"1\" class=\"dataframe\">\n",
       "  <thead>\n",
       "    <tr style=\"text-align: right;\">\n",
       "      <th></th>\n",
       "      <th>population</th>\n",
       "      <th>fertility</th>\n",
       "      <th>HIV</th>\n",
       "      <th>CO2</th>\n",
       "      <th>BMI_male</th>\n",
       "      <th>GDP</th>\n",
       "      <th>BMI_female</th>\n",
       "      <th>life</th>\n",
       "      <th>child_mortality</th>\n",
       "      <th>Region</th>\n",
       "    </tr>\n",
       "  </thead>\n",
       "  <tbody>\n",
       "    <tr>\n",
       "      <th>0</th>\n",
       "      <td>34811059</td>\n",
       "      <td>2.73</td>\n",
       "      <td>0.1</td>\n",
       "      <td>3.328945</td>\n",
       "      <td>24.59620</td>\n",
       "      <td>12314</td>\n",
       "      <td>129.9049</td>\n",
       "      <td>75.3</td>\n",
       "      <td>29.5</td>\n",
       "      <td>Middle East &amp; North Africa</td>\n",
       "    </tr>\n",
       "    <tr>\n",
       "      <th>1</th>\n",
       "      <td>19842251</td>\n",
       "      <td>6.43</td>\n",
       "      <td>2.0</td>\n",
       "      <td>1.474353</td>\n",
       "      <td>22.25083</td>\n",
       "      <td>7103</td>\n",
       "      <td>130.1247</td>\n",
       "      <td>58.3</td>\n",
       "      <td>192.0</td>\n",
       "      <td>Sub-Saharan Africa</td>\n",
       "    </tr>\n",
       "    <tr>\n",
       "      <th>2</th>\n",
       "      <td>40381860</td>\n",
       "      <td>2.24</td>\n",
       "      <td>0.5</td>\n",
       "      <td>4.785170</td>\n",
       "      <td>27.50170</td>\n",
       "      <td>14646</td>\n",
       "      <td>118.8915</td>\n",
       "      <td>75.5</td>\n",
       "      <td>15.4</td>\n",
       "      <td>America</td>\n",
       "    </tr>\n",
       "    <tr>\n",
       "      <th>3</th>\n",
       "      <td>2975029</td>\n",
       "      <td>1.40</td>\n",
       "      <td>0.1</td>\n",
       "      <td>1.804106</td>\n",
       "      <td>25.35542</td>\n",
       "      <td>7383</td>\n",
       "      <td>132.8108</td>\n",
       "      <td>72.5</td>\n",
       "      <td>20.0</td>\n",
       "      <td>Europe &amp; Central Asia</td>\n",
       "    </tr>\n",
       "    <tr>\n",
       "      <th>4</th>\n",
       "      <td>21370348</td>\n",
       "      <td>1.96</td>\n",
       "      <td>0.1</td>\n",
       "      <td>18.016313</td>\n",
       "      <td>27.56373</td>\n",
       "      <td>41312</td>\n",
       "      <td>117.3755</td>\n",
       "      <td>81.5</td>\n",
       "      <td>5.2</td>\n",
       "      <td>East Asia &amp; Pacific</td>\n",
       "    </tr>\n",
       "  </tbody>\n",
       "</table>\n",
       "</div>"
      ],
      "text/plain": [
       "   population  fertility  HIV        CO2  BMI_male    GDP  BMI_female  life  \\\n",
       "0    34811059       2.73  0.1   3.328945  24.59620  12314    129.9049  75.3   \n",
       "1    19842251       6.43  2.0   1.474353  22.25083   7103    130.1247  58.3   \n",
       "2    40381860       2.24  0.5   4.785170  27.50170  14646    118.8915  75.5   \n",
       "3     2975029       1.40  0.1   1.804106  25.35542   7383    132.8108  72.5   \n",
       "4    21370348       1.96  0.1  18.016313  27.56373  41312    117.3755  81.5   \n",
       "\n",
       "   child_mortality                      Region  \n",
       "0             29.5  Middle East & North Africa  \n",
       "1            192.0          Sub-Saharan Africa  \n",
       "2             15.4                     America  \n",
       "3             20.0       Europe & Central Asia  \n",
       "4              5.2         East Asia & Pacific  "
      ]
     },
     "execution_count": 89,
     "metadata": {},
     "output_type": "execute_result"
    }
   ],
   "source": [
    "#2\n",
    "data=pd.read_csv('data/gm_2008_region.csv')\n",
    "data.head()"
   ]
  },
  {
   "cell_type": "code",
   "execution_count": 90,
   "metadata": {},
   "outputs": [
    {
     "name": "stdout",
     "output_type": "stream",
     "text": [
      "<class 'pandas.core.frame.DataFrame'>\n",
      "RangeIndex: 139 entries, 0 to 138\n",
      "Data columns (total 10 columns):\n",
      "population         139 non-null int64\n",
      "fertility          139 non-null float64\n",
      "HIV                139 non-null float64\n",
      "CO2                139 non-null float64\n",
      "BMI_male           139 non-null float64\n",
      "GDP                139 non-null int64\n",
      "BMI_female         139 non-null float64\n",
      "life               139 non-null float64\n",
      "child_mortality    139 non-null float64\n",
      "Region             139 non-null object\n",
      "dtypes: float64(7), int64(2), object(1)\n",
      "memory usage: 10.4+ KB\n"
     ]
    }
   ],
   "source": [
    "data.info()"
   ]
  },
  {
   "cell_type": "code",
   "execution_count": 91,
   "metadata": {},
   "outputs": [
    {
     "data": {
      "text/html": [
       "<div>\n",
       "<style scoped>\n",
       "    .dataframe tbody tr th:only-of-type {\n",
       "        vertical-align: middle;\n",
       "    }\n",
       "\n",
       "    .dataframe tbody tr th {\n",
       "        vertical-align: top;\n",
       "    }\n",
       "\n",
       "    .dataframe thead th {\n",
       "        text-align: right;\n",
       "    }\n",
       "</style>\n",
       "<table border=\"1\" class=\"dataframe\">\n",
       "  <thead>\n",
       "    <tr style=\"text-align: right;\">\n",
       "      <th></th>\n",
       "      <th>population</th>\n",
       "      <th>fertility</th>\n",
       "      <th>HIV</th>\n",
       "      <th>CO2</th>\n",
       "      <th>BMI_male</th>\n",
       "      <th>GDP</th>\n",
       "      <th>BMI_female</th>\n",
       "      <th>life</th>\n",
       "      <th>child_mortality</th>\n",
       "    </tr>\n",
       "  </thead>\n",
       "  <tbody>\n",
       "    <tr>\n",
       "      <th>count</th>\n",
       "      <td>1.390000e+02</td>\n",
       "      <td>139.000000</td>\n",
       "      <td>139.000000</td>\n",
       "      <td>139.000000</td>\n",
       "      <td>139.000000</td>\n",
       "      <td>139.000000</td>\n",
       "      <td>139.000000</td>\n",
       "      <td>139.000000</td>\n",
       "      <td>139.000000</td>\n",
       "    </tr>\n",
       "    <tr>\n",
       "      <th>mean</th>\n",
       "      <td>3.549977e+07</td>\n",
       "      <td>3.005108</td>\n",
       "      <td>1.915612</td>\n",
       "      <td>4.459874</td>\n",
       "      <td>24.623054</td>\n",
       "      <td>16638.784173</td>\n",
       "      <td>126.701914</td>\n",
       "      <td>69.602878</td>\n",
       "      <td>45.097122</td>\n",
       "    </tr>\n",
       "    <tr>\n",
       "      <th>std</th>\n",
       "      <td>1.095121e+08</td>\n",
       "      <td>1.615354</td>\n",
       "      <td>4.408974</td>\n",
       "      <td>6.268349</td>\n",
       "      <td>2.209368</td>\n",
       "      <td>19207.299083</td>\n",
       "      <td>4.471997</td>\n",
       "      <td>9.122189</td>\n",
       "      <td>45.724667</td>\n",
       "    </tr>\n",
       "    <tr>\n",
       "      <th>min</th>\n",
       "      <td>2.773150e+05</td>\n",
       "      <td>1.280000</td>\n",
       "      <td>0.060000</td>\n",
       "      <td>0.008618</td>\n",
       "      <td>20.397420</td>\n",
       "      <td>588.000000</td>\n",
       "      <td>117.375500</td>\n",
       "      <td>45.200000</td>\n",
       "      <td>2.700000</td>\n",
       "    </tr>\n",
       "    <tr>\n",
       "      <th>25%</th>\n",
       "      <td>3.752776e+06</td>\n",
       "      <td>1.810000</td>\n",
       "      <td>0.100000</td>\n",
       "      <td>0.496190</td>\n",
       "      <td>22.448135</td>\n",
       "      <td>2899.000000</td>\n",
       "      <td>123.232200</td>\n",
       "      <td>62.200000</td>\n",
       "      <td>8.100000</td>\n",
       "    </tr>\n",
       "    <tr>\n",
       "      <th>50%</th>\n",
       "      <td>9.705130e+06</td>\n",
       "      <td>2.410000</td>\n",
       "      <td>0.400000</td>\n",
       "      <td>2.223796</td>\n",
       "      <td>25.156990</td>\n",
       "      <td>9938.000000</td>\n",
       "      <td>126.519600</td>\n",
       "      <td>72.000000</td>\n",
       "      <td>24.000000</td>\n",
       "    </tr>\n",
       "    <tr>\n",
       "      <th>75%</th>\n",
       "      <td>2.791973e+07</td>\n",
       "      <td>4.095000</td>\n",
       "      <td>1.300000</td>\n",
       "      <td>6.589156</td>\n",
       "      <td>26.497575</td>\n",
       "      <td>23278.500000</td>\n",
       "      <td>130.275900</td>\n",
       "      <td>76.850000</td>\n",
       "      <td>74.200000</td>\n",
       "    </tr>\n",
       "    <tr>\n",
       "      <th>max</th>\n",
       "      <td>1.197070e+09</td>\n",
       "      <td>7.590000</td>\n",
       "      <td>25.900000</td>\n",
       "      <td>48.702062</td>\n",
       "      <td>28.456980</td>\n",
       "      <td>126076.000000</td>\n",
       "      <td>135.492000</td>\n",
       "      <td>82.600000</td>\n",
       "      <td>192.000000</td>\n",
       "    </tr>\n",
       "  </tbody>\n",
       "</table>\n",
       "</div>"
      ],
      "text/plain": [
       "         population   fertility         HIV         CO2    BMI_male  \\\n",
       "count  1.390000e+02  139.000000  139.000000  139.000000  139.000000   \n",
       "mean   3.549977e+07    3.005108    1.915612    4.459874   24.623054   \n",
       "std    1.095121e+08    1.615354    4.408974    6.268349    2.209368   \n",
       "min    2.773150e+05    1.280000    0.060000    0.008618   20.397420   \n",
       "25%    3.752776e+06    1.810000    0.100000    0.496190   22.448135   \n",
       "50%    9.705130e+06    2.410000    0.400000    2.223796   25.156990   \n",
       "75%    2.791973e+07    4.095000    1.300000    6.589156   26.497575   \n",
       "max    1.197070e+09    7.590000   25.900000   48.702062   28.456980   \n",
       "\n",
       "                 GDP  BMI_female        life  child_mortality  \n",
       "count     139.000000  139.000000  139.000000       139.000000  \n",
       "mean    16638.784173  126.701914   69.602878        45.097122  \n",
       "std     19207.299083    4.471997    9.122189        45.724667  \n",
       "min       588.000000  117.375500   45.200000         2.700000  \n",
       "25%      2899.000000  123.232200   62.200000         8.100000  \n",
       "50%      9938.000000  126.519600   72.000000        24.000000  \n",
       "75%     23278.500000  130.275900   76.850000        74.200000  \n",
       "max    126076.000000  135.492000   82.600000       192.000000  "
      ]
     },
     "execution_count": 91,
     "metadata": {},
     "output_type": "execute_result"
    }
   ],
   "source": [
    "data.describe()"
   ]
  },
  {
   "cell_type": "code",
   "execution_count": 94,
   "metadata": {},
   "outputs": [
    {
     "data": {
      "text/plain": [
       "<matplotlib.axes._subplots.AxesSubplot at 0xa3de630>"
      ]
     },
     "execution_count": 94,
     "metadata": {},
     "output_type": "execute_result"
    },
    {
     "data": {
      "image/png": "[encoded data removed]",
      "text/plain": [
       "<matplotlib.figure.Figure at 0xa31da30>"
      ]
     },
     "metadata": {},
     "output_type": "display_data"
    }
   ],
   "source": [
    "import seaborn as sns\n",
    "sns.heatmap(data.corr(),square=True, cmap='RdYlGn')"
   ]
  },
  {
   "cell_type": "code",
   "execution_count": 125,
   "metadata": {},
   "outputs": [
    {
     "data": {
      "text/plain": [
       "Text(0,0.5,'life')"
      ]
     },
     "execution_count": 125,
     "metadata": {},
     "output_type": "execute_result"
    },
    {
     "data": {
      "image/png": "[encoded data removed]",
      "text/plain": [
       "<matplotlib.figure.Figure at 0xafe3950>"
      ]
     },
     "metadata": {},
     "output_type": "display_data"
    }
   ],
   "source": [
    "from sklearn import linear_model \n",
    "regr1 = linear_model.LinearRegression()  \n",
    "regr1.fit(data.fertility.values.reshape(-1, 1), data.life.values.reshape(-1, 1))  \n",
    "plt.scatter(data.fertility.values.reshape(-1, 1), data.life.values.reshape(-1, 1),color='blue')  \n",
    "plt.plot(data.fertility.values.reshape(-1, 1), regr1.predict(data.fertility.values.reshape(-1, 1)),color='black',linewidth=4) \n",
    "plt.xlabel(\"fertility\")  \n",
    "plt.ylabel('life')  "
   ]
  },
  {
   "cell_type": "code",
   "execution_count": 116,
   "metadata": {},
   "outputs": [
    {
     "data": {
      "text/plain": [
       "90.61563223139837"
      ]
     },
     "execution_count": 116,
     "metadata": {},
     "output_type": "execute_result"
    }
   ],
   "source": [
    "X = data[['population','fertility', 'HIV', 'CO2' ,'BMI_male','GDP','BMI_female','child_mortality']]  \n",
    "y=data['life']\n",
    "X_train,X_test, y_train, y_test = train_test_split(X, y, random_state=1)  \n",
    "model=linreg.fit(X_train, y_train)  \n",
    "linreg.intercept_ "
   ]
  },
  {
   "cell_type": "code",
   "execution_count": 117,
   "metadata": {},
   "outputs": [
    {
     "data": {
      "text/plain": [
       "(['TV', 'radio', 'newspaper'],\n",
       " array([ 8.22e-09, -6.33e-01, -7.16e-01, -2.14e-01,  4.04e-01,  1.37e-04,\n",
       "        -2.01e-01, -8.42e-02]))"
      ]
     },
     "execution_count": 117,
     "metadata": {},
     "output_type": "execute_result"
    }
   ],
   "source": [
    "feature_cols,linreg.coef_"
   ]
  },
  {
   "cell_type": "code",
   "execution_count": 118,
   "metadata": {},
   "outputs": [
    {
     "data": {
      "text/plain": [
       "array([78.15, 76.9 , 77.95, 74.15, 79.16, 71.81, 75.88, 57.51, 71.86,\n",
       "       83.87, 56.44, 69.5 , 76.92, 76.62, 61.06, 56.87, 73.21, 64.51,\n",
       "       73.14, 54.93, 72.85, 75.56, 79.78, 75.86, 76.27, 74.09, 64.96,\n",
       "       75.06, 74.07, 54.06, 49.1 , 70.32, 78.35, 73.41, 75.09])"
      ]
     },
     "execution_count": 118,
     "metadata": {},
     "output_type": "execute_result"
    }
   ],
   "source": [
    "y_pred = linreg.predict(X_test)  \n",
    "y_pred  "
   ]
  },
  {
   "cell_type": "code",
   "execution_count": 122,
   "metadata": {},
   "outputs": [
    {
     "data": {
      "text/plain": [
       "0.6192442167740038"
      ]
     },
     "execution_count": 122,
     "metadata": {},
     "output_type": "execute_result"
    }
   ],
   "source": [
    "#score in step 2\n",
    "regr1.score(data.fertility.values.reshape(-1,1),data.life.values.reshape(-1,1))"
   ]
  },
  {
   "cell_type": "code",
   "execution_count": 126,
   "metadata": {},
   "outputs": [
    {
     "data": {
      "text/plain": [
       "0.743922223791101"
      ]
     },
     "execution_count": 126,
     "metadata": {},
     "output_type": "execute_result"
    }
   ],
   "source": [
    "#score in step 3\n",
    "model.score(X_test,y_test)\n",
    "#From the result we can see the score in step 3 is higher than step 2."
   ]
  },
  {
   "cell_type": "code",
   "execution_count": 136,
   "metadata": {},
   "outputs": [
    {
     "data": {
      "text/plain": [
       "array([0.82, 0.83, 0.9 , 0.81, 0.94])"
      ]
     },
     "execution_count": 136,
     "metadata": {},
     "output_type": "execute_result"
    }
   ],
   "source": [
    "from sklearn.model_selection import cross_val_predict\n",
    "from sklearn.model_selection import cross_val_score\n",
    "lr = linear_model.LinearRegression()\n",
    "cross_val_score(model, X, y,cv=5)\n",
    "#After apply 5-fold cross-validation, the accuracy of model increase significantly"
   ]
  },
  {
   "cell_type": "code",
   "execution_count": 138,
   "metadata": {},
   "outputs": [
    {
     "data": {
      "text/html": [
       "<div>\n",
       "<style scoped>\n",
       "    .dataframe tbody tr th:only-of-type {\n",
       "        vertical-align: middle;\n",
       "    }\n",
       "\n",
       "    .dataframe tbody tr th {\n",
       "        vertical-align: top;\n",
       "    }\n",
       "\n",
       "    .dataframe thead th {\n",
       "        text-align: right;\n",
       "    }\n",
       "</style>\n",
       "<table border=\"1\" class=\"dataframe\">\n",
       "  <thead>\n",
       "    <tr style=\"text-align: right;\">\n",
       "      <th></th>\n",
       "      <th>id</th>\n",
       "      <th>name</th>\n",
       "      <th>familyname</th>\n",
       "      <th>dob</th>\n",
       "      <th>gender</th>\n",
       "      <th>income</th>\n",
       "      <th>age</th>\n",
       "    </tr>\n",
       "  </thead>\n",
       "  <tbody>\n",
       "    <tr>\n",
       "      <th>0</th>\n",
       "      <td>a</td>\n",
       "      <td>cersei</td>\n",
       "      <td>lannister</td>\n",
       "      <td>01-01-1975</td>\n",
       "      <td>f</td>\n",
       "      <td>8000</td>\n",
       "      <td>43</td>\n",
       "    </tr>\n",
       "    <tr>\n",
       "      <th>1</th>\n",
       "      <td>b</td>\n",
       "      <td>daenerys</td>\n",
       "      <td>targaryen</td>\n",
       "      <td>01-02-1980</td>\n",
       "      <td>f</td>\n",
       "      <td>6000</td>\n",
       "      <td>38</td>\n",
       "    </tr>\n",
       "    <tr>\n",
       "      <th>2</th>\n",
       "      <td>c</td>\n",
       "      <td>jon</td>\n",
       "      <td>snow</td>\n",
       "      <td>01-03-1970</td>\n",
       "      <td>m</td>\n",
       "      <td>7000</td>\n",
       "      <td>48</td>\n",
       "    </tr>\n",
       "    <tr>\n",
       "      <th>3</th>\n",
       "      <td>d</td>\n",
       "      <td>arya</td>\n",
       "      <td>stark</td>\n",
       "      <td>01-04-2000</td>\n",
       "      <td>f</td>\n",
       "      <td>6500</td>\n",
       "      <td>18</td>\n",
       "    </tr>\n",
       "    <tr>\n",
       "      <th>4</th>\n",
       "      <td>e</td>\n",
       "      <td>sansa</td>\n",
       "      <td>stark</td>\n",
       "      <td>01-05-1990</td>\n",
       "      <td>f</td>\n",
       "      <td>5500</td>\n",
       "      <td>28</td>\n",
       "    </tr>\n",
       "  </tbody>\n",
       "</table>\n",
       "</div>"
      ],
      "text/plain": [
       "  id      name familyname         dob gender  income  age\n",
       "0  a    cersei  lannister  01-01-1975      f    8000   43\n",
       "1  b  daenerys  targaryen  01-02-1980      f    6000   38\n",
       "2  c       jon       snow  01-03-1970      m    7000   48\n",
       "3  d      arya      stark  01-04-2000      f    6500   18\n",
       "4  e     sansa      stark  01-05-1990      f    5500   28"
      ]
     },
     "execution_count": 138,
     "metadata": {},
     "output_type": "execute_result"
    }
   ],
   "source": [
    "#Review questions \n",
    "#1\n",
    "df1=pd.read_csv('data-review/got_data_1.csv')\n",
    "df1.head()"
   ]
  },
  {
   "cell_type": "code",
   "execution_count": 139,
   "metadata": {},
   "outputs": [
    {
     "data": {
      "text/html": [
       "<div>\n",
       "<style scoped>\n",
       "    .dataframe tbody tr th:only-of-type {\n",
       "        vertical-align: middle;\n",
       "    }\n",
       "\n",
       "    .dataframe tbody tr th {\n",
       "        vertical-align: top;\n",
       "    }\n",
       "\n",
       "    .dataframe thead th {\n",
       "        text-align: right;\n",
       "    }\n",
       "</style>\n",
       "<table border=\"1\" class=\"dataframe\">\n",
       "  <thead>\n",
       "    <tr style=\"text-align: right;\">\n",
       "      <th></th>\n",
       "      <th>id</th>\n",
       "      <th>fullname</th>\n",
       "      <th>dob</th>\n",
       "      <th>gender</th>\n",
       "      <th>age</th>\n",
       "      <th>income</th>\n",
       "    </tr>\n",
       "  </thead>\n",
       "  <tbody>\n",
       "    <tr>\n",
       "      <th>0</th>\n",
       "      <td>1</td>\n",
       "      <td>eddard stark</td>\n",
       "      <td>1965-12-01</td>\n",
       "      <td>0</td>\n",
       "      <td>53.0</td>\n",
       "      <td>100000</td>\n",
       "    </tr>\n",
       "    <tr>\n",
       "      <th>1</th>\n",
       "      <td>2</td>\n",
       "      <td>petyr baelish</td>\n",
       "      <td>NaN</td>\n",
       "      <td>0</td>\n",
       "      <td>NaN</td>\n",
       "      <td>85000</td>\n",
       "    </tr>\n",
       "    <tr>\n",
       "      <th>2</th>\n",
       "      <td>1</td>\n",
       "      <td>jaime lannister</td>\n",
       "      <td>1975-12-08</td>\n",
       "      <td>0</td>\n",
       "      <td>43.0</td>\n",
       "      <td>90000</td>\n",
       "    </tr>\n",
       "    <tr>\n",
       "      <th>3</th>\n",
       "      <td>3</td>\n",
       "      <td>margaery tyrell</td>\n",
       "      <td>1995-31-31</td>\n",
       "      <td>1</td>\n",
       "      <td>23.0</td>\n",
       "      <td>105000</td>\n",
       "    </tr>\n",
       "    <tr>\n",
       "      <th>4</th>\n",
       "      <td>4</td>\n",
       "      <td>ramsay bolton</td>\n",
       "      <td>1985-10-12</td>\n",
       "      <td>1</td>\n",
       "      <td>33.0</td>\n",
       "      <td>92000</td>\n",
       "    </tr>\n",
       "  </tbody>\n",
       "</table>\n",
       "</div>"
      ],
      "text/plain": [
       "   id         fullname         dob  gender   age  income\n",
       "0   1     eddard stark  1965-12-01       0  53.0  100000\n",
       "1   2    petyr baelish         NaN       0   NaN   85000\n",
       "2   1  jaime lannister  1975-12-08       0  43.0   90000\n",
       "3   3  margaery tyrell  1995-31-31       1  23.0  105000\n",
       "4   4    ramsay bolton  1985-10-12       1  33.0   92000"
      ]
     },
     "execution_count": 139,
     "metadata": {},
     "output_type": "execute_result"
    }
   ],
   "source": [
    "df2=pd.read_csv('data-review/got_data_2.csv')\n",
    "df2.head()"
   ]
  },
  {
   "cell_type": "code",
   "execution_count": 142,
   "metadata": {},
   "outputs": [
    {
     "name": "stdout",
     "output_type": "stream",
     "text": [
      "<class 'pandas.core.frame.DataFrame'>\n",
      "RangeIndex: 10 entries, 0 to 9\n",
      "Data columns (total 7 columns):\n",
      "id            10 non-null object\n",
      "name          10 non-null object\n",
      "familyname    8 non-null object\n",
      "dob           10 non-null object\n",
      "gender        10 non-null object\n",
      "income        10 non-null int64\n",
      "age           10 non-null int64\n",
      "dtypes: int64(2), object(5)\n",
      "memory usage: 400.0+ bytes\n"
     ]
    }
   ],
   "source": [
    "#read attributes\n",
    "df1.info()"
   ]
  },
  {
   "cell_type": "code",
   "execution_count": 143,
   "metadata": {},
   "outputs": [
    {
     "name": "stdout",
     "output_type": "stream",
     "text": [
      "<class 'pandas.core.frame.DataFrame'>\n",
      "RangeIndex: 10 entries, 0 to 9\n",
      "Data columns (total 6 columns):\n",
      "id          10 non-null int64\n",
      "fullname    10 non-null object\n",
      "dob         8 non-null object\n",
      "gender      10 non-null int64\n",
      "age         7 non-null float64\n",
      "income      10 non-null int64\n",
      "dtypes: float64(1), int64(3), object(2)\n",
      "memory usage: 440.0+ bytes\n"
     ]
    }
   ],
   "source": [
    "df2.info()"
   ]
  },
  {
   "cell_type": "code",
   "execution_count": 144,
   "metadata": {},
   "outputs": [],
   "source": [
    "# Problems in data sets\n",
    "#In dataset1, the name and family name are redudant, can be combined.ID is named in alphabet sequence, and the fomat of dob is different from dataset 2.\n",
    "#In dataset2, there are some missing data in dob and age.\n",
    "#All these problems may cause some obstruction in future data analytics."
   ]
  },
  {
   "cell_type": "code",
   "execution_count": null,
   "metadata": {},
   "outputs": [],
   "source": [
    "#Clean datasets\n",
    "import pandas as pd\n",
    "import numpy as np\n",
    "df1['fullname'] = df1['name'] +' '+df1['familyname']\n",
    "df1.drop(['name','familyname'],axis=1,inplace=True)"
   ]
  },
  {
   "cell_type": "code",
   "execution_count": 163,
   "metadata": {},
   "outputs": [
    {
     "data": {
      "text/html": [
       "<div>\n",
       "<style scoped>\n",
       "    .dataframe tbody tr th:only-of-type {\n",
       "        vertical-align: middle;\n",
       "    }\n",
       "\n",
       "    .dataframe tbody tr th {\n",
       "        vertical-align: top;\n",
       "    }\n",
       "\n",
       "    .dataframe thead th {\n",
       "        text-align: right;\n",
       "    }\n",
       "</style>\n",
       "<table border=\"1\" class=\"dataframe\">\n",
       "  <thead>\n",
       "    <tr style=\"text-align: right;\">\n",
       "      <th></th>\n",
       "      <th>dob</th>\n",
       "      <th>gender</th>\n",
       "      <th>income</th>\n",
       "      <th>age</th>\n",
       "      <th>fullname</th>\n",
       "    </tr>\n",
       "  </thead>\n",
       "  <tbody>\n",
       "    <tr>\n",
       "      <th>0</th>\n",
       "      <td>01-01-1975</td>\n",
       "      <td>f</td>\n",
       "      <td>8000</td>\n",
       "      <td>43</td>\n",
       "      <td>cersei lannister</td>\n",
       "    </tr>\n",
       "    <tr>\n",
       "      <th>1</th>\n",
       "      <td>01-02-1980</td>\n",
       "      <td>f</td>\n",
       "      <td>6000</td>\n",
       "      <td>38</td>\n",
       "      <td>daenerys targaryen</td>\n",
       "    </tr>\n",
       "    <tr>\n",
       "      <th>2</th>\n",
       "      <td>01-03-1970</td>\n",
       "      <td>m</td>\n",
       "      <td>7000</td>\n",
       "      <td>48</td>\n",
       "      <td>jon snow</td>\n",
       "    </tr>\n",
       "    <tr>\n",
       "      <th>3</th>\n",
       "      <td>01-04-2000</td>\n",
       "      <td>f</td>\n",
       "      <td>6500</td>\n",
       "      <td>18</td>\n",
       "      <td>arya stark</td>\n",
       "    </tr>\n",
       "    <tr>\n",
       "      <th>4</th>\n",
       "      <td>01-05-1990</td>\n",
       "      <td>f</td>\n",
       "      <td>5500</td>\n",
       "      <td>28</td>\n",
       "      <td>sansa stark</td>\n",
       "    </tr>\n",
       "    <tr>\n",
       "      <th>5</th>\n",
       "      <td>10-10-1985</td>\n",
       "      <td>f</td>\n",
       "      <td>7500</td>\n",
       "      <td>33</td>\n",
       "      <td>UNKNOWN</td>\n",
       "    </tr>\n",
       "    <tr>\n",
       "      <th>6</th>\n",
       "      <td>12-12-1980</td>\n",
       "      <td>m</td>\n",
       "      <td>8500</td>\n",
       "      <td>38</td>\n",
       "      <td>tyrion lannister</td>\n",
       "    </tr>\n",
       "    <tr>\n",
       "      <th>7</th>\n",
       "      <td>15-07-1998</td>\n",
       "      <td>m</td>\n",
       "      <td>10000</td>\n",
       "      <td>20</td>\n",
       "      <td>joffrey baratheon</td>\n",
       "    </tr>\n",
       "    <tr>\n",
       "      <th>8</th>\n",
       "      <td>31-01-1985</td>\n",
       "      <td>m</td>\n",
       "      <td>9000</td>\n",
       "      <td>33</td>\n",
       "      <td>UNKNOWN</td>\n",
       "    </tr>\n",
       "    <tr>\n",
       "      <th>9</th>\n",
       "      <td>30-03-1990</td>\n",
       "      <td>m</td>\n",
       "      <td>9500</td>\n",
       "      <td>28</td>\n",
       "      <td>theon greyjoy</td>\n",
       "    </tr>\n",
       "  </tbody>\n",
       "</table>\n",
       "</div>"
      ],
      "text/plain": [
       "          dob gender  income  age            fullname\n",
       "0  01-01-1975      f    8000   43    cersei lannister\n",
       "1  01-02-1980      f    6000   38  daenerys targaryen\n",
       "2  01-03-1970      m    7000   48            jon snow\n",
       "3  01-04-2000      f    6500   18          arya stark\n",
       "4  01-05-1990      f    5500   28         sansa stark\n",
       "5  10-10-1985      f    7500   33             UNKNOWN\n",
       "6  12-12-1980      m    8500   38    tyrion lannister\n",
       "7  15-07-1998      m   10000   20   joffrey baratheon\n",
       "8  31-01-1985      m    9000   33             UNKNOWN\n",
       "9  30-03-1990      m    9500   28       theon greyjoy"
      ]
     },
     "execution_count": 163,
     "metadata": {},
     "output_type": "execute_result"
    }
   ],
   "source": [
    "df1.fillna(value='UNKNOWN')"
   ]
  },
  {
   "cell_type": "code",
   "execution_count": 159,
   "metadata": {},
   "outputs": [],
   "source": [
    "df1.drop(['id'],axis=1,inplace=True)"
   ]
  },
  {
   "cell_type": "code",
   "execution_count": 164,
   "metadata": {},
   "outputs": [
    {
     "data": {
      "text/html": [
       "<div>\n",
       "<style scoped>\n",
       "    .dataframe tbody tr th:only-of-type {\n",
       "        vertical-align: middle;\n",
       "    }\n",
       "\n",
       "    .dataframe tbody tr th {\n",
       "        vertical-align: top;\n",
       "    }\n",
       "\n",
       "    .dataframe thead th {\n",
       "        text-align: right;\n",
       "    }\n",
       "</style>\n",
       "<table border=\"1\" class=\"dataframe\">\n",
       "  <thead>\n",
       "    <tr style=\"text-align: right;\">\n",
       "      <th></th>\n",
       "      <th>dob</th>\n",
       "      <th>gender</th>\n",
       "      <th>income</th>\n",
       "      <th>age</th>\n",
       "      <th>fullname</th>\n",
       "    </tr>\n",
       "  </thead>\n",
       "  <tbody>\n",
       "    <tr>\n",
       "      <th>0</th>\n",
       "      <td>01-01-1975</td>\n",
       "      <td>f</td>\n",
       "      <td>8000</td>\n",
       "      <td>43</td>\n",
       "      <td>cersei lannister</td>\n",
       "    </tr>\n",
       "    <tr>\n",
       "      <th>1</th>\n",
       "      <td>01-02-1980</td>\n",
       "      <td>f</td>\n",
       "      <td>6000</td>\n",
       "      <td>38</td>\n",
       "      <td>daenerys targaryen</td>\n",
       "    </tr>\n",
       "    <tr>\n",
       "      <th>2</th>\n",
       "      <td>01-03-1970</td>\n",
       "      <td>m</td>\n",
       "      <td>7000</td>\n",
       "      <td>48</td>\n",
       "      <td>jon snow</td>\n",
       "    </tr>\n",
       "    <tr>\n",
       "      <th>3</th>\n",
       "      <td>01-04-2000</td>\n",
       "      <td>f</td>\n",
       "      <td>6500</td>\n",
       "      <td>18</td>\n",
       "      <td>arya stark</td>\n",
       "    </tr>\n",
       "    <tr>\n",
       "      <th>4</th>\n",
       "      <td>01-05-1990</td>\n",
       "      <td>f</td>\n",
       "      <td>5500</td>\n",
       "      <td>28</td>\n",
       "      <td>sansa stark</td>\n",
       "    </tr>\n",
       "    <tr>\n",
       "      <th>5</th>\n",
       "      <td>10-10-1985</td>\n",
       "      <td>f</td>\n",
       "      <td>7500</td>\n",
       "      <td>33</td>\n",
       "      <td>UNKNOWN</td>\n",
       "    </tr>\n",
       "    <tr>\n",
       "      <th>6</th>\n",
       "      <td>12-12-1980</td>\n",
       "      <td>m</td>\n",
       "      <td>8500</td>\n",
       "      <td>38</td>\n",
       "      <td>tyrion lannister</td>\n",
       "    </tr>\n",
       "    <tr>\n",
       "      <th>7</th>\n",
       "      <td>15-07-1998</td>\n",
       "      <td>m</td>\n",
       "      <td>10000</td>\n",
       "      <td>20</td>\n",
       "      <td>joffrey baratheon</td>\n",
       "    </tr>\n",
       "    <tr>\n",
       "      <th>8</th>\n",
       "      <td>31-01-1985</td>\n",
       "      <td>m</td>\n",
       "      <td>9000</td>\n",
       "      <td>33</td>\n",
       "      <td>UNKNOWN</td>\n",
       "    </tr>\n",
       "    <tr>\n",
       "      <th>9</th>\n",
       "      <td>30-03-1990</td>\n",
       "      <td>m</td>\n",
       "      <td>9500</td>\n",
       "      <td>28</td>\n",
       "      <td>theon greyjoy</td>\n",
       "    </tr>\n",
       "  </tbody>\n",
       "</table>\n",
       "</div>"
      ],
      "text/plain": [
       "          dob gender  income  age            fullname\n",
       "0  01-01-1975      f    8000   43    cersei lannister\n",
       "1  01-02-1980      f    6000   38  daenerys targaryen\n",
       "2  01-03-1970      m    7000   48            jon snow\n",
       "3  01-04-2000      f    6500   18          arya stark\n",
       "4  01-05-1990      f    5500   28         sansa stark\n",
       "5  10-10-1985      f    7500   33             UNKNOWN\n",
       "6  12-12-1980      m    8500   38    tyrion lannister\n",
       "7  15-07-1998      m   10000   20   joffrey baratheon\n",
       "8  31-01-1985      m    9000   33             UNKNOWN\n",
       "9  30-03-1990      m    9500   28       theon greyjoy"
      ]
     },
     "execution_count": 164,
     "metadata": {},
     "output_type": "execute_result"
    }
   ],
   "source": [
    "df1"
   ]
  },
  {
   "cell_type": "code",
   "execution_count": 166,
   "metadata": {},
   "outputs": [],
   "source": [
    "df2.drop(['id'],axis=1,inplace=True)"
   ]
  },
  {
   "cell_type": "code",
   "execution_count": 167,
   "metadata": {},
   "outputs": [
    {
     "data": {
      "text/html": [
       "<div>\n",
       "<style scoped>\n",
       "    .dataframe tbody tr th:only-of-type {\n",
       "        vertical-align: middle;\n",
       "    }\n",
       "\n",
       "    .dataframe tbody tr th {\n",
       "        vertical-align: top;\n",
       "    }\n",
       "\n",
       "    .dataframe thead th {\n",
       "        text-align: right;\n",
       "    }\n",
       "</style>\n",
       "<table border=\"1\" class=\"dataframe\">\n",
       "  <thead>\n",
       "    <tr style=\"text-align: right;\">\n",
       "      <th></th>\n",
       "      <th>fullname</th>\n",
       "      <th>dob</th>\n",
       "      <th>gender</th>\n",
       "      <th>age</th>\n",
       "      <th>income</th>\n",
       "    </tr>\n",
       "  </thead>\n",
       "  <tbody>\n",
       "    <tr>\n",
       "      <th>0</th>\n",
       "      <td>eddard stark</td>\n",
       "      <td>1965-12-01</td>\n",
       "      <td>0</td>\n",
       "      <td>53.0</td>\n",
       "      <td>100000</td>\n",
       "    </tr>\n",
       "    <tr>\n",
       "      <th>1</th>\n",
       "      <td>petyr baelish</td>\n",
       "      <td>NaN</td>\n",
       "      <td>0</td>\n",
       "      <td>NaN</td>\n",
       "      <td>85000</td>\n",
       "    </tr>\n",
       "    <tr>\n",
       "      <th>2</th>\n",
       "      <td>jaime lannister</td>\n",
       "      <td>1975-12-08</td>\n",
       "      <td>0</td>\n",
       "      <td>43.0</td>\n",
       "      <td>90000</td>\n",
       "    </tr>\n",
       "    <tr>\n",
       "      <th>3</th>\n",
       "      <td>margaery tyrell</td>\n",
       "      <td>1995-31-31</td>\n",
       "      <td>1</td>\n",
       "      <td>23.0</td>\n",
       "      <td>105000</td>\n",
       "    </tr>\n",
       "    <tr>\n",
       "      <th>4</th>\n",
       "      <td>ramsay bolton</td>\n",
       "      <td>1985-10-12</td>\n",
       "      <td>1</td>\n",
       "      <td>33.0</td>\n",
       "      <td>92000</td>\n",
       "    </tr>\n",
       "    <tr>\n",
       "      <th>5</th>\n",
       "      <td>brienne of-tarth</td>\n",
       "      <td>12345678</td>\n",
       "      <td>2</td>\n",
       "      <td>NaN</td>\n",
       "      <td>73000</td>\n",
       "    </tr>\n",
       "    <tr>\n",
       "      <th>6</th>\n",
       "      <td>khal drogo</td>\n",
       "      <td>1975-30-03</td>\n",
       "      <td>0</td>\n",
       "      <td>43.0</td>\n",
       "      <td>84000</td>\n",
       "    </tr>\n",
       "    <tr>\n",
       "      <th>7</th>\n",
       "      <td>ygritte</td>\n",
       "      <td>1990-02-02</td>\n",
       "      <td>1</td>\n",
       "      <td>28.0</td>\n",
       "      <td>95000</td>\n",
       "    </tr>\n",
       "    <tr>\n",
       "      <th>8</th>\n",
       "      <td>shae</td>\n",
       "      <td>NaN</td>\n",
       "      <td>1</td>\n",
       "      <td>NaN</td>\n",
       "      <td>150000</td>\n",
       "    </tr>\n",
       "    <tr>\n",
       "      <th>9</th>\n",
       "      <td>stannis baratheon</td>\n",
       "      <td>1970-66-66</td>\n",
       "      <td>0</td>\n",
       "      <td>48.0</td>\n",
       "      <td>110000</td>\n",
       "    </tr>\n",
       "  </tbody>\n",
       "</table>\n",
       "</div>"
      ],
      "text/plain": [
       "            fullname         dob  gender   age  income\n",
       "0       eddard stark  1965-12-01       0  53.0  100000\n",
       "1      petyr baelish         NaN       0   NaN   85000\n",
       "2    jaime lannister  1975-12-08       0  43.0   90000\n",
       "3    margaery tyrell  1995-31-31       1  23.0  105000\n",
       "4      ramsay bolton  1985-10-12       1  33.0   92000\n",
       "5   brienne of-tarth    12345678       2   NaN   73000\n",
       "6         khal drogo  1975-30-03       0  43.0   84000\n",
       "7            ygritte  1990-02-02       1  28.0   95000\n",
       "8               shae         NaN       1   NaN  150000\n",
       "9  stannis baratheon  1970-66-66       0  48.0  110000"
      ]
     },
     "execution_count": 167,
     "metadata": {},
     "output_type": "execute_result"
    }
   ],
   "source": [
    "df2"
   ]
  },
  {
   "cell_type": "code",
   "execution_count": 168,
   "metadata": {},
   "outputs": [
    {
     "data": {
      "text/html": [
       "<div>\n",
       "<style scoped>\n",
       "    .dataframe tbody tr th:only-of-type {\n",
       "        vertical-align: middle;\n",
       "    }\n",
       "\n",
       "    .dataframe tbody tr th {\n",
       "        vertical-align: top;\n",
       "    }\n",
       "\n",
       "    .dataframe thead th {\n",
       "        text-align: right;\n",
       "    }\n",
       "</style>\n",
       "<table border=\"1\" class=\"dataframe\">\n",
       "  <thead>\n",
       "    <tr style=\"text-align: right;\">\n",
       "      <th></th>\n",
       "      <th>fullname</th>\n",
       "      <th>dob</th>\n",
       "      <th>gender</th>\n",
       "      <th>age</th>\n",
       "      <th>income</th>\n",
       "    </tr>\n",
       "  </thead>\n",
       "  <tbody>\n",
       "    <tr>\n",
       "      <th>0</th>\n",
       "      <td>eddard stark</td>\n",
       "      <td>1965-12-01</td>\n",
       "      <td>0</td>\n",
       "      <td>53</td>\n",
       "      <td>100000</td>\n",
       "    </tr>\n",
       "    <tr>\n",
       "      <th>1</th>\n",
       "      <td>petyr baelish</td>\n",
       "      <td>UNKNOWN</td>\n",
       "      <td>0</td>\n",
       "      <td>UNKNOWN</td>\n",
       "      <td>85000</td>\n",
       "    </tr>\n",
       "    <tr>\n",
       "      <th>2</th>\n",
       "      <td>jaime lannister</td>\n",
       "      <td>1975-12-08</td>\n",
       "      <td>0</td>\n",
       "      <td>43</td>\n",
       "      <td>90000</td>\n",
       "    </tr>\n",
       "    <tr>\n",
       "      <th>3</th>\n",
       "      <td>margaery tyrell</td>\n",
       "      <td>1995-31-31</td>\n",
       "      <td>1</td>\n",
       "      <td>23</td>\n",
       "      <td>105000</td>\n",
       "    </tr>\n",
       "    <tr>\n",
       "      <th>4</th>\n",
       "      <td>ramsay bolton</td>\n",
       "      <td>1985-10-12</td>\n",
       "      <td>1</td>\n",
       "      <td>33</td>\n",
       "      <td>92000</td>\n",
       "    </tr>\n",
       "    <tr>\n",
       "      <th>5</th>\n",
       "      <td>brienne of-tarth</td>\n",
       "      <td>12345678</td>\n",
       "      <td>2</td>\n",
       "      <td>UNKNOWN</td>\n",
       "      <td>73000</td>\n",
       "    </tr>\n",
       "    <tr>\n",
       "      <th>6</th>\n",
       "      <td>khal drogo</td>\n",
       "      <td>1975-30-03</td>\n",
       "      <td>0</td>\n",
       "      <td>43</td>\n",
       "      <td>84000</td>\n",
       "    </tr>\n",
       "    <tr>\n",
       "      <th>7</th>\n",
       "      <td>ygritte</td>\n",
       "      <td>1990-02-02</td>\n",
       "      <td>1</td>\n",
       "      <td>28</td>\n",
       "      <td>95000</td>\n",
       "    </tr>\n",
       "    <tr>\n",
       "      <th>8</th>\n",
       "      <td>shae</td>\n",
       "      <td>UNKNOWN</td>\n",
       "      <td>1</td>\n",
       "      <td>UNKNOWN</td>\n",
       "      <td>150000</td>\n",
       "    </tr>\n",
       "    <tr>\n",
       "      <th>9</th>\n",
       "      <td>stannis baratheon</td>\n",
       "      <td>1970-66-66</td>\n",
       "      <td>0</td>\n",
       "      <td>48</td>\n",
       "      <td>110000</td>\n",
       "    </tr>\n",
       "  </tbody>\n",
       "</table>\n",
       "</div>"
      ],
      "text/plain": [
       "            fullname         dob  gender      age  income\n",
       "0       eddard stark  1965-12-01       0       53  100000\n",
       "1      petyr baelish     UNKNOWN       0  UNKNOWN   85000\n",
       "2    jaime lannister  1975-12-08       0       43   90000\n",
       "3    margaery tyrell  1995-31-31       1       23  105000\n",
       "4      ramsay bolton  1985-10-12       1       33   92000\n",
       "5   brienne of-tarth    12345678       2  UNKNOWN   73000\n",
       "6         khal drogo  1975-30-03       0       43   84000\n",
       "7            ygritte  1990-02-02       1       28   95000\n",
       "8               shae     UNKNOWN       1  UNKNOWN  150000\n",
       "9  stannis baratheon  1970-66-66       0       48  110000"
      ]
     },
     "execution_count": 168,
     "metadata": {},
     "output_type": "execute_result"
    }
   ],
   "source": [
    "df2.fillna(value='UNKNOWN',inplace=True)\n",
    "df2"
   ]
  },
  {
   "cell_type": "code",
   "execution_count": 171,
   "metadata": {},
   "outputs": [],
   "source": [
    "df2.replace(['1995-31-31','12345678','2','1975-30-03','1970-66-66',],'UNKNOWN',inplace=True)"
   ]
  },
  {
   "cell_type": "code",
   "execution_count": 173,
   "metadata": {},
   "outputs": [],
   "source": [
    "df2.replace(2,'UNKNOWN',inplace=True)"
   ]
  },
  {
   "cell_type": "code",
   "execution_count": 174,
   "metadata": {},
   "outputs": [
    {
     "data": {
      "text/html": [
       "<div>\n",
       "<style scoped>\n",
       "    .dataframe tbody tr th:only-of-type {\n",
       "        vertical-align: middle;\n",
       "    }\n",
       "\n",
       "    .dataframe tbody tr th {\n",
       "        vertical-align: top;\n",
       "    }\n",
       "\n",
       "    .dataframe thead th {\n",
       "        text-align: right;\n",
       "    }\n",
       "</style>\n",
       "<table border=\"1\" class=\"dataframe\">\n",
       "  <thead>\n",
       "    <tr style=\"text-align: right;\">\n",
       "      <th></th>\n",
       "      <th>fullname</th>\n",
       "      <th>dob</th>\n",
       "      <th>gender</th>\n",
       "      <th>age</th>\n",
       "      <th>income</th>\n",
       "    </tr>\n",
       "  </thead>\n",
       "  <tbody>\n",
       "    <tr>\n",
       "      <th>0</th>\n",
       "      <td>eddard stark</td>\n",
       "      <td>1965-12-01</td>\n",
       "      <td>0</td>\n",
       "      <td>53</td>\n",
       "      <td>100000</td>\n",
       "    </tr>\n",
       "    <tr>\n",
       "      <th>1</th>\n",
       "      <td>petyr baelish</td>\n",
       "      <td>UNKNOWN</td>\n",
       "      <td>0</td>\n",
       "      <td>UNKNOWN</td>\n",
       "      <td>85000</td>\n",
       "    </tr>\n",
       "    <tr>\n",
       "      <th>2</th>\n",
       "      <td>jaime lannister</td>\n",
       "      <td>1975-12-08</td>\n",
       "      <td>0</td>\n",
       "      <td>43</td>\n",
       "      <td>90000</td>\n",
       "    </tr>\n",
       "    <tr>\n",
       "      <th>3</th>\n",
       "      <td>margaery tyrell</td>\n",
       "      <td>UNKNOWN</td>\n",
       "      <td>1</td>\n",
       "      <td>23</td>\n",
       "      <td>105000</td>\n",
       "    </tr>\n",
       "    <tr>\n",
       "      <th>4</th>\n",
       "      <td>ramsay bolton</td>\n",
       "      <td>1985-10-12</td>\n",
       "      <td>1</td>\n",
       "      <td>33</td>\n",
       "      <td>92000</td>\n",
       "    </tr>\n",
       "    <tr>\n",
       "      <th>5</th>\n",
       "      <td>brienne of-tarth</td>\n",
       "      <td>UNKNOWN</td>\n",
       "      <td>UNKNOWN</td>\n",
       "      <td>UNKNOWN</td>\n",
       "      <td>73000</td>\n",
       "    </tr>\n",
       "    <tr>\n",
       "      <th>6</th>\n",
       "      <td>khal drogo</td>\n",
       "      <td>UNKNOWN</td>\n",
       "      <td>0</td>\n",
       "      <td>43</td>\n",
       "      <td>84000</td>\n",
       "    </tr>\n",
       "    <tr>\n",
       "      <th>7</th>\n",
       "      <td>ygritte</td>\n",
       "      <td>1990-02-02</td>\n",
       "      <td>1</td>\n",
       "      <td>28</td>\n",
       "      <td>95000</td>\n",
       "    </tr>\n",
       "    <tr>\n",
       "      <th>8</th>\n",
       "      <td>shae</td>\n",
       "      <td>UNKNOWN</td>\n",
       "      <td>1</td>\n",
       "      <td>UNKNOWN</td>\n",
       "      <td>150000</td>\n",
       "    </tr>\n",
       "    <tr>\n",
       "      <th>9</th>\n",
       "      <td>stannis baratheon</td>\n",
       "      <td>UNKNOWN</td>\n",
       "      <td>0</td>\n",
       "      <td>48</td>\n",
       "      <td>110000</td>\n",
       "    </tr>\n",
       "  </tbody>\n",
       "</table>\n",
       "</div>"
      ],
      "text/plain": [
       "            fullname         dob   gender      age  income\n",
       "0       eddard stark  1965-12-01        0       53  100000\n",
       "1      petyr baelish     UNKNOWN        0  UNKNOWN   85000\n",
       "2    jaime lannister  1975-12-08        0       43   90000\n",
       "3    margaery tyrell     UNKNOWN        1       23  105000\n",
       "4      ramsay bolton  1985-10-12        1       33   92000\n",
       "5   brienne of-tarth     UNKNOWN  UNKNOWN  UNKNOWN   73000\n",
       "6         khal drogo     UNKNOWN        0       43   84000\n",
       "7            ygritte  1990-02-02        1       28   95000\n",
       "8               shae     UNKNOWN        1  UNKNOWN  150000\n",
       "9  stannis baratheon     UNKNOWN        0       48  110000"
      ]
     },
     "execution_count": 174,
     "metadata": {},
     "output_type": "execute_result"
    }
   ],
   "source": [
    "df2"
   ]
  },
  {
   "cell_type": "code",
   "execution_count": 178,
   "metadata": {},
   "outputs": [],
   "source": [
    "df1['dob']=pd.to_datetime(df1['dob'])"
   ]
  },
  {
   "cell_type": "code",
   "execution_count": 179,
   "metadata": {},
   "outputs": [
    {
     "data": {
      "text/html": [
       "<div>\n",
       "<style scoped>\n",
       "    .dataframe tbody tr th:only-of-type {\n",
       "        vertical-align: middle;\n",
       "    }\n",
       "\n",
       "    .dataframe tbody tr th {\n",
       "        vertical-align: top;\n",
       "    }\n",
       "\n",
       "    .dataframe thead th {\n",
       "        text-align: right;\n",
       "    }\n",
       "</style>\n",
       "<table border=\"1\" class=\"dataframe\">\n",
       "  <thead>\n",
       "    <tr style=\"text-align: right;\">\n",
       "      <th></th>\n",
       "      <th>dob</th>\n",
       "      <th>gender</th>\n",
       "      <th>income</th>\n",
       "      <th>age</th>\n",
       "      <th>fullname</th>\n",
       "    </tr>\n",
       "  </thead>\n",
       "  <tbody>\n",
       "    <tr>\n",
       "      <th>0</th>\n",
       "      <td>1975-01-01</td>\n",
       "      <td>f</td>\n",
       "      <td>8000</td>\n",
       "      <td>43</td>\n",
       "      <td>cersei lannister</td>\n",
       "    </tr>\n",
       "    <tr>\n",
       "      <th>1</th>\n",
       "      <td>1980-01-02</td>\n",
       "      <td>f</td>\n",
       "      <td>6000</td>\n",
       "      <td>38</td>\n",
       "      <td>daenerys targaryen</td>\n",
       "    </tr>\n",
       "    <tr>\n",
       "      <th>2</th>\n",
       "      <td>1970-01-03</td>\n",
       "      <td>m</td>\n",
       "      <td>7000</td>\n",
       "      <td>48</td>\n",
       "      <td>jon snow</td>\n",
       "    </tr>\n",
       "    <tr>\n",
       "      <th>3</th>\n",
       "      <td>2000-01-04</td>\n",
       "      <td>f</td>\n",
       "      <td>6500</td>\n",
       "      <td>18</td>\n",
       "      <td>arya stark</td>\n",
       "    </tr>\n",
       "    <tr>\n",
       "      <th>4</th>\n",
       "      <td>1990-01-05</td>\n",
       "      <td>f</td>\n",
       "      <td>5500</td>\n",
       "      <td>28</td>\n",
       "      <td>sansa stark</td>\n",
       "    </tr>\n",
       "    <tr>\n",
       "      <th>5</th>\n",
       "      <td>1985-10-10</td>\n",
       "      <td>f</td>\n",
       "      <td>7500</td>\n",
       "      <td>33</td>\n",
       "      <td>UNKNOWN</td>\n",
       "    </tr>\n",
       "    <tr>\n",
       "      <th>6</th>\n",
       "      <td>1980-12-12</td>\n",
       "      <td>m</td>\n",
       "      <td>8500</td>\n",
       "      <td>38</td>\n",
       "      <td>tyrion lannister</td>\n",
       "    </tr>\n",
       "    <tr>\n",
       "      <th>7</th>\n",
       "      <td>1998-07-15</td>\n",
       "      <td>m</td>\n",
       "      <td>10000</td>\n",
       "      <td>20</td>\n",
       "      <td>joffrey baratheon</td>\n",
       "    </tr>\n",
       "    <tr>\n",
       "      <th>8</th>\n",
       "      <td>1985-01-31</td>\n",
       "      <td>m</td>\n",
       "      <td>9000</td>\n",
       "      <td>33</td>\n",
       "      <td>UNKNOWN</td>\n",
       "    </tr>\n",
       "    <tr>\n",
       "      <th>9</th>\n",
       "      <td>1990-03-30</td>\n",
       "      <td>m</td>\n",
       "      <td>9500</td>\n",
       "      <td>28</td>\n",
       "      <td>theon greyjoy</td>\n",
       "    </tr>\n",
       "  </tbody>\n",
       "</table>\n",
       "</div>"
      ],
      "text/plain": [
       "         dob gender  income  age            fullname\n",
       "0 1975-01-01      f    8000   43    cersei lannister\n",
       "1 1980-01-02      f    6000   38  daenerys targaryen\n",
       "2 1970-01-03      m    7000   48            jon snow\n",
       "3 2000-01-04      f    6500   18          arya stark\n",
       "4 1990-01-05      f    5500   28         sansa stark\n",
       "5 1985-10-10      f    7500   33             UNKNOWN\n",
       "6 1980-12-12      m    8500   38    tyrion lannister\n",
       "7 1998-07-15      m   10000   20   joffrey baratheon\n",
       "8 1985-01-31      m    9000   33             UNKNOWN\n",
       "9 1990-03-30      m    9500   28       theon greyjoy"
      ]
     },
     "execution_count": 179,
     "metadata": {},
     "output_type": "execute_result"
    }
   ],
   "source": [
    "df1"
   ]
  },
  {
   "cell_type": "code",
   "execution_count": 180,
   "metadata": {},
   "outputs": [],
   "source": [
    "df2.replace(0,'m',inplace=True)\n",
    "df2.replace(1,'f',inplace=True)"
   ]
  },
  {
   "cell_type": "code",
   "execution_count": 181,
   "metadata": {},
   "outputs": [
    {
     "data": {
      "text/html": [
       "<div>\n",
       "<style scoped>\n",
       "    .dataframe tbody tr th:only-of-type {\n",
       "        vertical-align: middle;\n",
       "    }\n",
       "\n",
       "    .dataframe tbody tr th {\n",
       "        vertical-align: top;\n",
       "    }\n",
       "\n",
       "    .dataframe thead th {\n",
       "        text-align: right;\n",
       "    }\n",
       "</style>\n",
       "<table border=\"1\" class=\"dataframe\">\n",
       "  <thead>\n",
       "    <tr style=\"text-align: right;\">\n",
       "      <th></th>\n",
       "      <th>fullname</th>\n",
       "      <th>dob</th>\n",
       "      <th>gender</th>\n",
       "      <th>age</th>\n",
       "      <th>income</th>\n",
       "    </tr>\n",
       "  </thead>\n",
       "  <tbody>\n",
       "    <tr>\n",
       "      <th>0</th>\n",
       "      <td>eddard stark</td>\n",
       "      <td>1965-12-01</td>\n",
       "      <td>m</td>\n",
       "      <td>53</td>\n",
       "      <td>100000</td>\n",
       "    </tr>\n",
       "    <tr>\n",
       "      <th>1</th>\n",
       "      <td>petyr baelish</td>\n",
       "      <td>UNKNOWN</td>\n",
       "      <td>m</td>\n",
       "      <td>UNKNOWN</td>\n",
       "      <td>85000</td>\n",
       "    </tr>\n",
       "    <tr>\n",
       "      <th>2</th>\n",
       "      <td>jaime lannister</td>\n",
       "      <td>1975-12-08</td>\n",
       "      <td>m</td>\n",
       "      <td>43</td>\n",
       "      <td>90000</td>\n",
       "    </tr>\n",
       "    <tr>\n",
       "      <th>3</th>\n",
       "      <td>margaery tyrell</td>\n",
       "      <td>UNKNOWN</td>\n",
       "      <td>f</td>\n",
       "      <td>23</td>\n",
       "      <td>105000</td>\n",
       "    </tr>\n",
       "    <tr>\n",
       "      <th>4</th>\n",
       "      <td>ramsay bolton</td>\n",
       "      <td>1985-10-12</td>\n",
       "      <td>f</td>\n",
       "      <td>33</td>\n",
       "      <td>92000</td>\n",
       "    </tr>\n",
       "    <tr>\n",
       "      <th>5</th>\n",
       "      <td>brienne of-tarth</td>\n",
       "      <td>UNKNOWN</td>\n",
       "      <td>UNKNOWN</td>\n",
       "      <td>UNKNOWN</td>\n",
       "      <td>73000</td>\n",
       "    </tr>\n",
       "    <tr>\n",
       "      <th>6</th>\n",
       "      <td>khal drogo</td>\n",
       "      <td>UNKNOWN</td>\n",
       "      <td>m</td>\n",
       "      <td>43</td>\n",
       "      <td>84000</td>\n",
       "    </tr>\n",
       "    <tr>\n",
       "      <th>7</th>\n",
       "      <td>ygritte</td>\n",
       "      <td>1990-02-02</td>\n",
       "      <td>f</td>\n",
       "      <td>28</td>\n",
       "      <td>95000</td>\n",
       "    </tr>\n",
       "    <tr>\n",
       "      <th>8</th>\n",
       "      <td>shae</td>\n",
       "      <td>UNKNOWN</td>\n",
       "      <td>f</td>\n",
       "      <td>UNKNOWN</td>\n",
       "      <td>150000</td>\n",
       "    </tr>\n",
       "    <tr>\n",
       "      <th>9</th>\n",
       "      <td>stannis baratheon</td>\n",
       "      <td>UNKNOWN</td>\n",
       "      <td>m</td>\n",
       "      <td>48</td>\n",
       "      <td>110000</td>\n",
       "    </tr>\n",
       "  </tbody>\n",
       "</table>\n",
       "</div>"
      ],
      "text/plain": [
       "            fullname         dob   gender      age  income\n",
       "0       eddard stark  1965-12-01        m       53  100000\n",
       "1      petyr baelish     UNKNOWN        m  UNKNOWN   85000\n",
       "2    jaime lannister  1975-12-08        m       43   90000\n",
       "3    margaery tyrell     UNKNOWN        f       23  105000\n",
       "4      ramsay bolton  1985-10-12        f       33   92000\n",
       "5   brienne of-tarth     UNKNOWN  UNKNOWN  UNKNOWN   73000\n",
       "6         khal drogo     UNKNOWN        m       43   84000\n",
       "7            ygritte  1990-02-02        f       28   95000\n",
       "8               shae     UNKNOWN        f  UNKNOWN  150000\n",
       "9  stannis baratheon     UNKNOWN        m       48  110000"
      ]
     },
     "execution_count": 181,
     "metadata": {},
     "output_type": "execute_result"
    }
   ],
   "source": [
    "df2"
   ]
  },
  {
   "cell_type": "code",
   "execution_count": 182,
   "metadata": {},
   "outputs": [
    {
     "data": {
      "text/html": [
       "<div>\n",
       "<style scoped>\n",
       "    .dataframe tbody tr th:only-of-type {\n",
       "        vertical-align: middle;\n",
       "    }\n",
       "\n",
       "    .dataframe tbody tr th {\n",
       "        vertical-align: top;\n",
       "    }\n",
       "\n",
       "    .dataframe thead th {\n",
       "        text-align: right;\n",
       "    }\n",
       "</style>\n",
       "<table border=\"1\" class=\"dataframe\">\n",
       "  <thead>\n",
       "    <tr style=\"text-align: right;\">\n",
       "      <th></th>\n",
       "      <th>fullname</th>\n",
       "      <th>dob</th>\n",
       "      <th>gender</th>\n",
       "      <th>age</th>\n",
       "      <th>income</th>\n",
       "    </tr>\n",
       "  </thead>\n",
       "  <tbody>\n",
       "    <tr>\n",
       "      <th>0</th>\n",
       "      <td>eddard stark</td>\n",
       "      <td>1965-12-01</td>\n",
       "      <td>m</td>\n",
       "      <td>53</td>\n",
       "      <td>8333.333333</td>\n",
       "    </tr>\n",
       "    <tr>\n",
       "      <th>1</th>\n",
       "      <td>petyr baelish</td>\n",
       "      <td>UNKNOWN</td>\n",
       "      <td>m</td>\n",
       "      <td>UNKNOWN</td>\n",
       "      <td>7083.333333</td>\n",
       "    </tr>\n",
       "    <tr>\n",
       "      <th>2</th>\n",
       "      <td>jaime lannister</td>\n",
       "      <td>1975-12-08</td>\n",
       "      <td>m</td>\n",
       "      <td>43</td>\n",
       "      <td>7500.000000</td>\n",
       "    </tr>\n",
       "    <tr>\n",
       "      <th>3</th>\n",
       "      <td>margaery tyrell</td>\n",
       "      <td>UNKNOWN</td>\n",
       "      <td>f</td>\n",
       "      <td>23</td>\n",
       "      <td>8750.000000</td>\n",
       "    </tr>\n",
       "    <tr>\n",
       "      <th>4</th>\n",
       "      <td>ramsay bolton</td>\n",
       "      <td>1985-10-12</td>\n",
       "      <td>f</td>\n",
       "      <td>33</td>\n",
       "      <td>7666.666667</td>\n",
       "    </tr>\n",
       "    <tr>\n",
       "      <th>5</th>\n",
       "      <td>brienne of-tarth</td>\n",
       "      <td>UNKNOWN</td>\n",
       "      <td>UNKNOWN</td>\n",
       "      <td>UNKNOWN</td>\n",
       "      <td>6083.333333</td>\n",
       "    </tr>\n",
       "    <tr>\n",
       "      <th>6</th>\n",
       "      <td>khal drogo</td>\n",
       "      <td>UNKNOWN</td>\n",
       "      <td>m</td>\n",
       "      <td>43</td>\n",
       "      <td>7000.000000</td>\n",
       "    </tr>\n",
       "    <tr>\n",
       "      <th>7</th>\n",
       "      <td>ygritte</td>\n",
       "      <td>1990-02-02</td>\n",
       "      <td>f</td>\n",
       "      <td>28</td>\n",
       "      <td>7916.666667</td>\n",
       "    </tr>\n",
       "    <tr>\n",
       "      <th>8</th>\n",
       "      <td>shae</td>\n",
       "      <td>UNKNOWN</td>\n",
       "      <td>f</td>\n",
       "      <td>UNKNOWN</td>\n",
       "      <td>12500.000000</td>\n",
       "    </tr>\n",
       "    <tr>\n",
       "      <th>9</th>\n",
       "      <td>stannis baratheon</td>\n",
       "      <td>UNKNOWN</td>\n",
       "      <td>m</td>\n",
       "      <td>48</td>\n",
       "      <td>9166.666667</td>\n",
       "    </tr>\n",
       "  </tbody>\n",
       "</table>\n",
       "</div>"
      ],
      "text/plain": [
       "            fullname         dob   gender      age        income\n",
       "0       eddard stark  1965-12-01        m       53   8333.333333\n",
       "1      petyr baelish     UNKNOWN        m  UNKNOWN   7083.333333\n",
       "2    jaime lannister  1975-12-08        m       43   7500.000000\n",
       "3    margaery tyrell     UNKNOWN        f       23   8750.000000\n",
       "4      ramsay bolton  1985-10-12        f       33   7666.666667\n",
       "5   brienne of-tarth     UNKNOWN  UNKNOWN  UNKNOWN   6083.333333\n",
       "6         khal drogo     UNKNOWN        m       43   7000.000000\n",
       "7            ygritte  1990-02-02        f       28   7916.666667\n",
       "8               shae     UNKNOWN        f  UNKNOWN  12500.000000\n",
       "9  stannis baratheon     UNKNOWN        m       48   9166.666667"
      ]
     },
     "execution_count": 182,
     "metadata": {},
     "output_type": "execute_result"
    }
   ],
   "source": [
    "df2['income']=df2['income']/12\n",
    "df2"
   ]
  },
  {
   "cell_type": "code",
   "execution_count": 183,
   "metadata": {},
   "outputs": [
    {
     "data": {
      "text/html": [
       "<div>\n",
       "<style scoped>\n",
       "    .dataframe tbody tr th:only-of-type {\n",
       "        vertical-align: middle;\n",
       "    }\n",
       "\n",
       "    .dataframe tbody tr th {\n",
       "        vertical-align: top;\n",
       "    }\n",
       "\n",
       "    .dataframe thead th {\n",
       "        text-align: right;\n",
       "    }\n",
       "</style>\n",
       "<table border=\"1\" class=\"dataframe\">\n",
       "  <thead>\n",
       "    <tr style=\"text-align: right;\">\n",
       "      <th></th>\n",
       "      <th>age</th>\n",
       "      <th>dob</th>\n",
       "      <th>fullname</th>\n",
       "      <th>gender</th>\n",
       "      <th>income</th>\n",
       "    </tr>\n",
       "  </thead>\n",
       "  <tbody>\n",
       "    <tr>\n",
       "      <th>0</th>\n",
       "      <td>43</td>\n",
       "      <td>1975-01-01 00:00:00</td>\n",
       "      <td>cersei lannister</td>\n",
       "      <td>f</td>\n",
       "      <td>8000.000000</td>\n",
       "    </tr>\n",
       "    <tr>\n",
       "      <th>1</th>\n",
       "      <td>38</td>\n",
       "      <td>1980-01-02 00:00:00</td>\n",
       "      <td>daenerys targaryen</td>\n",
       "      <td>f</td>\n",
       "      <td>6000.000000</td>\n",
       "    </tr>\n",
       "    <tr>\n",
       "      <th>2</th>\n",
       "      <td>48</td>\n",
       "      <td>1970-01-03 00:00:00</td>\n",
       "      <td>jon snow</td>\n",
       "      <td>m</td>\n",
       "      <td>7000.000000</td>\n",
       "    </tr>\n",
       "    <tr>\n",
       "      <th>3</th>\n",
       "      <td>18</td>\n",
       "      <td>2000-01-04 00:00:00</td>\n",
       "      <td>arya stark</td>\n",
       "      <td>f</td>\n",
       "      <td>6500.000000</td>\n",
       "    </tr>\n",
       "    <tr>\n",
       "      <th>4</th>\n",
       "      <td>28</td>\n",
       "      <td>1990-01-05 00:00:00</td>\n",
       "      <td>sansa stark</td>\n",
       "      <td>f</td>\n",
       "      <td>5500.000000</td>\n",
       "    </tr>\n",
       "    <tr>\n",
       "      <th>5</th>\n",
       "      <td>33</td>\n",
       "      <td>1985-10-10 00:00:00</td>\n",
       "      <td>UNKNOWN</td>\n",
       "      <td>f</td>\n",
       "      <td>7500.000000</td>\n",
       "    </tr>\n",
       "    <tr>\n",
       "      <th>6</th>\n",
       "      <td>38</td>\n",
       "      <td>1980-12-12 00:00:00</td>\n",
       "      <td>tyrion lannister</td>\n",
       "      <td>m</td>\n",
       "      <td>8500.000000</td>\n",
       "    </tr>\n",
       "    <tr>\n",
       "      <th>7</th>\n",
       "      <td>20</td>\n",
       "      <td>1998-07-15 00:00:00</td>\n",
       "      <td>joffrey baratheon</td>\n",
       "      <td>m</td>\n",
       "      <td>10000.000000</td>\n",
       "    </tr>\n",
       "    <tr>\n",
       "      <th>8</th>\n",
       "      <td>33</td>\n",
       "      <td>1985-01-31 00:00:00</td>\n",
       "      <td>UNKNOWN</td>\n",
       "      <td>m</td>\n",
       "      <td>9000.000000</td>\n",
       "    </tr>\n",
       "    <tr>\n",
       "      <th>9</th>\n",
       "      <td>28</td>\n",
       "      <td>1990-03-30 00:00:00</td>\n",
       "      <td>theon greyjoy</td>\n",
       "      <td>m</td>\n",
       "      <td>9500.000000</td>\n",
       "    </tr>\n",
       "    <tr>\n",
       "      <th>0</th>\n",
       "      <td>53</td>\n",
       "      <td>1965-12-01</td>\n",
       "      <td>eddard stark</td>\n",
       "      <td>m</td>\n",
       "      <td>8333.333333</td>\n",
       "    </tr>\n",
       "    <tr>\n",
       "      <th>1</th>\n",
       "      <td>UNKNOWN</td>\n",
       "      <td>UNKNOWN</td>\n",
       "      <td>petyr baelish</td>\n",
       "      <td>m</td>\n",
       "      <td>7083.333333</td>\n",
       "    </tr>\n",
       "    <tr>\n",
       "      <th>2</th>\n",
       "      <td>43</td>\n",
       "      <td>1975-12-08</td>\n",
       "      <td>jaime lannister</td>\n",
       "      <td>m</td>\n",
       "      <td>7500.000000</td>\n",
       "    </tr>\n",
       "    <tr>\n",
       "      <th>3</th>\n",
       "      <td>23</td>\n",
       "      <td>UNKNOWN</td>\n",
       "      <td>margaery tyrell</td>\n",
       "      <td>f</td>\n",
       "      <td>8750.000000</td>\n",
       "    </tr>\n",
       "    <tr>\n",
       "      <th>4</th>\n",
       "      <td>33</td>\n",
       "      <td>1985-10-12</td>\n",
       "      <td>ramsay bolton</td>\n",
       "      <td>f</td>\n",
       "      <td>7666.666667</td>\n",
       "    </tr>\n",
       "    <tr>\n",
       "      <th>5</th>\n",
       "      <td>UNKNOWN</td>\n",
       "      <td>UNKNOWN</td>\n",
       "      <td>brienne of-tarth</td>\n",
       "      <td>UNKNOWN</td>\n",
       "      <td>6083.333333</td>\n",
       "    </tr>\n",
       "    <tr>\n",
       "      <th>6</th>\n",
       "      <td>43</td>\n",
       "      <td>UNKNOWN</td>\n",
       "      <td>khal drogo</td>\n",
       "      <td>m</td>\n",
       "      <td>7000.000000</td>\n",
       "    </tr>\n",
       "    <tr>\n",
       "      <th>7</th>\n",
       "      <td>28</td>\n",
       "      <td>1990-02-02</td>\n",
       "      <td>ygritte</td>\n",
       "      <td>f</td>\n",
       "      <td>7916.666667</td>\n",
       "    </tr>\n",
       "    <tr>\n",
       "      <th>8</th>\n",
       "      <td>UNKNOWN</td>\n",
       "      <td>UNKNOWN</td>\n",
       "      <td>shae</td>\n",
       "      <td>f</td>\n",
       "      <td>12500.000000</td>\n",
       "    </tr>\n",
       "    <tr>\n",
       "      <th>9</th>\n",
       "      <td>48</td>\n",
       "      <td>UNKNOWN</td>\n",
       "      <td>stannis baratheon</td>\n",
       "      <td>m</td>\n",
       "      <td>9166.666667</td>\n",
       "    </tr>\n",
       "  </tbody>\n",
       "</table>\n",
       "</div>"
      ],
      "text/plain": [
       "       age                  dob            fullname   gender        income\n",
       "0       43  1975-01-01 00:00:00    cersei lannister        f   8000.000000\n",
       "1       38  1980-01-02 00:00:00  daenerys targaryen        f   6000.000000\n",
       "2       48  1970-01-03 00:00:00            jon snow        m   7000.000000\n",
       "3       18  2000-01-04 00:00:00          arya stark        f   6500.000000\n",
       "4       28  1990-01-05 00:00:00         sansa stark        f   5500.000000\n",
       "5       33  1985-10-10 00:00:00             UNKNOWN        f   7500.000000\n",
       "6       38  1980-12-12 00:00:00    tyrion lannister        m   8500.000000\n",
       "7       20  1998-07-15 00:00:00   joffrey baratheon        m  10000.000000\n",
       "8       33  1985-01-31 00:00:00             UNKNOWN        m   9000.000000\n",
       "9       28  1990-03-30 00:00:00       theon greyjoy        m   9500.000000\n",
       "0       53           1965-12-01        eddard stark        m   8333.333333\n",
       "1  UNKNOWN              UNKNOWN       petyr baelish        m   7083.333333\n",
       "2       43           1975-12-08     jaime lannister        m   7500.000000\n",
       "3       23              UNKNOWN     margaery tyrell        f   8750.000000\n",
       "4       33           1985-10-12       ramsay bolton        f   7666.666667\n",
       "5  UNKNOWN              UNKNOWN    brienne of-tarth  UNKNOWN   6083.333333\n",
       "6       43              UNKNOWN          khal drogo        m   7000.000000\n",
       "7       28           1990-02-02             ygritte        f   7916.666667\n",
       "8  UNKNOWN              UNKNOWN                shae        f  12500.000000\n",
       "9       48              UNKNOWN   stannis baratheon        m   9166.666667"
      ]
     },
     "execution_count": 183,
     "metadata": {},
     "output_type": "execute_result"
    }
   ],
   "source": [
    "pd.concat([df1,df2])"
   ]
  },
  {
   "cell_type": "code",
   "execution_count": 200,
   "metadata": {},
   "outputs": [],
   "source": [
    "df1['dob']=pd.to_datetime(df1['dob'],format='%Y%m%d',unit='D')"
   ]
  },
  {
   "cell_type": "code",
   "execution_count": 202,
   "metadata": {
    "scrolled": true
   },
   "outputs": [
    {
     "data": {
      "text/html": [
       "<div>\n",
       "<style scoped>\n",
       "    .dataframe tbody tr th:only-of-type {\n",
       "        vertical-align: middle;\n",
       "    }\n",
       "\n",
       "    .dataframe tbody tr th {\n",
       "        vertical-align: top;\n",
       "    }\n",
       "\n",
       "    .dataframe thead th {\n",
       "        text-align: right;\n",
       "    }\n",
       "</style>\n",
       "<table border=\"1\" class=\"dataframe\">\n",
       "  <thead>\n",
       "    <tr style=\"text-align: right;\">\n",
       "      <th></th>\n",
       "      <th>dob</th>\n",
       "      <th>gender</th>\n",
       "      <th>income</th>\n",
       "      <th>age</th>\n",
       "      <th>fullname</th>\n",
       "    </tr>\n",
       "  </thead>\n",
       "  <tbody>\n",
       "    <tr>\n",
       "      <th>0</th>\n",
       "      <td>1975-01-01</td>\n",
       "      <td>f</td>\n",
       "      <td>8000</td>\n",
       "      <td>43</td>\n",
       "      <td>cersei lannister</td>\n",
       "    </tr>\n",
       "    <tr>\n",
       "      <th>1</th>\n",
       "      <td>1980-01-02</td>\n",
       "      <td>f</td>\n",
       "      <td>6000</td>\n",
       "      <td>38</td>\n",
       "      <td>daenerys targaryen</td>\n",
       "    </tr>\n",
       "    <tr>\n",
       "      <th>2</th>\n",
       "      <td>1970-01-03</td>\n",
       "      <td>m</td>\n",
       "      <td>7000</td>\n",
       "      <td>48</td>\n",
       "      <td>jon snow</td>\n",
       "    </tr>\n",
       "    <tr>\n",
       "      <th>3</th>\n",
       "      <td>2000-01-04</td>\n",
       "      <td>f</td>\n",
       "      <td>6500</td>\n",
       "      <td>18</td>\n",
       "      <td>arya stark</td>\n",
       "    </tr>\n",
       "    <tr>\n",
       "      <th>4</th>\n",
       "      <td>1990-01-05</td>\n",
       "      <td>f</td>\n",
       "      <td>5500</td>\n",
       "      <td>28</td>\n",
       "      <td>sansa stark</td>\n",
       "    </tr>\n",
       "    <tr>\n",
       "      <th>5</th>\n",
       "      <td>1985-10-10</td>\n",
       "      <td>f</td>\n",
       "      <td>7500</td>\n",
       "      <td>33</td>\n",
       "      <td>UNKNOWN</td>\n",
       "    </tr>\n",
       "    <tr>\n",
       "      <th>6</th>\n",
       "      <td>1980-12-12</td>\n",
       "      <td>m</td>\n",
       "      <td>8500</td>\n",
       "      <td>38</td>\n",
       "      <td>tyrion lannister</td>\n",
       "    </tr>\n",
       "    <tr>\n",
       "      <th>7</th>\n",
       "      <td>1998-07-15</td>\n",
       "      <td>m</td>\n",
       "      <td>10000</td>\n",
       "      <td>20</td>\n",
       "      <td>joffrey baratheon</td>\n",
       "    </tr>\n",
       "    <tr>\n",
       "      <th>8</th>\n",
       "      <td>1985-01-31</td>\n",
       "      <td>m</td>\n",
       "      <td>9000</td>\n",
       "      <td>33</td>\n",
       "      <td>UNKNOWN</td>\n",
       "    </tr>\n",
       "    <tr>\n",
       "      <th>9</th>\n",
       "      <td>1990-03-30</td>\n",
       "      <td>m</td>\n",
       "      <td>9500</td>\n",
       "      <td>28</td>\n",
       "      <td>theon greyjoy</td>\n",
       "    </tr>\n",
       "  </tbody>\n",
       "</table>\n",
       "</div>"
      ],
      "text/plain": [
       "         dob gender  income  age            fullname\n",
       "0 1975-01-01      f    8000   43    cersei lannister\n",
       "1 1980-01-02      f    6000   38  daenerys targaryen\n",
       "2 1970-01-03      m    7000   48            jon snow\n",
       "3 2000-01-04      f    6500   18          arya stark\n",
       "4 1990-01-05      f    5500   28         sansa stark\n",
       "5 1985-10-10      f    7500   33             UNKNOWN\n",
       "6 1980-12-12      m    8500   38    tyrion lannister\n",
       "7 1998-07-15      m   10000   20   joffrey baratheon\n",
       "8 1985-01-31      m    9000   33             UNKNOWN\n",
       "9 1990-03-30      m    9500   28       theon greyjoy"
      ]
     },
     "execution_count": 202,
     "metadata": {},
     "output_type": "execute_result"
    }
   ],
   "source": [
    "df1"
   ]
  },
  {
   "cell_type": "code",
   "execution_count": 214,
   "metadata": {},
   "outputs": [
    {
     "data": {
      "text/html": [
       "<div>\n",
       "<style scoped>\n",
       "    .dataframe tbody tr th:only-of-type {\n",
       "        vertical-align: middle;\n",
       "    }\n",
       "\n",
       "    .dataframe tbody tr th {\n",
       "        vertical-align: top;\n",
       "    }\n",
       "\n",
       "    .dataframe thead th {\n",
       "        text-align: right;\n",
       "    }\n",
       "</style>\n",
       "<table border=\"1\" class=\"dataframe\">\n",
       "  <thead>\n",
       "    <tr style=\"text-align: right;\">\n",
       "      <th></th>\n",
       "      <th>age</th>\n",
       "      <th>dob</th>\n",
       "      <th>fullname</th>\n",
       "      <th>gender</th>\n",
       "      <th>income</th>\n",
       "    </tr>\n",
       "  </thead>\n",
       "  <tbody>\n",
       "    <tr>\n",
       "      <th>0</th>\n",
       "      <td>43</td>\n",
       "      <td>1975-01-01 00:00:00</td>\n",
       "      <td>cersei lannister</td>\n",
       "      <td>f</td>\n",
       "      <td>8000.000000</td>\n",
       "    </tr>\n",
       "    <tr>\n",
       "      <th>1</th>\n",
       "      <td>38</td>\n",
       "      <td>1980-01-02 00:00:00</td>\n",
       "      <td>daenerys targaryen</td>\n",
       "      <td>f</td>\n",
       "      <td>6000.000000</td>\n",
       "    </tr>\n",
       "    <tr>\n",
       "      <th>2</th>\n",
       "      <td>48</td>\n",
       "      <td>1970-01-03 00:00:00</td>\n",
       "      <td>jon snow</td>\n",
       "      <td>m</td>\n",
       "      <td>7000.000000</td>\n",
       "    </tr>\n",
       "    <tr>\n",
       "      <th>3</th>\n",
       "      <td>18</td>\n",
       "      <td>2000-01-04 00:00:00</td>\n",
       "      <td>arya stark</td>\n",
       "      <td>f</td>\n",
       "      <td>6500.000000</td>\n",
       "    </tr>\n",
       "    <tr>\n",
       "      <th>4</th>\n",
       "      <td>28</td>\n",
       "      <td>1990-01-05 00:00:00</td>\n",
       "      <td>sansa stark</td>\n",
       "      <td>f</td>\n",
       "      <td>5500.000000</td>\n",
       "    </tr>\n",
       "    <tr>\n",
       "      <th>5</th>\n",
       "      <td>33</td>\n",
       "      <td>1985-10-10 00:00:00</td>\n",
       "      <td>UNKNOWN</td>\n",
       "      <td>f</td>\n",
       "      <td>7500.000000</td>\n",
       "    </tr>\n",
       "    <tr>\n",
       "      <th>6</th>\n",
       "      <td>38</td>\n",
       "      <td>1980-12-12 00:00:00</td>\n",
       "      <td>tyrion lannister</td>\n",
       "      <td>m</td>\n",
       "      <td>8500.000000</td>\n",
       "    </tr>\n",
       "    <tr>\n",
       "      <th>7</th>\n",
       "      <td>20</td>\n",
       "      <td>1998-07-15 00:00:00</td>\n",
       "      <td>joffrey baratheon</td>\n",
       "      <td>m</td>\n",
       "      <td>10000.000000</td>\n",
       "    </tr>\n",
       "    <tr>\n",
       "      <th>8</th>\n",
       "      <td>33</td>\n",
       "      <td>1985-01-31 00:00:00</td>\n",
       "      <td>UNKNOWN</td>\n",
       "      <td>m</td>\n",
       "      <td>9000.000000</td>\n",
       "    </tr>\n",
       "    <tr>\n",
       "      <th>9</th>\n",
       "      <td>28</td>\n",
       "      <td>1990-03-30 00:00:00</td>\n",
       "      <td>theon greyjoy</td>\n",
       "      <td>m</td>\n",
       "      <td>9500.000000</td>\n",
       "    </tr>\n",
       "    <tr>\n",
       "      <th>0</th>\n",
       "      <td>53</td>\n",
       "      <td>1965-12-01</td>\n",
       "      <td>eddard stark</td>\n",
       "      <td>m</td>\n",
       "      <td>8333.333333</td>\n",
       "    </tr>\n",
       "    <tr>\n",
       "      <th>1</th>\n",
       "      <td>UNKNOWN</td>\n",
       "      <td>UNKNOWN</td>\n",
       "      <td>petyr baelish</td>\n",
       "      <td>m</td>\n",
       "      <td>7083.333333</td>\n",
       "    </tr>\n",
       "    <tr>\n",
       "      <th>2</th>\n",
       "      <td>43</td>\n",
       "      <td>1975-12-08</td>\n",
       "      <td>jaime lannister</td>\n",
       "      <td>m</td>\n",
       "      <td>7500.000000</td>\n",
       "    </tr>\n",
       "    <tr>\n",
       "      <th>3</th>\n",
       "      <td>23</td>\n",
       "      <td>UNKNOWN</td>\n",
       "      <td>margaery tyrell</td>\n",
       "      <td>f</td>\n",
       "      <td>8750.000000</td>\n",
       "    </tr>\n",
       "    <tr>\n",
       "      <th>4</th>\n",
       "      <td>33</td>\n",
       "      <td>1985-10-12</td>\n",
       "      <td>ramsay bolton</td>\n",
       "      <td>f</td>\n",
       "      <td>7666.666667</td>\n",
       "    </tr>\n",
       "    <tr>\n",
       "      <th>5</th>\n",
       "      <td>UNKNOWN</td>\n",
       "      <td>UNKNOWN</td>\n",
       "      <td>brienne of-tarth</td>\n",
       "      <td>UNKNOWN</td>\n",
       "      <td>6083.333333</td>\n",
       "    </tr>\n",
       "    <tr>\n",
       "      <th>6</th>\n",
       "      <td>43</td>\n",
       "      <td>UNKNOWN</td>\n",
       "      <td>khal drogo</td>\n",
       "      <td>m</td>\n",
       "      <td>7000.000000</td>\n",
       "    </tr>\n",
       "    <tr>\n",
       "      <th>7</th>\n",
       "      <td>28</td>\n",
       "      <td>1990-02-02</td>\n",
       "      <td>ygritte</td>\n",
       "      <td>f</td>\n",
       "      <td>7916.666667</td>\n",
       "    </tr>\n",
       "    <tr>\n",
       "      <th>8</th>\n",
       "      <td>UNKNOWN</td>\n",
       "      <td>UNKNOWN</td>\n",
       "      <td>shae</td>\n",
       "      <td>f</td>\n",
       "      <td>12500.000000</td>\n",
       "    </tr>\n",
       "    <tr>\n",
       "      <th>9</th>\n",
       "      <td>48</td>\n",
       "      <td>UNKNOWN</td>\n",
       "      <td>stannis baratheon</td>\n",
       "      <td>m</td>\n",
       "      <td>9166.666667</td>\n",
       "    </tr>\n",
       "  </tbody>\n",
       "</table>\n",
       "</div>"
      ],
      "text/plain": [
       "       age                  dob            fullname   gender        income\n",
       "0       43  1975-01-01 00:00:00    cersei lannister        f   8000.000000\n",
       "1       38  1980-01-02 00:00:00  daenerys targaryen        f   6000.000000\n",
       "2       48  1970-01-03 00:00:00            jon snow        m   7000.000000\n",
       "3       18  2000-01-04 00:00:00          arya stark        f   6500.000000\n",
       "4       28  1990-01-05 00:00:00         sansa stark        f   5500.000000\n",
       "5       33  1985-10-10 00:00:00             UNKNOWN        f   7500.000000\n",
       "6       38  1980-12-12 00:00:00    tyrion lannister        m   8500.000000\n",
       "7       20  1998-07-15 00:00:00   joffrey baratheon        m  10000.000000\n",
       "8       33  1985-01-31 00:00:00             UNKNOWN        m   9000.000000\n",
       "9       28  1990-03-30 00:00:00       theon greyjoy        m   9500.000000\n",
       "0       53           1965-12-01        eddard stark        m   8333.333333\n",
       "1  UNKNOWN              UNKNOWN       petyr baelish        m   7083.333333\n",
       "2       43           1975-12-08     jaime lannister        m   7500.000000\n",
       "3       23              UNKNOWN     margaery tyrell        f   8750.000000\n",
       "4       33           1985-10-12       ramsay bolton        f   7666.666667\n",
       "5  UNKNOWN              UNKNOWN    brienne of-tarth  UNKNOWN   6083.333333\n",
       "6       43              UNKNOWN          khal drogo        m   7000.000000\n",
       "7       28           1990-02-02             ygritte        f   7916.666667\n",
       "8  UNKNOWN              UNKNOWN                shae        f  12500.000000\n",
       "9       48              UNKNOWN   stannis baratheon        m   9166.666667"
      ]
     },
     "execution_count": 214,
     "metadata": {},
     "output_type": "execute_result"
    }
   ],
   "source": [
    "df=pd.concat([df1,df2])\n",
    "df"
   ]
  },
  {
   "cell_type": "code",
   "execution_count": 222,
   "metadata": {},
   "outputs": [],
   "source": [
    "df.drop(['index','level_0'],axis=1,inplace=True)"
   ]
  },
  {
   "cell_type": "code",
   "execution_count": 226,
   "metadata": {},
   "outputs": [],
   "source": [
    "df.index.names=['ID']"
   ]
  },
  {
   "cell_type": "code",
   "execution_count": 227,
   "metadata": {},
   "outputs": [
    {
     "data": {
      "text/html": [
       "<div>\n",
       "<style scoped>\n",
       "    .dataframe tbody tr th:only-of-type {\n",
       "        vertical-align: middle;\n",
       "    }\n",
       "\n",
       "    .dataframe tbody tr th {\n",
       "        vertical-align: top;\n",
       "    }\n",
       "\n",
       "    .dataframe thead th {\n",
       "        text-align: right;\n",
       "    }\n",
       "</style>\n",
       "<table border=\"1\" class=\"dataframe\">\n",
       "  <thead>\n",
       "    <tr style=\"text-align: right;\">\n",
       "      <th></th>\n",
       "      <th>age</th>\n",
       "      <th>dob</th>\n",
       "      <th>fullname</th>\n",
       "      <th>gender</th>\n",
       "      <th>income</th>\n",
       "    </tr>\n",
       "    <tr>\n",
       "      <th>ID</th>\n",
       "      <th></th>\n",
       "      <th></th>\n",
       "      <th></th>\n",
       "      <th></th>\n",
       "      <th></th>\n",
       "    </tr>\n",
       "  </thead>\n",
       "  <tbody>\n",
       "    <tr>\n",
       "      <th>0</th>\n",
       "      <td>43</td>\n",
       "      <td>1975-01-01 00:00:00</td>\n",
       "      <td>cersei lannister</td>\n",
       "      <td>f</td>\n",
       "      <td>8000.000000</td>\n",
       "    </tr>\n",
       "    <tr>\n",
       "      <th>1</th>\n",
       "      <td>38</td>\n",
       "      <td>1980-01-02 00:00:00</td>\n",
       "      <td>daenerys targaryen</td>\n",
       "      <td>f</td>\n",
       "      <td>6000.000000</td>\n",
       "    </tr>\n",
       "    <tr>\n",
       "      <th>2</th>\n",
       "      <td>48</td>\n",
       "      <td>1970-01-03 00:00:00</td>\n",
       "      <td>jon snow</td>\n",
       "      <td>m</td>\n",
       "      <td>7000.000000</td>\n",
       "    </tr>\n",
       "    <tr>\n",
       "      <th>3</th>\n",
       "      <td>18</td>\n",
       "      <td>2000-01-04 00:00:00</td>\n",
       "      <td>arya stark</td>\n",
       "      <td>f</td>\n",
       "      <td>6500.000000</td>\n",
       "    </tr>\n",
       "    <tr>\n",
       "      <th>4</th>\n",
       "      <td>28</td>\n",
       "      <td>1990-01-05 00:00:00</td>\n",
       "      <td>sansa stark</td>\n",
       "      <td>f</td>\n",
       "      <td>5500.000000</td>\n",
       "    </tr>\n",
       "    <tr>\n",
       "      <th>5</th>\n",
       "      <td>33</td>\n",
       "      <td>1985-10-10 00:00:00</td>\n",
       "      <td>UNKNOWN</td>\n",
       "      <td>f</td>\n",
       "      <td>7500.000000</td>\n",
       "    </tr>\n",
       "    <tr>\n",
       "      <th>6</th>\n",
       "      <td>38</td>\n",
       "      <td>1980-12-12 00:00:00</td>\n",
       "      <td>tyrion lannister</td>\n",
       "      <td>m</td>\n",
       "      <td>8500.000000</td>\n",
       "    </tr>\n",
       "    <tr>\n",
       "      <th>7</th>\n",
       "      <td>20</td>\n",
       "      <td>1998-07-15 00:00:00</td>\n",
       "      <td>joffrey baratheon</td>\n",
       "      <td>m</td>\n",
       "      <td>10000.000000</td>\n",
       "    </tr>\n",
       "    <tr>\n",
       "      <th>8</th>\n",
       "      <td>33</td>\n",
       "      <td>1985-01-31 00:00:00</td>\n",
       "      <td>UNKNOWN</td>\n",
       "      <td>m</td>\n",
       "      <td>9000.000000</td>\n",
       "    </tr>\n",
       "    <tr>\n",
       "      <th>9</th>\n",
       "      <td>28</td>\n",
       "      <td>1990-03-30 00:00:00</td>\n",
       "      <td>theon greyjoy</td>\n",
       "      <td>m</td>\n",
       "      <td>9500.000000</td>\n",
       "    </tr>\n",
       "    <tr>\n",
       "      <th>10</th>\n",
       "      <td>53</td>\n",
       "      <td>1965-12-01</td>\n",
       "      <td>eddard stark</td>\n",
       "      <td>m</td>\n",
       "      <td>8333.333333</td>\n",
       "    </tr>\n",
       "    <tr>\n",
       "      <th>11</th>\n",
       "      <td>UNKNOWN</td>\n",
       "      <td>UNKNOWN</td>\n",
       "      <td>petyr baelish</td>\n",
       "      <td>m</td>\n",
       "      <td>7083.333333</td>\n",
       "    </tr>\n",
       "    <tr>\n",
       "      <th>12</th>\n",
       "      <td>43</td>\n",
       "      <td>1975-12-08</td>\n",
       "      <td>jaime lannister</td>\n",
       "      <td>m</td>\n",
       "      <td>7500.000000</td>\n",
       "    </tr>\n",
       "    <tr>\n",
       "      <th>13</th>\n",
       "      <td>23</td>\n",
       "      <td>UNKNOWN</td>\n",
       "      <td>margaery tyrell</td>\n",
       "      <td>f</td>\n",
       "      <td>8750.000000</td>\n",
       "    </tr>\n",
       "    <tr>\n",
       "      <th>14</th>\n",
       "      <td>33</td>\n",
       "      <td>1985-10-12</td>\n",
       "      <td>ramsay bolton</td>\n",
       "      <td>f</td>\n",
       "      <td>7666.666667</td>\n",
       "    </tr>\n",
       "    <tr>\n",
       "      <th>15</th>\n",
       "      <td>UNKNOWN</td>\n",
       "      <td>UNKNOWN</td>\n",
       "      <td>brienne of-tarth</td>\n",
       "      <td>UNKNOWN</td>\n",
       "      <td>6083.333333</td>\n",
       "    </tr>\n",
       "    <tr>\n",
       "      <th>16</th>\n",
       "      <td>43</td>\n",
       "      <td>UNKNOWN</td>\n",
       "      <td>khal drogo</td>\n",
       "      <td>m</td>\n",
       "      <td>7000.000000</td>\n",
       "    </tr>\n",
       "    <tr>\n",
       "      <th>17</th>\n",
       "      <td>28</td>\n",
       "      <td>1990-02-02</td>\n",
       "      <td>ygritte</td>\n",
       "      <td>f</td>\n",
       "      <td>7916.666667</td>\n",
       "    </tr>\n",
       "    <tr>\n",
       "      <th>18</th>\n",
       "      <td>UNKNOWN</td>\n",
       "      <td>UNKNOWN</td>\n",
       "      <td>shae</td>\n",
       "      <td>f</td>\n",
       "      <td>12500.000000</td>\n",
       "    </tr>\n",
       "    <tr>\n",
       "      <th>19</th>\n",
       "      <td>48</td>\n",
       "      <td>UNKNOWN</td>\n",
       "      <td>stannis baratheon</td>\n",
       "      <td>m</td>\n",
       "      <td>9166.666667</td>\n",
       "    </tr>\n",
       "  </tbody>\n",
       "</table>\n",
       "</div>"
      ],
      "text/plain": [
       "        age                  dob            fullname   gender        income\n",
       "ID                                                                         \n",
       "0        43  1975-01-01 00:00:00    cersei lannister        f   8000.000000\n",
       "1        38  1980-01-02 00:00:00  daenerys targaryen        f   6000.000000\n",
       "2        48  1970-01-03 00:00:00            jon snow        m   7000.000000\n",
       "3        18  2000-01-04 00:00:00          arya stark        f   6500.000000\n",
       "4        28  1990-01-05 00:00:00         sansa stark        f   5500.000000\n",
       "5        33  1985-10-10 00:00:00             UNKNOWN        f   7500.000000\n",
       "6        38  1980-12-12 00:00:00    tyrion lannister        m   8500.000000\n",
       "7        20  1998-07-15 00:00:00   joffrey baratheon        m  10000.000000\n",
       "8        33  1985-01-31 00:00:00             UNKNOWN        m   9000.000000\n",
       "9        28  1990-03-30 00:00:00       theon greyjoy        m   9500.000000\n",
       "10       53           1965-12-01        eddard stark        m   8333.333333\n",
       "11  UNKNOWN              UNKNOWN       petyr baelish        m   7083.333333\n",
       "12       43           1975-12-08     jaime lannister        m   7500.000000\n",
       "13       23              UNKNOWN     margaery tyrell        f   8750.000000\n",
       "14       33           1985-10-12       ramsay bolton        f   7666.666667\n",
       "15  UNKNOWN              UNKNOWN    brienne of-tarth  UNKNOWN   6083.333333\n",
       "16       43              UNKNOWN          khal drogo        m   7000.000000\n",
       "17       28           1990-02-02             ygritte        f   7916.666667\n",
       "18  UNKNOWN              UNKNOWN                shae        f  12500.000000\n",
       "19       48              UNKNOWN   stannis baratheon        m   9166.666667"
      ]
     },
     "execution_count": 227,
     "metadata": {},
     "output_type": "execute_result"
    }
   ],
   "source": [
    "df"
   ]
  },
  {
   "cell_type": "code",
   "execution_count": 229,
   "metadata": {},
   "outputs": [
    {
     "data": {
      "text/html": [
       "<div>\n",
       "<style scoped>\n",
       "    .dataframe tbody tr th:only-of-type {\n",
       "        vertical-align: middle;\n",
       "    }\n",
       "\n",
       "    .dataframe tbody tr th {\n",
       "        vertical-align: top;\n",
       "    }\n",
       "\n",
       "    .dataframe thead th {\n",
       "        text-align: right;\n",
       "    }\n",
       "</style>\n",
       "<table border=\"1\" class=\"dataframe\">\n",
       "  <thead>\n",
       "    <tr style=\"text-align: right;\">\n",
       "      <th></th>\n",
       "      <th>id</th>\n",
       "      <th>name</th>\n",
       "      <th>familyname</th>\n",
       "      <th>gender</th>\n",
       "      <th>age</th>\n",
       "      <th>income</th>\n",
       "    </tr>\n",
       "  </thead>\n",
       "  <tbody>\n",
       "    <tr>\n",
       "      <th>0</th>\n",
       "      <td>1</td>\n",
       "      <td>cersei</td>\n",
       "      <td>lannister</td>\n",
       "      <td>f</td>\n",
       "      <td>43</td>\n",
       "      <td>100000</td>\n",
       "    </tr>\n",
       "    <tr>\n",
       "      <th>1</th>\n",
       "      <td>2</td>\n",
       "      <td>daenerys</td>\n",
       "      <td>targaryen</td>\n",
       "      <td>f</td>\n",
       "      <td>38</td>\n",
       "      <td>850000</td>\n",
       "    </tr>\n",
       "    <tr>\n",
       "      <th>2</th>\n",
       "      <td>3</td>\n",
       "      <td>jon</td>\n",
       "      <td>snow</td>\n",
       "      <td>m</td>\n",
       "      <td>48</td>\n",
       "      <td>100000</td>\n",
       "    </tr>\n",
       "    <tr>\n",
       "      <th>3</th>\n",
       "      <td>4</td>\n",
       "      <td>arya</td>\n",
       "      <td>stark</td>\n",
       "      <td>f</td>\n",
       "      <td>18</td>\n",
       "      <td>50000</td>\n",
       "    </tr>\n",
       "    <tr>\n",
       "      <th>4</th>\n",
       "      <td>5</td>\n",
       "      <td>sansa</td>\n",
       "      <td>stark</td>\n",
       "      <td>f</td>\n",
       "      <td>28</td>\n",
       "      <td>55000</td>\n",
       "    </tr>\n",
       "  </tbody>\n",
       "</table>\n",
       "</div>"
      ],
      "text/plain": [
       "   id      name familyname gender  age  income\n",
       "0   1    cersei  lannister      f   43  100000\n",
       "1   2  daenerys  targaryen      f   38  850000\n",
       "2   3       jon       snow      m   48  100000\n",
       "3   4      arya      stark      f   18   50000\n",
       "4   5     sansa      stark      f   28   55000"
      ]
     },
     "execution_count": 229,
     "metadata": {},
     "output_type": "execute_result"
    }
   ],
   "source": [
    "#Data interpretation\n",
    "#Dataset1\n",
    "dfi=pd.read_csv('data-review/got_data_interpretation.csv')\n",
    "dfi.head()"
   ]
  },
  {
   "cell_type": "code",
   "execution_count": 231,
   "metadata": {},
   "outputs": [
    {
     "data": {
      "text/plain": [
       "<matplotlib.axes._subplots.AxesSubplot at 0xb029d50>"
      ]
     },
     "execution_count": 231,
     "metadata": {},
     "output_type": "execute_result"
    },
    {
     "data": {
      "image/png": "[encoded data removed]",
      "text/plain": [
       "<matplotlib.figure.Figure at 0xb22c910>"
      ]
     },
     "metadata": {},
     "output_type": "display_data"
    }
   ],
   "source": [
    "sns.distplot(dfi['income'],kde=False,color='red')"
   ]
  },
  {
   "cell_type": "code",
   "execution_count": 234,
   "metadata": {},
   "outputs": [
    {
     "data": {
      "text/plain": [
       "50000"
      ]
     },
     "execution_count": 234,
     "metadata": {},
     "output_type": "execute_result"
    }
   ],
   "source": [
    "dfi.income.min()"
   ]
  },
  {
   "cell_type": "code",
   "execution_count": 235,
   "metadata": {},
   "outputs": [
    {
     "data": {
      "text/plain": [
       "850000"
      ]
     },
     "execution_count": 235,
     "metadata": {},
     "output_type": "execute_result"
    }
   ],
   "source": [
    "dfi.income.max()"
   ]
  },
  {
   "cell_type": "code",
   "execution_count": 239,
   "metadata": {},
   "outputs": [
    {
     "data": {
      "text/plain": [
       "77500.0"
      ]
     },
     "execution_count": 239,
     "metadata": {},
     "output_type": "execute_result"
    }
   ],
   "source": [
    "dfi.income.median()"
   ]
  },
  {
   "cell_type": "code",
   "execution_count": 240,
   "metadata": {},
   "outputs": [
    {
     "data": {
      "text/plain": [
       "117500.0"
      ]
     },
     "execution_count": 240,
     "metadata": {},
     "output_type": "execute_result"
    }
   ],
   "source": [
    "dfi.income.mean()"
   ]
  },
  {
   "cell_type": "code",
   "execution_count": 244,
   "metadata": {},
   "outputs": [
    {
     "data": {
      "text/plain": [
       "<matplotlib.axes._subplots.AxesSubplot at 0xaf16b50>"
      ]
     },
     "execution_count": 244,
     "metadata": {},
     "output_type": "execute_result"
    },
    {
     "data": {
      "image/png": "[encoded data removed]",
      "text/plain": [
       "<matplotlib.figure.Figure at 0xae25a50>"
      ]
     },
     "metadata": {},
     "output_type": "display_data"
    }
   ],
   "source": [
    "#using boxplot to show the outlier\n",
    "sns.boxplot('income',data=dfi)"
   ]
  },
  {
   "cell_type": "code",
   "execution_count": 245,
   "metadata": {},
   "outputs": [
    {
     "data": {
      "text/plain": [
       "800000"
      ]
     },
     "execution_count": 245,
     "metadata": {},
     "output_type": "execute_result"
    }
   ],
   "source": [
    "range=850000-50000\n",
    "range\n",
    "#From the box plot we can get outlier is 850000"
   ]
  },
  {
   "cell_type": "code",
   "execution_count": 298,
   "metadata": {},
   "outputs": [
    {
     "data": {
      "text/plain": [
       "[0.1, 0.4, 0.3, 0.2]"
      ]
     },
     "execution_count": 298,
     "metadata": {},
     "output_type": "execute_result"
    }
   ],
   "source": [
    "#Line chart is the best for this type of analysis\n",
    "a=b=c=d=0;\n",
    "for i in dfi['income']:\n",
    "    if i<=50000:\n",
    "        a=a+1;\n",
    "    elif i<=75000:\n",
    "        b=b+1;\n",
    "    elif i<=100000:\n",
    "        c=c+1;\n",
    "    else:\n",
    "        d=d+1;\n",
    "s=[a/20,b/20,c/20,d/20]\n",
    "s"
   ]
  },
  {
   "cell_type": "code",
   "execution_count": 302,
   "metadata": {},
   "outputs": [
    {
     "data": {
      "text/plain": [
       "Text(0,0.5,'percentage')"
      ]
     },
     "execution_count": 302,
     "metadata": {},
     "output_type": "execute_result"
    },
    {
     "data": {
      "image/png": "[encoded data removed]",
      "text/plain": [
       "<matplotlib.figure.Figure at 0xcc66810>"
      ]
     },
     "metadata": {},
     "output_type": "display_data"
    }
   ],
   "source": [
    "x=['0-50k','50k-75k','75k-100k','>100k']\n",
    "plt.plot(x,s,'.-')\n",
    "plt.xlabel('income ranges')\n",
    "plt.ylabel('percentage')"
   ]
  },
  {
   "cell_type": "code",
   "execution_count": 286,
   "metadata": {},
   "outputs": [
    {
     "data": {
      "text/plain": [
       "<seaborn.axisgrid.FacetGrid at 0xc94f2b0>"
      ]
     },
     "execution_count": 286,
     "metadata": {},
     "output_type": "execute_result"
    },
    {
     "data": {
      "image/png": "[encoded data removed]",
      "text/plain": [
       "<matplotlib.figure.Figure at 0xc94fa90>"
      ]
     },
     "metadata": {},
     "output_type": "display_data"
    }
   ],
   "source": [
    "#using lmplot to show the relationship of income and age, we can see income increase as people get older\n",
    "sns.lmplot(x='age',y='income',data=dfi)"
   ]
  },
  {
   "cell_type": "code",
   "execution_count": 287,
   "metadata": {},
   "outputs": [
    {
     "data": {
      "text/plain": [
       "<seaborn.axisgrid.FacetGrid at 0xc94f4f0>"
      ]
     },
     "execution_count": 287,
     "metadata": {},
     "output_type": "execute_result"
    },
    {
     "data": {
      "image/png": "[encoded data removed]",
      "text/plain": [
       "<matplotlib.figure.Figure at 0xc94f630>"
      ]
     },
     "metadata": {},
     "output_type": "display_data"
    }
   ],
   "source": [
    "#use histgram to compare the income between male and female, we can see female's income are more concentrated than male's income.\n",
    "g = sns.FacetGrid(data=dfi,col='gender')\n",
    "g.map(plt.hist,'income')"
   ]
  },
  {
   "cell_type": "code",
   "execution_count": 306,
   "metadata": {},
   "outputs": [
    {
     "data": {
      "text/html": [
       "<div>\n",
       "<style scoped>\n",
       "    .dataframe tbody tr th:only-of-type {\n",
       "        vertical-align: middle;\n",
       "    }\n",
       "\n",
       "    .dataframe tbody tr th {\n",
       "        vertical-align: top;\n",
       "    }\n",
       "\n",
       "    .dataframe thead th {\n",
       "        text-align: right;\n",
       "    }\n",
       "</style>\n",
       "<table border=\"1\" class=\"dataframe\">\n",
       "  <thead>\n",
       "    <tr style=\"text-align: right;\">\n",
       "      <th></th>\n",
       "      <th>id</th>\n",
       "      <th>name</th>\n",
       "      <th>gender</th>\n",
       "      <th>1990</th>\n",
       "      <th>1995</th>\n",
       "      <th>2000</th>\n",
       "      <th>2005</th>\n",
       "      <th>2010</th>\n",
       "      <th>2015</th>\n",
       "    </tr>\n",
       "  </thead>\n",
       "  <tbody>\n",
       "    <tr>\n",
       "      <th>0</th>\n",
       "      <td>0</td>\n",
       "      <td>judy</td>\n",
       "      <td>f</td>\n",
       "      <td>70000</td>\n",
       "      <td>70000</td>\n",
       "      <td>72000</td>\n",
       "      <td>85000</td>\n",
       "      <td>105000</td>\n",
       "      <td>120000</td>\n",
       "    </tr>\n",
       "    <tr>\n",
       "      <th>1</th>\n",
       "      <td>1</td>\n",
       "      <td>jennifer</td>\n",
       "      <td>f</td>\n",
       "      <td>65000</td>\n",
       "      <td>65000</td>\n",
       "      <td>68000</td>\n",
       "      <td>80000</td>\n",
       "      <td>90000</td>\n",
       "      <td>100000</td>\n",
       "    </tr>\n",
       "    <tr>\n",
       "      <th>2</th>\n",
       "      <td>2</td>\n",
       "      <td>jill</td>\n",
       "      <td>f</td>\n",
       "      <td>72000</td>\n",
       "      <td>75000</td>\n",
       "      <td>75000</td>\n",
       "      <td>85000</td>\n",
       "      <td>100000</td>\n",
       "      <td>110000</td>\n",
       "    </tr>\n",
       "    <tr>\n",
       "      <th>3</th>\n",
       "      <td>3</td>\n",
       "      <td>jane</td>\n",
       "      <td>f</td>\n",
       "      <td>68000</td>\n",
       "      <td>70000</td>\n",
       "      <td>70000</td>\n",
       "      <td>82000</td>\n",
       "      <td>95000</td>\n",
       "      <td>110000</td>\n",
       "    </tr>\n",
       "    <tr>\n",
       "      <th>4</th>\n",
       "      <td>4</td>\n",
       "      <td>jessica</td>\n",
       "      <td>f</td>\n",
       "      <td>60000</td>\n",
       "      <td>60000</td>\n",
       "      <td>65000</td>\n",
       "      <td>80000</td>\n",
       "      <td>90000</td>\n",
       "      <td>105000</td>\n",
       "    </tr>\n",
       "    <tr>\n",
       "      <th>5</th>\n",
       "      <td>5</td>\n",
       "      <td>julia</td>\n",
       "      <td>f</td>\n",
       "      <td>65000</td>\n",
       "      <td>68000</td>\n",
       "      <td>68000</td>\n",
       "      <td>80000</td>\n",
       "      <td>95000</td>\n",
       "      <td>110000</td>\n",
       "    </tr>\n",
       "    <tr>\n",
       "      <th>6</th>\n",
       "      <td>6</td>\n",
       "      <td>janet</td>\n",
       "      <td>f</td>\n",
       "      <td>68000</td>\n",
       "      <td>68000</td>\n",
       "      <td>70000</td>\n",
       "      <td>85000</td>\n",
       "      <td>100000</td>\n",
       "      <td>110000</td>\n",
       "    </tr>\n",
       "    <tr>\n",
       "      <th>7</th>\n",
       "      <td>7</td>\n",
       "      <td>josephine</td>\n",
       "      <td>f</td>\n",
       "      <td>60000</td>\n",
       "      <td>62000</td>\n",
       "      <td>65000</td>\n",
       "      <td>85000</td>\n",
       "      <td>95000</td>\n",
       "      <td>105000</td>\n",
       "    </tr>\n",
       "    <tr>\n",
       "      <th>8</th>\n",
       "      <td>8</td>\n",
       "      <td>judith</td>\n",
       "      <td>f</td>\n",
       "      <td>68000</td>\n",
       "      <td>68000</td>\n",
       "      <td>70000</td>\n",
       "      <td>82000</td>\n",
       "      <td>95000</td>\n",
       "      <td>105000</td>\n",
       "    </tr>\n",
       "    <tr>\n",
       "      <th>9</th>\n",
       "      <td>9</td>\n",
       "      <td>juliana</td>\n",
       "      <td>f</td>\n",
       "      <td>65000</td>\n",
       "      <td>68000</td>\n",
       "      <td>68000</td>\n",
       "      <td>85000</td>\n",
       "      <td>100000</td>\n",
       "      <td>110000</td>\n",
       "    </tr>\n",
       "    <tr>\n",
       "      <th>10</th>\n",
       "      <td>10</td>\n",
       "      <td>david</td>\n",
       "      <td>m</td>\n",
       "      <td>65000</td>\n",
       "      <td>75000</td>\n",
       "      <td>85000</td>\n",
       "      <td>90000</td>\n",
       "      <td>90000</td>\n",
       "      <td>95000</td>\n",
       "    </tr>\n",
       "    <tr>\n",
       "      <th>11</th>\n",
       "      <td>11</td>\n",
       "      <td>douglas</td>\n",
       "      <td>m</td>\n",
       "      <td>60000</td>\n",
       "      <td>70000</td>\n",
       "      <td>90000</td>\n",
       "      <td>92000</td>\n",
       "      <td>95000</td>\n",
       "      <td>95000</td>\n",
       "    </tr>\n",
       "    <tr>\n",
       "      <th>12</th>\n",
       "      <td>12</td>\n",
       "      <td>daniel</td>\n",
       "      <td>m</td>\n",
       "      <td>68000</td>\n",
       "      <td>75000</td>\n",
       "      <td>90000</td>\n",
       "      <td>90000</td>\n",
       "      <td>95000</td>\n",
       "      <td>95000</td>\n",
       "    </tr>\n",
       "    <tr>\n",
       "      <th>13</th>\n",
       "      <td>13</td>\n",
       "      <td>denilson</td>\n",
       "      <td>m</td>\n",
       "      <td>72000</td>\n",
       "      <td>80000</td>\n",
       "      <td>95000</td>\n",
       "      <td>95000</td>\n",
       "      <td>100</td>\n",
       "      <td>100000</td>\n",
       "    </tr>\n",
       "    <tr>\n",
       "      <th>14</th>\n",
       "      <td>14</td>\n",
       "      <td>damon</td>\n",
       "      <td>m</td>\n",
       "      <td>65000</td>\n",
       "      <td>80000</td>\n",
       "      <td>95000</td>\n",
       "      <td>95000</td>\n",
       "      <td>105000</td>\n",
       "      <td>105000</td>\n",
       "    </tr>\n",
       "    <tr>\n",
       "      <th>15</th>\n",
       "      <td>15</td>\n",
       "      <td>derick</td>\n",
       "      <td>m</td>\n",
       "      <td>60000</td>\n",
       "      <td>75000</td>\n",
       "      <td>85000</td>\n",
       "      <td>95000</td>\n",
       "      <td>98000</td>\n",
       "      <td>105000</td>\n",
       "    </tr>\n",
       "    <tr>\n",
       "      <th>16</th>\n",
       "      <td>16</td>\n",
       "      <td>dilan</td>\n",
       "      <td>m</td>\n",
       "      <td>62000</td>\n",
       "      <td>72000</td>\n",
       "      <td>92000</td>\n",
       "      <td>95000</td>\n",
       "      <td>100000</td>\n",
       "      <td>100000</td>\n",
       "    </tr>\n",
       "    <tr>\n",
       "      <th>17</th>\n",
       "      <td>17</td>\n",
       "      <td>diego</td>\n",
       "      <td>m</td>\n",
       "      <td>68000</td>\n",
       "      <td>75000</td>\n",
       "      <td>95000</td>\n",
       "      <td>100000</td>\n",
       "      <td>105000</td>\n",
       "      <td>105000</td>\n",
       "    </tr>\n",
       "    <tr>\n",
       "      <th>18</th>\n",
       "      <td>18</td>\n",
       "      <td>donald</td>\n",
       "      <td>m</td>\n",
       "      <td>66000</td>\n",
       "      <td>72000</td>\n",
       "      <td>88000</td>\n",
       "      <td>95000</td>\n",
       "      <td>98000</td>\n",
       "      <td>102000</td>\n",
       "    </tr>\n",
       "    <tr>\n",
       "      <th>19</th>\n",
       "      <td>19</td>\n",
       "      <td>dominic</td>\n",
       "      <td>m</td>\n",
       "      <td>68000</td>\n",
       "      <td>74000</td>\n",
       "      <td>92000</td>\n",
       "      <td>98000</td>\n",
       "      <td>100000</td>\n",
       "      <td>105000</td>\n",
       "    </tr>\n",
       "  </tbody>\n",
       "</table>\n",
       "</div>"
      ],
      "text/plain": [
       "    id       name gender   1990   1995   2000    2005    2010    2015\n",
       "0    0       judy      f  70000  70000  72000   85000  105000  120000\n",
       "1    1   jennifer      f  65000  65000  68000   80000   90000  100000\n",
       "2    2       jill      f  72000  75000  75000   85000  100000  110000\n",
       "3    3       jane      f  68000  70000  70000   82000   95000  110000\n",
       "4    4    jessica      f  60000  60000  65000   80000   90000  105000\n",
       "5    5      julia      f  65000  68000  68000   80000   95000  110000\n",
       "6    6      janet      f  68000  68000  70000   85000  100000  110000\n",
       "7    7  josephine      f  60000  62000  65000   85000   95000  105000\n",
       "8    8     judith      f  68000  68000  70000   82000   95000  105000\n",
       "9    9    juliana      f  65000  68000  68000   85000  100000  110000\n",
       "10  10      david      m  65000  75000  85000   90000   90000   95000\n",
       "11  11    douglas      m  60000  70000  90000   92000   95000   95000\n",
       "12  12     daniel      m  68000  75000  90000   90000   95000   95000\n",
       "13  13   denilson      m  72000  80000  95000   95000     100  100000\n",
       "14  14      damon      m  65000  80000  95000   95000  105000  105000\n",
       "15  15     derick      m  60000  75000  85000   95000   98000  105000\n",
       "16  16      dilan      m  62000  72000  92000   95000  100000  100000\n",
       "17  17      diego      m  68000  75000  95000  100000  105000  105000\n",
       "18  18     donald      m  66000  72000  88000   95000   98000  102000\n",
       "19  19    dominic      m  68000  74000  92000   98000  100000  105000"
      ]
     },
     "execution_count": 306,
     "metadata": {},
     "output_type": "execute_result"
    }
   ],
   "source": [
    "#Data interpretation\n",
    "#Dataset2\n",
    "dfih=pd.read_csv('data-review/income_history.csv')\n",
    "dfih"
   ]
  },
  {
   "cell_type": "code",
   "execution_count": 317,
   "metadata": {},
   "outputs": [
    {
     "data": {
      "image/png": "[encoded data removed]",
      "text/plain": [
       "<matplotlib.figure.Figure at 0xdcb7350>"
      ]
     },
     "metadata": {},
     "output_type": "display_data"
    }
   ],
   "source": [
    "m1=dfih['1990'][0:10].mean()\n",
    "m2=dfih['1995'][0:10].mean()\n",
    "m3=dfih['2000'][0:10].mean()\n",
    "m4=dfih['2005'][0:10].mean()\n",
    "m5=dfih['2010'][0:10].mean()\n",
    "m6=dfih['2015'][0:10].mean()\n",
    "s1=[m1,m2,m3,m4,m5,m6]\n",
    "x1=['1990','1995','2000','2005','2010','2015']\n",
    "plt.plot(x1,s1,'.-')\n",
    "plt.xlabel('years')\n",
    "plt.ylabel('women income')\n",
    "plt.grid()\n",
    "#Conclusion: women income increased as time passed"
   ]
  },
  {
   "cell_type": "code",
   "execution_count": 341,
   "metadata": {},
   "outputs": [
    {
     "data": {
      "text/plain": [
       "<matplotlib.legend.Legend at 0xdfb1cd0>"
      ]
     },
     "execution_count": 341,
     "metadata": {},
     "output_type": "execute_result"
    },
    {
     "data": {
      "image/png": "[encoded data removed]",
      "text/plain": [
       "<matplotlib.figure.Figure at 0xdcbabd0>"
      ]
     },
     "metadata": {},
     "output_type": "display_data"
    }
   ],
   "source": [
    "m1=dfih['1990'][0:10].mean()\n",
    "m2=dfih['1995'][0:10].mean()\n",
    "m3=dfih['2000'][0:10].mean()\n",
    "m4=dfih['2005'][0:10].mean()\n",
    "m5=dfih['2010'][0:10].mean()\n",
    "m6=dfih['2015'][0:10].mean()\n",
    "s1=[m1,m2,m3,m4,m5,m6]\n",
    "x1=[[1990],[1995],[2000],[2005],[2010],[2015]]\n",
    "plt.plot(x1,s1,'.-')\n",
    "m11=dfih['1990'][10:20].mean()\n",
    "m22=dfih['1995'][10:20].mean()\n",
    "m33=dfih['2000'][10:20].mean()\n",
    "m44=dfih['2005'][10:20].mean()\n",
    "m55=dfih['2010'][10:20].mean()\n",
    "m66=dfih['2015'][10:20].mean()\n",
    "s2=[m11,m22,m33,m44,m55,m66]\n",
    "plt.plot(x1,s2,'.-',color='red')\n",
    "plt.xlabel('years')\n",
    "plt.ylabel('income')\n",
    "plt.grid()\n",
    "plt.legend(['women','men'])"
   ]
  },
  {
   "cell_type": "code",
   "execution_count": 351,
   "metadata": {},
   "outputs": [
    {
     "data": {
      "text/plain": [
       "[<matplotlib.lines.Line2D at 0xdd1ce90>]"
      ]
     },
     "execution_count": 351,
     "metadata": {},
     "output_type": "execute_result"
    },
    {
     "data": {
      "image/png": "[encoded data removed]",
      "text/plain": [
       "<matplotlib.figure.Figure at 0xde38190>"
      ]
     },
     "metadata": {},
     "output_type": "display_data"
    }
   ],
   "source": [
    "from sklearn.linear_model import LinearRegression\n",
    "model=LinearRegression()\n",
    "model.fit(x1,s1)\n",
    "plt.plot(x1,s1,'b.')\n",
    "s11=model.predict(x1)\n",
    "plt.plot(x1,s11,'b-')\n",
    "model1=LinearRegression()\n",
    "model1.fit(x1,s2)\n",
    "plt.plot(x1,s2,'r.')\n",
    "s22=model1.predict(x1)\n",
    "plt.plot(x1,s22,'r-')\n",
    "#This is the result of linear regression for each group, the trend of income was going up during the given period.\n",
    "#Based on the graph, women is more likely to have a higher yearly income by 2020"
   ]
  }
 ],
 "metadata": {
  "kernelspec": {
   "display_name": "Python 3",
   "language": "python",
   "name": "python3"
  },
  "language_info": {
   "codemirror_mode": {
    "name": "ipython",
    "version": 3
   },
   "file_extension": ".py",
   "mimetype": "text/x-python",
   "name": "python",
   "nbconvert_exporter": "python",
   "pygments_lexer": "ipython3",
   "version": "3.6.4"
  }
 },
 "nbformat": 4,
 "nbformat_minor": 2
}
