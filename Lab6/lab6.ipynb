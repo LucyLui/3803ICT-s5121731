{
 "cells": [
  {
   "cell_type": "markdown",
   "metadata": {},
   "source": [
    "Lab 06 – Predictive Data Analytics"
   ]
  },
  {
   "cell_type": "markdown",
   "metadata": {},
   "source": [
    "Part 1 Forecasting"
   ]
  },
  {
   "cell_type": "markdown",
   "metadata": {},
   "source": [
    "1.Visualize and interpret the patterns of this time-series"
   ]
  },
  {
   "cell_type": "code",
   "execution_count": 147,
   "metadata": {
    "scrolled": true
   },
   "outputs": [
    {
     "data": {
      "text/html": [
       "<div>\n",
       "<style scoped>\n",
       "    .dataframe tbody tr th:only-of-type {\n",
       "        vertical-align: middle;\n",
       "    }\n",
       "\n",
       "    .dataframe tbody tr th {\n",
       "        vertical-align: top;\n",
       "    }\n",
       "\n",
       "    .dataframe thead th {\n",
       "        text-align: right;\n",
       "    }\n",
       "</style>\n",
       "<table border=\"1\" class=\"dataframe\">\n",
       "  <thead>\n",
       "    <tr style=\"text-align: right;\">\n",
       "      <th></th>\n",
       "      <th>Quarter</th>\n",
       "      <th>Sales</th>\n",
       "    </tr>\n",
       "  </thead>\n",
       "  <tbody>\n",
       "    <tr>\n",
       "      <th>0</th>\n",
       "      <td>1</td>\n",
       "      <td>5384</td>\n",
       "    </tr>\n",
       "    <tr>\n",
       "      <th>1</th>\n",
       "      <td>2</td>\n",
       "      <td>8081</td>\n",
       "    </tr>\n",
       "    <tr>\n",
       "      <th>2</th>\n",
       "      <td>3</td>\n",
       "      <td>10282</td>\n",
       "    </tr>\n",
       "    <tr>\n",
       "      <th>3</th>\n",
       "      <td>4</td>\n",
       "      <td>9156</td>\n",
       "    </tr>\n",
       "    <tr>\n",
       "      <th>4</th>\n",
       "      <td>5</td>\n",
       "      <td>6118</td>\n",
       "    </tr>\n",
       "  </tbody>\n",
       "</table>\n",
       "</div>"
      ],
      "text/plain": [
       "   Quarter  Sales\n",
       "0        1   5384\n",
       "1        2   8081\n",
       "2        3  10282\n",
       "3        4   9156\n",
       "4        5   6118"
      ]
     },
     "execution_count": 147,
     "metadata": {},
     "output_type": "execute_result"
    }
   ],
   "source": [
    "import seaborn as sns\n",
    "import pandas as pd\n",
    "df=pd.read_csv('data.csv')\n",
    "df.head()"
   ]
  },
  {
   "cell_type": "code",
   "execution_count": 148,
   "metadata": {
    "scrolled": true
   },
   "outputs": [
    {
     "data": {
      "text/plain": [
       "Text(0,0.5,'Sales')"
      ]
     },
     "execution_count": 148,
     "metadata": {},
     "output_type": "execute_result"
    },
    {
     "data": {
      "image/png": "[encoded data removed]",
      "text/plain": [
       "<matplotlib.figure.Figure at 0xec25f10>"
      ]
     },
     "metadata": {},
     "output_type": "display_data"
    }
   ],
   "source": [
    "import matplotlib.pyplot as plt\n",
    "plt.plot(df['Quarter'],df['Sales'])\n",
    "plt.xlabel('Quarter')\n",
    "plt.ylabel('Sales')"
   ]
  },
  {
   "cell_type": "markdown",
   "metadata": {},
   "source": [
    "The trend of the data is overall upward. There is a seasonality in the data. The length of the season is four quarters."
   ]
  },
  {
   "cell_type": "markdown",
   "metadata": {},
   "source": [
    "2.Predict future demand in the four next quarters without seasonality"
   ]
  },
  {
   "cell_type": "markdown",
   "metadata": {},
   "source": [
    "(1)Using 4-Quarter Moving Average "
   ]
  },
  {
   "cell_type": "code",
   "execution_count": 294,
   "metadata": {},
   "outputs": [
    {
     "data": {
      "text/plain": [
       "0      5384.0000\n",
       "1      8081.0000\n",
       "2     10282.0000\n",
       "3      9156.0000\n",
       "4      6118.0000\n",
       "5      9139.0000\n",
       "6     12460.0000\n",
       "7     10717.0000\n",
       "8      7825.0000\n",
       "9      9693.0000\n",
       "10    15177.0000\n",
       "11    10990.0000\n",
       "12    10921.2500\n",
       "13    11695.3125\n",
       "Name: Sales, dtype: float64"
      ]
     },
     "execution_count": 294,
     "metadata": {},
     "output_type": "execute_result"
    }
   ],
   "source": [
    "s1=df['Sales']\n",
    "l=len(s1)\n",
    "s1[l]=s1[l-4:l].mean()\n",
    "s1"
   ]
  },
  {
   "cell_type": "code",
   "execution_count": 295,
   "metadata": {},
   "outputs": [],
   "source": [
    "#Using moving average to calculate the predicted values in the following 12 months\n",
    "i=2\n",
    "while i>0:\n",
    "    l=len(s1)\n",
    "    s1[l]=s1[l-4:l].mean()\n",
    "    i=i-1"
   ]
  },
  {
   "cell_type": "code",
   "execution_count": 296,
   "metadata": {},
   "outputs": [
    {
     "data": {
      "text/plain": [
       "0      5384.000000\n",
       "1      8081.000000\n",
       "2     10282.000000\n",
       "3      9156.000000\n",
       "4      6118.000000\n",
       "5      9139.000000\n",
       "6     12460.000000\n",
       "7     10717.000000\n",
       "8      7825.000000\n",
       "9      9693.000000\n",
       "10    15177.000000\n",
       "11    10990.000000\n",
       "12    10921.250000\n",
       "13    11695.312500\n",
       "14    12195.890625\n",
       "15    11450.613281\n",
       "Name: Sales, dtype: float64"
      ]
     },
     "execution_count": 296,
     "metadata": {},
     "output_type": "execute_result"
    }
   ],
   "source": [
    "s1 #Original sales data and predicted values"
   ]
  },
  {
   "cell_type": "code",
   "execution_count": 297,
   "metadata": {},
   "outputs": [
    {
     "data": {
      "text/plain": [
       "Text(0,0.5,'Predicted Sales(MA)')"
      ]
     },
     "execution_count": 297,
     "metadata": {},
     "output_type": "execute_result"
    },
    {
     "data": {
      "image/png": "[encoded data removed]",
      "text/plain": [
       "<matplotlib.figure.Figure at 0xf8905f0>"
      ]
     },
     "metadata": {},
     "output_type": "display_data"
    }
   ],
   "source": [
    "plt.plot(s1[0:12],'b')\n",
    "plt.plot(s1[12:16],'r')\n",
    "plt.xlabel('Month')\n",
    "plt.ylabel('Predicted Sales(MA)')\n"
   ]
  },
  {
   "cell_type": "markdown",
   "metadata": {},
   "source": [
    "(2)Using exponential Smoothing"
   ]
  },
  {
   "cell_type": "code",
   "execution_count": 158,
   "metadata": {},
   "outputs": [
    {
     "data": {
      "text/plain": [
       "11742.991014936577"
      ]
     },
     "execution_count": 158,
     "metadata": {},
     "output_type": "execute_result"
    }
   ],
   "source": [
    "#simple exponential smoothing go back to last N values\n",
    "#y_t = a * y_t + a * (1-a)^1 * y_t-1 + a * (1-a)^2 * y_t-2 + ... + a*(1-a)^n * y_t-n\n",
    "import math\n",
    "import sklearn.metrics as skm\n",
    "def exponential_smoothing(panda_series, alpha_value):\n",
    "    ouput=sum([alpha_value * (1 - alpha_value) ** i * x for i, x in enumerate(reversed(panda_series))])\n",
    "    return ouput\n",
    "panda_series=df.Sales[0:12]\n",
    "estimated_values=exponential_smoothing(panda_series,0.6) # use a=0.6 or 0.5 your choice, which gives less rms error\n",
    "estimated_values\n",
    "#Due to limited data, only the 13th quarter can be predicted, the prediction for the next 3 quarters equals to this values "
   ]
  },
  {
   "cell_type": "markdown",
   "metadata": {},
   "source": [
    "(3)Using linear regression"
   ]
  },
  {
   "cell_type": "code",
   "execution_count": 118,
   "metadata": {},
   "outputs": [],
   "source": [
    "from sklearn.linear_model import LinearRegression  \n",
    "import numpy as np\n",
    "linreg = LinearRegression()  \n",
    "model=linreg.fit(df.Month.values.reshape(-1, 1), df.Sales[0:12].values.reshape(-1, 1))\n",
    "b1=linreg.coef_\n",
    "b0=linreg.intercept_"
   ]
  },
  {
   "cell_type": "code",
   "execution_count": 159,
   "metadata": {},
   "outputs": [
    {
     "data": {
      "text/plain": [
       "array([[ 6588.12121212,  7049.20512821,  7510.28904429,  7971.37296037,\n",
       "         8432.45687646,  8893.54079254,  9354.62470862,  9815.70862471,\n",
       "        10276.79254079, 10737.87645688, 11198.96037296, 11660.04428904,\n",
       "        12121.12820513, 12582.21212121, 13043.2960373 , 13504.37995338]])"
      ]
     },
     "execution_count": 159,
     "metadata": {},
     "output_type": "execute_result"
    }
   ],
   "source": [
    "x= range(0,16)\n",
    "y_pred=b0+b1*x\n",
    "y_pred"
   ]
  },
  {
   "cell_type": "code",
   "execution_count": 160,
   "metadata": {
    "scrolled": true
   },
   "outputs": [
    {
     "data": {
      "text/plain": [
       "Text(0,0.5,'Predicted Sales(LR)')"
      ]
     },
     "execution_count": 160,
     "metadata": {},
     "output_type": "execute_result"
    },
    {
     "data": {
      "image/png": "[encoded data removed]",
      "text/plain": [
       "<matplotlib.figure.Figure at 0x6d26a50>"
      ]
     },
     "metadata": {},
     "output_type": "display_data"
    }
   ],
   "source": [
    "plt.plot(s[0:12],'b')\n",
    "y_pred=[6588.12121212,  7049.20512821,  7510.28904429,  7971.37296037,\n",
    "         8432.45687646,  8893.54079254,  9354.62470862,  9815.70862471,\n",
    "        10276.79254079, 10737.87645688, 11198.96037296, 11660.04428904,\n",
    "        12121.12820513, 12582.21212121, 13043.2960373 , 13504.37995338]\n",
    "plt.plot(y_pred[0:24],'*-r')\n",
    "plt.xlabel('Month')\n",
    "plt.ylabel('Predicted Sales(LR)')"
   ]
  },
  {
   "cell_type": "markdown",
   "metadata": {},
   "source": [
    "3.Predict future demand in the four next quarters with seasonality"
   ]
  },
  {
   "cell_type": "markdown",
   "metadata": {},
   "source": [
    "(1) Compute the seasonal indices\n"
   ]
  },
  {
   "cell_type": "markdown",
   "metadata": {},
   "source": [
    "Here we regard one year as a season."
   ]
  },
  {
   "cell_type": "code",
   "execution_count": 290,
   "metadata": {},
   "outputs": [
    {
     "data": {
      "text/plain": [
       "[0.6545299820685044,\n",
       " 0.9824028204115126,\n",
       " 1.2499772057259217,\n",
       " 1.1130899917940613,\n",
       " 0.6367278971743768,\n",
       " 0.9511370141020971,\n",
       " 1.296768486236145,\n",
       " 1.115366602487381,\n",
       " 0.7164930754263478,\n",
       " 0.8875357674258899,\n",
       " 1.3896760901911411,\n",
       " 1.0062950669566213]"
      ]
     },
     "execution_count": 290,
     "metadata": {},
     "output_type": "execute_result"
    }
   ],
   "source": [
    "m1=df['Sales'][0:4].mean()\n",
    "m2=df['Sales'][4:8].mean()\n",
    "m3=df['Sales'][8:12].mean()\n",
    "q=[0,0,0,0,0,0,0,0,0,0,0,0]\n",
    "for i in range(4):\n",
    "    q[i]=df['Sales'][i]/m1\n",
    "for i in range(4,8):\n",
    "    q[i]=df['Sales'][i]/m2\n",
    "for i in range(8,12):\n",
    "    q[i]=df['Sales'][i]/m3\n",
    "q        "
   ]
  },
  {
   "cell_type": "code",
   "execution_count": 291,
   "metadata": {},
   "outputs": [],
   "source": [
    "df['Seasonal index']=q"
   ]
  },
  {
   "cell_type": "code",
   "execution_count": 292,
   "metadata": {},
   "outputs": [
    {
     "data": {
      "text/html": [
       "<div>\n",
       "<style scoped>\n",
       "    .dataframe tbody tr th:only-of-type {\n",
       "        vertical-align: middle;\n",
       "    }\n",
       "\n",
       "    .dataframe tbody tr th {\n",
       "        vertical-align: top;\n",
       "    }\n",
       "\n",
       "    .dataframe thead th {\n",
       "        text-align: right;\n",
       "    }\n",
       "</style>\n",
       "<table border=\"1\" class=\"dataframe\">\n",
       "  <thead>\n",
       "    <tr style=\"text-align: right;\">\n",
       "      <th></th>\n",
       "      <th>Quarter</th>\n",
       "      <th>Sales</th>\n",
       "      <th>Seasonal index</th>\n",
       "    </tr>\n",
       "  </thead>\n",
       "  <tbody>\n",
       "    <tr>\n",
       "      <th>0</th>\n",
       "      <td>1</td>\n",
       "      <td>5384</td>\n",
       "      <td>0.654530</td>\n",
       "    </tr>\n",
       "    <tr>\n",
       "      <th>1</th>\n",
       "      <td>2</td>\n",
       "      <td>8081</td>\n",
       "      <td>0.982403</td>\n",
       "    </tr>\n",
       "    <tr>\n",
       "      <th>2</th>\n",
       "      <td>3</td>\n",
       "      <td>10282</td>\n",
       "      <td>1.249977</td>\n",
       "    </tr>\n",
       "    <tr>\n",
       "      <th>3</th>\n",
       "      <td>4</td>\n",
       "      <td>9156</td>\n",
       "      <td>1.113090</td>\n",
       "    </tr>\n",
       "    <tr>\n",
       "      <th>4</th>\n",
       "      <td>5</td>\n",
       "      <td>6118</td>\n",
       "      <td>0.636728</td>\n",
       "    </tr>\n",
       "    <tr>\n",
       "      <th>5</th>\n",
       "      <td>6</td>\n",
       "      <td>9139</td>\n",
       "      <td>0.951137</td>\n",
       "    </tr>\n",
       "    <tr>\n",
       "      <th>6</th>\n",
       "      <td>7</td>\n",
       "      <td>12460</td>\n",
       "      <td>1.296768</td>\n",
       "    </tr>\n",
       "    <tr>\n",
       "      <th>7</th>\n",
       "      <td>8</td>\n",
       "      <td>10717</td>\n",
       "      <td>1.115367</td>\n",
       "    </tr>\n",
       "    <tr>\n",
       "      <th>8</th>\n",
       "      <td>9</td>\n",
       "      <td>7825</td>\n",
       "      <td>0.716493</td>\n",
       "    </tr>\n",
       "    <tr>\n",
       "      <th>9</th>\n",
       "      <td>10</td>\n",
       "      <td>9693</td>\n",
       "      <td>0.887536</td>\n",
       "    </tr>\n",
       "    <tr>\n",
       "      <th>10</th>\n",
       "      <td>11</td>\n",
       "      <td>15177</td>\n",
       "      <td>1.389676</td>\n",
       "    </tr>\n",
       "    <tr>\n",
       "      <th>11</th>\n",
       "      <td>12</td>\n",
       "      <td>10990</td>\n",
       "      <td>1.006295</td>\n",
       "    </tr>\n",
       "  </tbody>\n",
       "</table>\n",
       "</div>"
      ],
      "text/plain": [
       "    Quarter  Sales  Seasonal index\n",
       "0         1   5384        0.654530\n",
       "1         2   8081        0.982403\n",
       "2         3  10282        1.249977\n",
       "3         4   9156        1.113090\n",
       "4         5   6118        0.636728\n",
       "5         6   9139        0.951137\n",
       "6         7  12460        1.296768\n",
       "7         8  10717        1.115367\n",
       "8         9   7825        0.716493\n",
       "9        10   9693        0.887536\n",
       "10       11  15177        1.389676\n",
       "11       12  10990        1.006295"
      ]
     },
     "execution_count": 292,
     "metadata": {},
     "output_type": "execute_result"
    }
   ],
   "source": [
    "df"
   ]
  },
  {
   "cell_type": "markdown",
   "metadata": {},
   "source": [
    "(2)Compute the de-seasonalized version of the time-series by dividing the sales\n",
    "numbers to its their corresponding seasonal indices."
   ]
  },
  {
   "cell_type": "code",
   "execution_count": 276,
   "metadata": {
    "scrolled": true
   },
   "outputs": [
    {
     "data": {
      "text/html": [
       "<div>\n",
       "<style scoped>\n",
       "    .dataframe tbody tr th:only-of-type {\n",
       "        vertical-align: middle;\n",
       "    }\n",
       "\n",
       "    .dataframe tbody tr th {\n",
       "        vertical-align: top;\n",
       "    }\n",
       "\n",
       "    .dataframe thead th {\n",
       "        text-align: right;\n",
       "    }\n",
       "</style>\n",
       "<table border=\"1\" class=\"dataframe\">\n",
       "  <thead>\n",
       "    <tr style=\"text-align: right;\">\n",
       "      <th></th>\n",
       "      <th>Average</th>\n",
       "      <th>Q1</th>\n",
       "      <th>Q2</th>\n",
       "      <th>Q3</th>\n",
       "      <th>Q4</th>\n",
       "    </tr>\n",
       "    <tr>\n",
       "      <th>Year</th>\n",
       "      <th></th>\n",
       "      <th></th>\n",
       "      <th></th>\n",
       "      <th></th>\n",
       "      <th></th>\n",
       "    </tr>\n",
       "  </thead>\n",
       "  <tbody>\n",
       "    <tr>\n",
       "      <th>2000</th>\n",
       "      <td>8225.75</td>\n",
       "      <td>5384</td>\n",
       "      <td>8081</td>\n",
       "      <td>10282</td>\n",
       "      <td>9156</td>\n",
       "    </tr>\n",
       "    <tr>\n",
       "      <th>2001</th>\n",
       "      <td>9608.50</td>\n",
       "      <td>6118</td>\n",
       "      <td>9139</td>\n",
       "      <td>12460</td>\n",
       "      <td>10717</td>\n",
       "    </tr>\n",
       "    <tr>\n",
       "      <th>2002</th>\n",
       "      <td>10921.25</td>\n",
       "      <td>7825</td>\n",
       "      <td>9693</td>\n",
       "      <td>15177</td>\n",
       "      <td>10990</td>\n",
       "    </tr>\n",
       "  </tbody>\n",
       "</table>\n",
       "</div>"
      ],
      "text/plain": [
       "       Average    Q1    Q2     Q3     Q4\n",
       "Year                                    \n",
       "2000   8225.75  5384  8081  10282   9156\n",
       "2001   9608.50  6118  9139  12460  10717\n",
       "2002  10921.25  7825  9693  15177  10990"
      ]
     },
     "execution_count": 276,
     "metadata": {},
     "output_type": "execute_result"
    }
   ],
   "source": [
    "#de-seasionalized version\n",
    "df2=pd.DataFrame({'Year':[2000,2001,2002],'Q1':[5384,6118,7825],'Q2':[8081,9139,9693],'Q3':[10282,12460,15177],'Q4':[9156,10717,10990],\n",
    "                 'Average':[df['Sales'][0:4].mean(),df['Sales'][4:8].mean(),df['Sales'][8:12].mean()]})\n",
    "df2.set_index('Year')"
   ]
  },
  {
   "cell_type": "code",
   "execution_count": 277,
   "metadata": {},
   "outputs": [
    {
     "data": {
      "text/plain": [
       "Text(0,0.5,'Quarter Sales')"
      ]
     },
     "execution_count": 277,
     "metadata": {},
     "output_type": "execute_result"
    },
    {
     "data": {
      "image/png": "[encoded data removed]",
      "text/plain": [
       "<matplotlib.figure.Figure at 0xf89f150>"
      ]
     },
     "metadata": {},
     "output_type": "display_data"
    }
   ],
   "source": [
    "plt.plot(df2['Year'],df2['Q1'],'*-')\n",
    "plt.plot(df2['Year'],df2['Q2'],'*-')\n",
    "plt.plot(df2['Year'],df2['Q3'],'*-')\n",
    "plt.plot(df2['Year'],df2['Q4'],'*-')\n",
    "plt.legend()\n",
    "plt.xlabel('Year')\n",
    "plt.ylabel('Quarter Sales')"
   ]
  },
  {
   "cell_type": "markdown",
   "metadata": {},
   "source": [
    "(3)Use linear regression on this de-seasonalized time series"
   ]
  },
  {
   "cell_type": "code",
   "execution_count": 237,
   "metadata": {},
   "outputs": [
    {
     "data": {
      "text/plain": [
       "array([[8883.33333333]])"
      ]
     },
     "execution_count": 237,
     "metadata": {},
     "output_type": "execute_result"
    }
   ],
   "source": [
    "linreg = LinearRegression()  \n",
    "model1=linreg.fit(df2.Year.values.reshape(-1, 1), df2.Q1.values.reshape(-1, 1))\n",
    "Pred_2003Q1 = linreg.predict(2003)  \n",
    "Pred_2003Q1"
   ]
  },
  {
   "cell_type": "code",
   "execution_count": 238,
   "metadata": {},
   "outputs": [
    {
     "data": {
      "text/plain": [
       "array([[10583.]])"
      ]
     },
     "execution_count": 238,
     "metadata": {},
     "output_type": "execute_result"
    }
   ],
   "source": [
    "linreg = LinearRegression()  \n",
    "model2=linreg.fit(df2.Year.values.reshape(-1, 1), df2.Q2.values.reshape(-1, 1))\n",
    "Pred_2003Q2 = linreg.predict(2003)  \n",
    "Pred_2003Q2"
   ]
  },
  {
   "cell_type": "code",
   "execution_count": 239,
   "metadata": {},
   "outputs": [
    {
     "data": {
      "text/plain": [
       "array([[17534.66666667]])"
      ]
     },
     "execution_count": 239,
     "metadata": {},
     "output_type": "execute_result"
    }
   ],
   "source": [
    "linreg = LinearRegression()  \n",
    "model3=linreg.fit(df2.Year.values.reshape(-1, 1), df2.Q3.values.reshape(-1, 1))\n",
    "Pred_2003Q3 = linreg.predict(2003)  \n",
    "Pred_2003Q3"
   ]
  },
  {
   "cell_type": "code",
   "execution_count": 240,
   "metadata": {},
   "outputs": [
    {
     "data": {
      "text/plain": [
       "array([[12121.66666667]])"
      ]
     },
     "execution_count": 240,
     "metadata": {},
     "output_type": "execute_result"
    }
   ],
   "source": [
    "linreg = LinearRegression()  \n",
    "model4=linreg.fit(df2.Year.values.reshape(-1, 1), df2.Q4.values.reshape(-1, 1))\n",
    "Pred_2003Q4 = linreg.predict(2003)  \n",
    "Pred_2003Q4"
   ]
  },
  {
   "cell_type": "markdown",
   "metadata": {},
   "source": [
    "(4)Compute the seasonalize forecasts by multiplying the seasonal indices back"
   ]
  },
  {
   "cell_type": "code",
   "execution_count": 262,
   "metadata": {},
   "outputs": [
    {
     "data": {
      "text/html": [
       "<div>\n",
       "<style scoped>\n",
       "    .dataframe tbody tr th:only-of-type {\n",
       "        vertical-align: middle;\n",
       "    }\n",
       "\n",
       "    .dataframe tbody tr th {\n",
       "        vertical-align: top;\n",
       "    }\n",
       "\n",
       "    .dataframe thead th {\n",
       "        text-align: right;\n",
       "    }\n",
       "</style>\n",
       "<table border=\"1\" class=\"dataframe\">\n",
       "  <thead>\n",
       "    <tr style=\"text-align: right;\">\n",
       "      <th></th>\n",
       "      <th>Q1_Index</th>\n",
       "      <th>Q2_Index</th>\n",
       "      <th>Q3_Index</th>\n",
       "      <th>Q4_Index</th>\n",
       "    </tr>\n",
       "    <tr>\n",
       "      <th>Year</th>\n",
       "      <th></th>\n",
       "      <th></th>\n",
       "      <th></th>\n",
       "      <th></th>\n",
       "    </tr>\n",
       "  </thead>\n",
       "  <tbody>\n",
       "    <tr>\n",
       "      <th>2000</th>\n",
       "      <td>0.654530</td>\n",
       "      <td>0.982403</td>\n",
       "      <td>1.249977</td>\n",
       "      <td>1.113090</td>\n",
       "    </tr>\n",
       "    <tr>\n",
       "      <th>2001</th>\n",
       "      <td>0.636728</td>\n",
       "      <td>0.951137</td>\n",
       "      <td>1.296768</td>\n",
       "      <td>1.115367</td>\n",
       "    </tr>\n",
       "    <tr>\n",
       "      <th>2002</th>\n",
       "      <td>0.716493</td>\n",
       "      <td>0.887536</td>\n",
       "      <td>1.389676</td>\n",
       "      <td>1.006295</td>\n",
       "    </tr>\n",
       "  </tbody>\n",
       "</table>\n",
       "</div>"
      ],
      "text/plain": [
       "      Q1_Index  Q2_Index  Q3_Index  Q4_Index\n",
       "Year                                        \n",
       "2000  0.654530  0.982403  1.249977  1.113090\n",
       "2001  0.636728  0.951137  1.296768  1.115367\n",
       "2002  0.716493  0.887536  1.389676  1.006295"
      ]
     },
     "execution_count": 262,
     "metadata": {},
     "output_type": "execute_result"
    }
   ],
   "source": [
    "df3=pd.DataFrame({'Year':[2000,2001,2002],'Q1_Index':[df['Seasonal index'][0],df['Seasonal index'][4],df['Seasonal index'][8]],\n",
    "                  'Q2_Index':[df['Seasonal index'][1],df['Seasonal index'][5],df['Seasonal index'][9]],\n",
    "                  'Q3_Index':[df['Seasonal index'][2],df['Seasonal index'][6],df['Seasonal index'][10]],\n",
    "                  'Q4_Index':[df['Seasonal index'][3],df['Seasonal index'][7],df['Seasonal index'][11]]})\n",
    "df3.set_index('Year')"
   ]
  },
  {
   "cell_type": "code",
   "execution_count": 282,
   "metadata": {},
   "outputs": [
    {
     "data": {
      "text/plain": [
       "array([[12280.66666667]])"
      ]
     },
     "execution_count": 282,
     "metadata": {},
     "output_type": "execute_result"
    }
   ],
   "source": [
    "df4=pd.DataFrame({'2003_predIndex':[df3['Q1_Index'].mean(),df3['Q2_Index'].mean(),df3['Q3_Index'].mean(),df3['Q4_Index'].mean()]})\n",
    "linreg = LinearRegression()  \n",
    "model3=linreg.fit(df2.Year.values.reshape(-1, 1), df2.Average.values.reshape(-1, 1))\n",
    "Pred_2003AvgSale = linreg.predict(2003)  \n",
    "Pred_2003AvgSale"
   ]
  },
  {
   "cell_type": "code",
   "execution_count": 283,
   "metadata": {},
   "outputs": [
    {
     "data": {
      "text/html": [
       "<div>\n",
       "<style scoped>\n",
       "    .dataframe tbody tr th:only-of-type {\n",
       "        vertical-align: middle;\n",
       "    }\n",
       "\n",
       "    .dataframe tbody tr th {\n",
       "        vertical-align: top;\n",
       "    }\n",
       "\n",
       "    .dataframe thead th {\n",
       "        text-align: right;\n",
       "    }\n",
       "</style>\n",
       "<table border=\"1\" class=\"dataframe\">\n",
       "  <thead>\n",
       "    <tr style=\"text-align: right;\">\n",
       "      <th></th>\n",
       "      <th>2003_predIndex</th>\n",
       "    </tr>\n",
       "  </thead>\n",
       "  <tbody>\n",
       "    <tr>\n",
       "      <th>0</th>\n",
       "      <td>0.669250</td>\n",
       "    </tr>\n",
       "    <tr>\n",
       "      <th>1</th>\n",
       "      <td>0.940359</td>\n",
       "    </tr>\n",
       "    <tr>\n",
       "      <th>2</th>\n",
       "      <td>1.312141</td>\n",
       "    </tr>\n",
       "    <tr>\n",
       "      <th>3</th>\n",
       "      <td>1.078251</td>\n",
       "    </tr>\n",
       "  </tbody>\n",
       "</table>\n",
       "</div>"
      ],
      "text/plain": [
       "   2003_predIndex\n",
       "0        0.669250\n",
       "1        0.940359\n",
       "2        1.312141\n",
       "3        1.078251"
      ]
     },
     "execution_count": 283,
     "metadata": {},
     "output_type": "execute_result"
    }
   ],
   "source": [
    "df4"
   ]
  },
  {
   "cell_type": "markdown",
   "metadata": {},
   "source": [
    "Predicted sales of quarters in 2003:"
   ]
  },
  {
   "cell_type": "code",
   "execution_count": 287,
   "metadata": {},
   "outputs": [
    {
     "data": {
      "text/plain": [
       "array([[ 8218.84007466],\n",
       "       [11548.22970296],\n",
       "       [16113.96125534],\n",
       "       [13241.6356337 ]])"
      ]
     },
     "execution_count": 287,
     "metadata": {},
     "output_type": "execute_result"
    }
   ],
   "source": [
    "a=df4['2003_predIndex'].values.reshape(-1,1)*Pred_2003AvgSale\n",
    "a"
   ]
  },
  {
   "cell_type": "markdown",
   "metadata": {},
   "source": [
    "4.Evaluation: compare the above implemented methods"
   ]
  },
  {
   "cell_type": "markdown",
   "metadata": {},
   "source": [
    "(1)Given the real data of 2003,Compute forecast errors (MAD and MSE)"
   ]
  },
  {
   "cell_type": "markdown",
   "metadata": {},
   "source": [
    "Method 1: moving average"
   ]
  },
  {
   "cell_type": "code",
   "execution_count": 301,
   "metadata": {},
   "outputs": [
    {
     "data": {
      "text/plain": [
       "8000"
      ]
     },
     "execution_count": 301,
     "metadata": {},
     "output_type": "execute_result"
    }
   ],
   "source": [
    "#Set r as the real sales data in 2003\n",
    "r=[8000,11000,15000,13000]\n",
    "r[0]"
   ]
  },
  {
   "cell_type": "code",
   "execution_count": 304,
   "metadata": {},
   "outputs": [
    {
     "data": {
      "text/plain": [
       "1992.5146484375"
      ]
     },
     "execution_count": 304,
     "metadata": {},
     "output_type": "execute_result"
    }
   ],
   "source": [
    "sum=0;\n",
    "for i in range(4):\n",
    "    sum=sum+abs(r[i]-s1[i+12])\n",
    "MA_MAD=sum/4\n",
    "MA_MAD"
   ]
  },
  {
   "cell_type": "code",
   "execution_count": 306,
   "metadata": {},
   "outputs": [
    {
     "data": {
      "text/plain": [
       "4820197.406589508"
      ]
     },
     "execution_count": 306,
     "metadata": {},
     "output_type": "execute_result"
    }
   ],
   "source": [
    "sum=0;\n",
    "for i in range(4):\n",
    "    sum=sum+(r[i]-s1[i+12])**2\n",
    "MA_MSE=sum/4\n",
    "MA_MSE"
   ]
  },
  {
   "cell_type": "markdown",
   "metadata": {},
   "source": [
    "Method 2:exponential Smoothing"
   ]
  },
  {
   "cell_type": "code",
   "execution_count": 308,
   "metadata": {},
   "outputs": [
    {
     "data": {
      "text/plain": [
       "2250.0"
      ]
     },
     "execution_count": 308,
     "metadata": {},
     "output_type": "execute_result"
    }
   ],
   "source": [
    "sum=0;\n",
    "for i in range(4):\n",
    "    sum=sum+abs(r[i]-estimated_values)\n",
    "ES_MAD=sum/4\n",
    "ES_MAD"
   ]
  },
  {
   "cell_type": "code",
   "execution_count": 309,
   "metadata": {},
   "outputs": [
    {
     "data": {
      "text/plain": [
       "6687549.125871619"
      ]
     },
     "execution_count": 309,
     "metadata": {},
     "output_type": "execute_result"
    }
   ],
   "source": [
    "sum=0;\n",
    "for i in range(4):\n",
    "    sum=sum+(r[i]-estimated_values)**2\n",
    "ES_MSE=sum/4\n",
    "ES_MSE"
   ]
  },
  {
   "cell_type": "markdown",
   "metadata": {},
   "source": [
    "Method 3:linear regression"
   ]
  },
  {
   "cell_type": "code",
   "execution_count": 312,
   "metadata": {},
   "outputs": [
    {
     "data": {
      "text/plain": [
       "2041.1060606049996"
      ]
     },
     "execution_count": 312,
     "metadata": {},
     "output_type": "execute_result"
    }
   ],
   "source": [
    "sum=0;\n",
    "for i in range(4):\n",
    "    sum=sum+abs(r[i]-y_pred[i+12])\n",
    "LR_MAD=sum/4\n",
    "LR_MAD"
   ]
  },
  {
   "cell_type": "code",
   "execution_count": 314,
   "metadata": {},
   "outputs": [
    {
     "data": {
      "text/plain": [
       "5892545.603659838"
      ]
     },
     "execution_count": 314,
     "metadata": {},
     "output_type": "execute_result"
    }
   ],
   "source": [
    "sum=0;\n",
    "for i in range(4):\n",
    "    sum=sum+(r[i]-y_pred[i+12])**2\n",
    "LR_MSE=sum/4\n",
    "LR_MSE"
   ]
  },
  {
   "cell_type": "markdown",
   "metadata": {},
   "source": [
    "Method 4: linear regression on this de-seasonalized time series"
   ]
  },
  {
   "cell_type": "code",
   "execution_count": 322,
   "metadata": {},
   "outputs": [
    {
     "data": {
      "text/plain": [
       "array([[1178.33333333]])"
      ]
     },
     "execution_count": 322,
     "metadata": {},
     "output_type": "execute_result"
    }
   ],
   "source": [
    "sum=abs(Pred_2003Q1-r[0])+abs(Pred_2003Q2-r[1])+abs(Pred_2003Q3-r[2])+abs(Pred_2003Q4-r[3])\n",
    "LRD_MAD=sum/4\n",
    "LRD_MAD"
   ]
  },
  {
   "cell_type": "code",
   "execution_count": 323,
   "metadata": {},
   "outputs": [
    {
     "data": {
      "text/plain": [
       "array([[2037542.83333376]])"
      ]
     },
     "execution_count": 323,
     "metadata": {},
     "output_type": "execute_result"
    }
   ],
   "source": [
    "sum=(Pred_2003Q1-r[0])**2+(Pred_2003Q2-r[1])**2+(Pred_2003Q3-r[2])**2+(Pred_2003Q4-r[3])**2\n",
    "LRD_MSE=sum/4\n",
    "LRD_MSE"
   ]
  },
  {
   "cell_type": "markdown",
   "metadata": {},
   "source": [
    "Method 5: Compute the seasonalize forecasts by multiplying the seasonal indices back"
   ]
  },
  {
   "cell_type": "code",
   "execution_count": 324,
   "metadata": {},
   "outputs": [
    {
     "data": {
      "text/plain": [
       "array([530.66666667])"
      ]
     },
     "execution_count": 324,
     "metadata": {},
     "output_type": "execute_result"
    }
   ],
   "source": [
    "sum=0;\n",
    "for i in range(4):\n",
    "    sum=sum+abs(r[i]-a[i])\n",
    "MSI_MAD=sum/4\n",
    "MSI_MAD"
   ]
  },
  {
   "cell_type": "code",
   "execution_count": 325,
   "metadata": {},
   "outputs": [
    {
     "data": {
      "text/plain": [
       "array([411936.06084155])"
      ]
     },
     "execution_count": 325,
     "metadata": {},
     "output_type": "execute_result"
    }
   ],
   "source": [
    "sum=0;\n",
    "for i in range(4):\n",
    "    sum=sum+(r[i]-a[i])**2\n",
    "MSI_MSE=sum/4\n",
    "MSI_MSE"
   ]
  },
  {
   "cell_type": "code",
   "execution_count": 329,
   "metadata": {},
   "outputs": [
    {
     "data": {
      "text/html": [
       "<div>\n",
       "<style scoped>\n",
       "    .dataframe tbody tr th:only-of-type {\n",
       "        vertical-align: middle;\n",
       "    }\n",
       "\n",
       "    .dataframe tbody tr th {\n",
       "        vertical-align: top;\n",
       "    }\n",
       "\n",
       "    .dataframe thead th {\n",
       "        text-align: right;\n",
       "    }\n",
       "</style>\n",
       "<table border=\"1\" class=\"dataframe\">\n",
       "  <thead>\n",
       "    <tr style=\"text-align: right;\">\n",
       "      <th></th>\n",
       "      <th>ES</th>\n",
       "      <th>LR</th>\n",
       "      <th>LRD</th>\n",
       "      <th>MA</th>\n",
       "      <th>MSI</th>\n",
       "    </tr>\n",
       "    <tr>\n",
       "      <th>Error Type</th>\n",
       "      <th></th>\n",
       "      <th></th>\n",
       "      <th></th>\n",
       "      <th></th>\n",
       "      <th></th>\n",
       "    </tr>\n",
       "  </thead>\n",
       "  <tbody>\n",
       "    <tr>\n",
       "      <th>MAD</th>\n",
       "      <td>2.250000e+03</td>\n",
       "      <td>2.041106e+03</td>\n",
       "      <td>[[1178.3333333334303]]</td>\n",
       "      <td>1.992515e+03</td>\n",
       "      <td>[530.6666666665114]</td>\n",
       "    </tr>\n",
       "    <tr>\n",
       "      <th>MSE</th>\n",
       "      <td>6.687549e+06</td>\n",
       "      <td>5.892546e+06</td>\n",
       "      <td>[[2037542.8333337612]]</td>\n",
       "      <td>4.820197e+06</td>\n",
       "      <td>[411936.06084154616]</td>\n",
       "    </tr>\n",
       "  </tbody>\n",
       "</table>\n",
       "</div>"
      ],
      "text/plain": [
       "                      ES            LR                     LRD            MA  \\\n",
       "Error Type                                                                     \n",
       "MAD         2.250000e+03  2.041106e+03  [[1178.3333333334303]]  1.992515e+03   \n",
       "MSE         6.687549e+06  5.892546e+06  [[2037542.8333337612]]  4.820197e+06   \n",
       "\n",
       "                             MSI  \n",
       "Error Type                        \n",
       "MAD          [530.6666666665114]  \n",
       "MSE         [411936.06084154616]  "
      ]
     },
     "execution_count": 329,
     "metadata": {},
     "output_type": "execute_result"
    }
   ],
   "source": [
    "error_table=pd.DataFrame({'Error Type':['MAD','MSE'],'MA':[MA_MAD,MA_MSE],'ES':[ES_MAD,ES_MSE],'LR':[LR_MAD,LR_MSE],\n",
    "                          'LRD':[LRD_MAD,LRD_MSE],'MSI':[MSI_MAD,MSI_MSE]})\n",
    "error_table.set_index('Error Type')"
   ]
  },
  {
   "cell_type": "markdown",
   "metadata": {},
   "source": [
    "(2)Describe your findings"
   ]
  },
  {
   "cell_type": "markdown",
   "metadata": {},
   "source": [
    "From the above results, we can easily draw the conclusion that predicting future demand with seasonality can highly reduce forecast errors, especially using Method 5, which is computing the seeasonalize forecasts by multiplying the season indices back."
   ]
  },
  {
   "cell_type": "markdown",
   "metadata": {},
   "source": [
    "Part 2 Recommender Systems"
   ]
  },
  {
   "cell_type": "markdown",
   "metadata": {},
   "source": [
    "1. Basics of Recommendation Algorithm"
   ]
  },
  {
   "cell_type": "code",
   "execution_count": 339,
   "metadata": {},
   "outputs": [
    {
     "data": {
      "text/html": [
       "<div>\n",
       "<style scoped>\n",
       "    .dataframe tbody tr th:only-of-type {\n",
       "        vertical-align: middle;\n",
       "    }\n",
       "\n",
       "    .dataframe tbody tr th {\n",
       "        vertical-align: top;\n",
       "    }\n",
       "\n",
       "    .dataframe thead th {\n",
       "        text-align: right;\n",
       "    }\n",
       "</style>\n",
       "<table border=\"1\" class=\"dataframe\">\n",
       "  <thead>\n",
       "    <tr style=\"text-align: right;\">\n",
       "      <th></th>\n",
       "      <th>CT</th>\n",
       "      <th>Dsp</th>\n",
       "      <th>Guns</th>\n",
       "      <th>Lef</th>\n",
       "    </tr>\n",
       "    <tr>\n",
       "      <th>Stu</th>\n",
       "      <th></th>\n",
       "      <th></th>\n",
       "      <th></th>\n",
       "      <th></th>\n",
       "    </tr>\n",
       "  </thead>\n",
       "  <tbody>\n",
       "    <tr>\n",
       "      <th>ICT</th>\n",
       "      <td>2</td>\n",
       "      <td>4</td>\n",
       "      <td>3</td>\n",
       "      <td>3</td>\n",
       "    </tr>\n",
       "    <tr>\n",
       "      <th>Med</th>\n",
       "      <td>3</td>\n",
       "      <td>1</td>\n",
       "      <td>2</td>\n",
       "      <td>1</td>\n",
       "    </tr>\n",
       "    <tr>\n",
       "      <th>Bsn</th>\n",
       "      <td>1</td>\n",
       "      <td>x</td>\n",
       "      <td>2</td>\n",
       "      <td>x</td>\n",
       "    </tr>\n",
       "    <tr>\n",
       "      <th>Env</th>\n",
       "      <td>x</td>\n",
       "      <td>4</td>\n",
       "      <td>3</td>\n",
       "      <td>x</td>\n",
       "    </tr>\n",
       "  </tbody>\n",
       "</table>\n",
       "</div>"
      ],
      "text/plain": [
       "    CT Dsp  Guns Lef\n",
       "Stu                 \n",
       "ICT  2   4     3   3\n",
       "Med  3   1     2   1\n",
       "Bsn  1   x     2   x\n",
       "Env  x   4     3   x"
      ]
     },
     "execution_count": 339,
     "metadata": {},
     "output_type": "execute_result"
    }
   ],
   "source": [
    "recom=pd.DataFrame({'Stu':['ICT','Med','Bsn','Env'],'Dsp':[4,1,'x',4],'Guns':[3,2,2,3],\n",
    "                   'CT':[2,3,1,'x'],'Lef':[3,1,'x','x']})\n",
    "recom.set_index('Stu')"
   ]
  },
  {
   "cell_type": "markdown",
   "metadata": {},
   "source": [
    "Calculate average ratings based on students and items"
   ]
  },
  {
   "cell_type": "code",
   "execution_count": 399,
   "metadata": {},
   "outputs": [
    {
     "data": {
      "text/plain": [
       "[3.0, 1.75, 1.5, 3.5, 2.0, 3.0, 2.5, 2]"
      ]
     },
     "execution_count": 399,
     "metadata": {},
     "output_type": "execute_result"
    }
   ],
   "source": [
    "aI=(4+3+3+2)/4\n",
    "aM=(1+2+1+3)/4\n",
    "aB=(1+2)/2\n",
    "aE=(4+3)/2\n",
    "aD=(4+1+4)/3\n",
    "aG=2.5\n",
    "aL=2\n",
    "aC=(2+3+1)/3\n",
    "Avg=[aI,aM,aB,aE,aC,aD,aG,aL]\n",
    "Avg"
   ]
  },
  {
   "cell_type": "markdown",
   "metadata": {},
   "source": [
    "(1)Compute the missing rating using user-based CF(Assume that neighborhood size=2)"
   ]
  },
  {
   "cell_type": "markdown",
   "metadata": {},
   "source": [
    "cosine similarity"
   ]
  },
  {
   "cell_type": "code",
   "execution_count": 356,
   "metadata": {},
   "outputs": [],
   "source": [
    "CsimBI=(1*2+2*3)/(math.sqrt(2**2+3**2)*math.sqrt(1+2**2))\n",
    "CsimBM=(1*3+2*2)/(math.sqrt(3**2+2**2)*math.sqrt(1+2**2))\n",
    "#CsimBE=(2*3)/(math.sqrt(3**2)*math.sqrt(2**2))\n",
    "\n",
    "CsimEI=(4*4+3*3)/(math.sqrt(4**2+3**2)*math.sqrt(4**2+3**2))\n",
    "CsimEM=(1*4+2*3)/(math.sqrt(1+2**2)*math.sqrt(4**2+3**2))\n",
    "#CsimEB=(2*3)/(math.sqrt(4)*math.sqrt(3**2))"
   ]
  },
  {
   "cell_type": "code",
   "execution_count": 357,
   "metadata": {},
   "outputs": [],
   "source": [
    "CB=[CsimBI,CsimBM]\n",
    "CE=[CsimEI,CsimEM]"
   ]
  },
  {
   "cell_type": "code",
   "execution_count": 358,
   "metadata": {},
   "outputs": [
    {
     "data": {
      "text/plain": [
       "[0.9922778767136677, 0.8682431421244593]"
      ]
     },
     "execution_count": 358,
     "metadata": {},
     "output_type": "execute_result"
    }
   ],
   "source": [
    "CB"
   ]
  },
  {
   "cell_type": "code",
   "execution_count": 359,
   "metadata": {},
   "outputs": [
    {
     "data": {
      "text/plain": [
       "[1.0, 0.8944271909999159]"
      ]
     },
     "execution_count": 359,
     "metadata": {},
     "output_type": "execute_result"
    }
   ],
   "source": [
    "CE"
   ]
  },
  {
   "cell_type": "markdown",
   "metadata": {},
   "source": [
    "Next we will calculate the missing rating."
   ]
  },
  {
   "cell_type": "code",
   "execution_count": 369,
   "metadata": {},
   "outputs": [
    {
     "data": {
      "text/plain": [
       "1.6833333333333333"
      ]
     },
     "execution_count": 369,
     "metadata": {},
     "output_type": "execute_result"
    }
   ],
   "source": [
    "rCBD=aB+(CsimBM*(1-aM)+CsimBI*(4-aI))/(CsimBM+CsimBI)\n",
    "rCBD"
   ]
  },
  {
   "cell_type": "code",
   "execution_count": 370,
   "metadata": {},
   "outputs": [
    {
     "data": {
      "text/plain": [
       "1.15"
      ]
     },
     "execution_count": 370,
     "metadata": {},
     "output_type": "execute_result"
    }
   ],
   "source": [
    "rCBL=aB+(CsimBM*(1-aM)+CsimBI*(3-aI))/(CsimBM+CsimBI)\n",
    "rCBL"
   ]
  },
  {
   "cell_type": "code",
   "execution_count": 371,
   "metadata": {},
   "outputs": [
    {
     "data": {
      "text/plain": [
       "3.5623058987490537"
      ]
     },
     "execution_count": 371,
     "metadata": {},
     "output_type": "execute_result"
    }
   ],
   "source": [
    "rCEC=aE+(CsimEM*(3-aM)+CsimEI*(2-aI))/(CsimEM+CsimEI)\n",
    "rCEC"
   ]
  },
  {
   "cell_type": "code",
   "execution_count": 372,
   "metadata": {},
   "outputs": [
    {
     "data": {
      "text/plain": [
       "3.1458980337503153"
      ]
     },
     "execution_count": 372,
     "metadata": {},
     "output_type": "execute_result"
    }
   ],
   "source": [
    "rCEL=aE+(CsimEM*(1-aM)+CsimEI*(3-aI))/(CsimEM+CsimEI)\n",
    "rCEL"
   ]
  },
  {
   "cell_type": "markdown",
   "metadata": {},
   "source": [
    "Pearson similarity(Neighbourhood size=1)"
   ]
  },
  {
   "cell_type": "code",
   "execution_count": 373,
   "metadata": {},
   "outputs": [],
   "source": [
    "PsimBI=((2-aB)*(3-aI)+(1-aB)*(2-aI))/(math.sqrt((2-aB)**2+(1-aB)**2)*math.sqrt((3-aI)**2+(2-aI)**2))\n",
    "PsimBM=((2-aB)*(2-aM)+(1-aB)*(3-aM))/(math.sqrt((2-aB)**2+(1-aB)**2)*math.sqrt((2-aM)**2+(3-aM)**2))\n",
    "\n",
    "PsimEI=((4-aE)*(4-aI)+(3-aE)*(3-aI))/(math.sqrt((4-aE)**2+(3-aE)**2)*math.sqrt((4-aI)**2+(3-aI)**2))\n",
    "PsimEM=((4-aE)*(1-aM)+(3-aE)*(2-aM))/(math.sqrt((4-aE)**2+(3-aE)**2)*math.sqrt((1-aM)**2+(2-aM)**2))\n"
   ]
  },
  {
   "cell_type": "code",
   "execution_count": 374,
   "metadata": {},
   "outputs": [],
   "source": [
    "PB=[PsimBI,PsimBM]\n",
    "PE=[PsimEI,PsimEM]"
   ]
  },
  {
   "cell_type": "code",
   "execution_count": 375,
   "metadata": {},
   "outputs": [
    {
     "data": {
      "text/plain": [
       "[0.7071067811865475, -0.5547001962252291]"
      ]
     },
     "execution_count": 375,
     "metadata": {},
     "output_type": "execute_result"
    }
   ],
   "source": [
    "PB"
   ]
  },
  {
   "cell_type": "code",
   "execution_count": 376,
   "metadata": {},
   "outputs": [
    {
     "data": {
      "text/plain": [
       "[0.7071067811865475, -0.8944271909999159]"
      ]
     },
     "execution_count": 376,
     "metadata": {},
     "output_type": "execute_result"
    }
   ],
   "source": [
    "PE"
   ]
  },
  {
   "cell_type": "code",
   "execution_count": 381,
   "metadata": {},
   "outputs": [
    {
     "data": {
      "text/plain": [
       "2.5"
      ]
     },
     "execution_count": 381,
     "metadata": {},
     "output_type": "execute_result"
    }
   ],
   "source": [
    "rPBD=aB+(PsimBI*(4-aI))/(PsimBI)\n",
    "rPBD"
   ]
  },
  {
   "cell_type": "code",
   "execution_count": 382,
   "metadata": {},
   "outputs": [
    {
     "data": {
      "text/plain": [
       "1.5"
      ]
     },
     "execution_count": 382,
     "metadata": {},
     "output_type": "execute_result"
    }
   ],
   "source": [
    "rPBL=aB+(PsimBI*(3-aI))/(PsimBI)\n",
    "rPBL"
   ]
  },
  {
   "cell_type": "code",
   "execution_count": 383,
   "metadata": {},
   "outputs": [
    {
     "data": {
      "text/plain": [
       "2.5"
      ]
     },
     "execution_count": 383,
     "metadata": {},
     "output_type": "execute_result"
    }
   ],
   "source": [
    "rPEC=aE+(PsimEI*(2-aI))/(PsimEI)\n",
    "rPEC"
   ]
  },
  {
   "cell_type": "code",
   "execution_count": 384,
   "metadata": {},
   "outputs": [
    {
     "data": {
      "text/plain": [
       "3.5"
      ]
     },
     "execution_count": 384,
     "metadata": {},
     "output_type": "execute_result"
    }
   ],
   "source": [
    "rPEL=aE+(PsimEI*(3-aI))/(PsimEI)\n",
    "rPEL"
   ]
  },
  {
   "cell_type": "markdown",
   "metadata": {},
   "source": [
    "(2)Compute the missing rating using item-based CF(Assume that neighborhood size=1)"
   ]
  },
  {
   "cell_type": "code",
   "execution_count": 385,
   "metadata": {},
   "outputs": [],
   "source": [
    "CsimDG=(4*3+1*2+4*3)/(math.sqrt(33)*math.sqrt(22))\n",
    "CsimDC=(8+3)/(math.sqrt(17)*math.sqrt(13))\n",
    "CsimDL=(12+1)/(math.sqrt(17)*math.sqrt(10))\n",
    "\n",
    "CsimCD=CsimDC\n",
    "CsimCG=(6+6+2)/(math.sqrt(17)*math.sqrt(14))\n",
    "CsimCL=(9)/(math.sqrt(13)*math.sqrt(10))\n",
    "\n",
    "CsimLD=CsimDL\n",
    "CsimLG=(11)/(math.sqrt(13)*math.sqrt(10))\n",
    "CsimLC=CsimCL\n"
   ]
  },
  {
   "cell_type": "code",
   "execution_count": 386,
   "metadata": {},
   "outputs": [
    {
     "data": {
      "text/plain": [
       "([0.9649505047327671, 0.7399400733959438, 0.9970544855015815],\n",
       " [0.7399400733959438, 0.9074852129730302, 0.7893522173763263],\n",
       " [0.9970544855015815, 0.9647638212377322, 0.7893522173763263])"
      ]
     },
     "execution_count": 386,
     "metadata": {},
     "output_type": "execute_result"
    }
   ],
   "source": [
    "CD=[CsimDG,CsimDC,CsimDL]\n",
    "CC=[CsimCD,CsimCG,CsimCL]\n",
    "CL=[CsimLD,CsimLG,CsimLC]\n",
    "CD,CC,CL"
   ]
  },
  {
   "cell_type": "markdown",
   "metadata": {},
   "source": [
    "For D, G is the most similar,For C, G is the most similar,For L, G is the most similar"
   ]
  },
  {
   "cell_type": "markdown",
   "metadata": {},
   "source": [
    "cosine similarity"
   ]
  },
  {
   "cell_type": "code",
   "execution_count": 400,
   "metadata": {},
   "outputs": [
    {
     "data": {
      "text/plain": [
       "(2.5, 2.5, 1.5, 2.5)"
      ]
     },
     "execution_count": 400,
     "metadata": {},
     "output_type": "execute_result"
    }
   ],
   "source": [
    "rCDB=aD+(2-aG)\n",
    "rCCE=aC+(3-aG)\n",
    "rCLB=aL+(2-aG)\n",
    "rCLE=aL+(3-aG)\n",
    "rCDB,rCCE,rCLB,rCLE"
   ]
  },
  {
   "cell_type": "markdown",
   "metadata": {},
   "source": [
    "Pearson similarity"
   ]
  },
  {
   "cell_type": "code",
   "execution_count": 390,
   "metadata": {},
   "outputs": [],
   "source": [
    "PsimDG=2/math.sqrt(4.5)\n",
    "PsimDC=-2/math.sqrt(5)\n",
    "PsimDL=3/math.sqrt(10)\n",
    "\n",
    "PsimCD=PsimDC\n",
    "PsimCG=0\n",
    "PsimCL=-1/math.sqrt(2)\n",
    "\n",
    "PsimLD=PsimDL\n",
    "PsimLG=1\n",
    "PsimLC=PsimCL"
   ]
  },
  {
   "cell_type": "code",
   "execution_count": 391,
   "metadata": {},
   "outputs": [
    {
     "data": {
      "text/plain": [
       "([0.9428090415820635, -0.8944271909999159, 0.9486832980505138],\n",
       " [-0.8944271909999159, 0, -0.7071067811865475],\n",
       " [0.9486832980505138, 1, -0.7071067811865475])"
      ]
     },
     "execution_count": 391,
     "metadata": {},
     "output_type": "execute_result"
    }
   ],
   "source": [
    "PD=[PsimDG,PsimDC,PsimDL]\n",
    "PC=[PsimCD,PsimCG,PsimCL]\n",
    "PL=[PsimLD,PsimLG,PsimLC]\n",
    "PD,PC,PL"
   ]
  },
  {
   "cell_type": "markdown",
   "metadata": {},
   "source": [
    "From the results above, we can compute the missing rating."
   ]
  },
  {
   "cell_type": "code",
   "execution_count": 403,
   "metadata": {},
   "outputs": [
    {
     "data": {
      "text/plain": [
       "(2.5, 1.0, 1.5, 2.5)"
      ]
     },
     "execution_count": 403,
     "metadata": {},
     "output_type": "execute_result"
    }
   ],
   "source": [
    "rPDB=aD+(2-aG)\n",
    "rPCE=aC-(4-aD)\n",
    "rPLB=aL+(2-aG)\n",
    "rPLE=aL+(3-aG)\n",
    "rPDB,rPCE,rPLB,rPLE"
   ]
  },
  {
   "cell_type": "markdown",
   "metadata": {},
   "source": [
    "2.Evaluating Recommendation Algorithms "
   ]
  },
  {
   "cell_type": "markdown",
   "metadata": {},
   "source": [
    "(1)Compute the predictive accuracy"
   ]
  },
  {
   "cell_type": "code",
   "execution_count": 404,
   "metadata": {},
   "outputs": [
    {
     "data": {
      "text/plain": [
       "(0.9874352995830179, 0.75, 1.0, 1.125)"
      ]
     },
     "execution_count": 404,
     "metadata": {},
     "output_type": "execute_result"
    }
   ],
   "source": [
    "#MAE\n",
    "UBC_MAE=(1/4)*(abs(rCBD-1)+abs(rCEC-2)+abs(rCBL-2)+abs(rCEL-4))\n",
    "UBP_MAE=(1/4)*(abs(rPBD-1)+abs(rPEC-2)+abs(rPBL-2)+abs(rPEL-4))\n",
    "IBC_MAE=(1/4)*(abs(rCDB-1)+abs(rCCE-2)+abs(rCLB-2)+abs(rCLE-4))\n",
    "IBP_MAE=(1/4)*(abs(rPDB-1)+abs(rPCE-2)+abs(rPLB-2)+abs(rPLE-4))\n",
    "UBC_MAE,UBP_MAE,IBC_MAE,IBP_MAE               "
   ]
  },
  {
   "cell_type": "code",
   "execution_count": 405,
   "metadata": {},
   "outputs": [
    {
     "data": {
      "text/plain": [
       "(1.0439988427271016, 0.8660254037844386, 1.118033988749895, 1.1989578808281798)"
      ]
     },
     "execution_count": 405,
     "metadata": {},
     "output_type": "execute_result"
    }
   ],
   "source": [
    "#RMSE\n",
    "UBC_RMSE=math.sqrt(abs(1/4)*((rCBD-1)**2+abs(rCEC-2)**2+abs(rCBL-2)**2+abs(rCEL-4)**2))\n",
    "UBP_RMSE=math.sqrt((1/4)*(abs(rPBD-1)**2+abs(rPEC-2)**2+abs(rPBL-2)**2+abs(rPEL-4)**2))\n",
    "IBC_RMSE=math.sqrt((1/4)*(abs(rCDB-1)**2+abs(rCCE-2)**2+abs(rCLB-2)**2+abs(rCLE-4)**2))\n",
    "IBP_RMSE=math.sqrt((1/4)*(abs(rPDB-1)**2+abs(rPCE-2)**2+abs(rPLB-2)**2+abs(rPLE-4)**2))\n",
    "UBC_RMSE,UBP_RMSE,IBC_RMSE,IBP_RMSE  "
   ]
  },
  {
   "cell_type": "markdown",
   "metadata": {},
   "source": [
    "(2)Compute the ranking quality"
   ]
  },
  {
   "cell_type": "code",
   "execution_count": 411,
   "metadata": {},
   "outputs": [
    {
     "data": {
      "text/html": [
       "<div>\n",
       "<style scoped>\n",
       "    .dataframe tbody tr th:only-of-type {\n",
       "        vertical-align: middle;\n",
       "    }\n",
       "\n",
       "    .dataframe tbody tr th {\n",
       "        vertical-align: top;\n",
       "    }\n",
       "\n",
       "    .dataframe thead th {\n",
       "        text-align: right;\n",
       "    }\n",
       "</style>\n",
       "<table border=\"1\" class=\"dataframe\">\n",
       "  <thead>\n",
       "    <tr style=\"text-align: right;\">\n",
       "      <th></th>\n",
       "      <th>Pre_IBC</th>\n",
       "      <th>Pre_IBP</th>\n",
       "      <th>Pre_UBC</th>\n",
       "      <th>Pre_UBP</th>\n",
       "      <th>True Ranking</th>\n",
       "    </tr>\n",
       "    <tr>\n",
       "      <th>Missing Rating</th>\n",
       "      <th></th>\n",
       "      <th></th>\n",
       "      <th></th>\n",
       "      <th></th>\n",
       "      <th></th>\n",
       "    </tr>\n",
       "  </thead>\n",
       "  <tbody>\n",
       "    <tr>\n",
       "      <th>BD</th>\n",
       "      <td>1</td>\n",
       "      <td>1</td>\n",
       "      <td>3</td>\n",
       "      <td>2</td>\n",
       "      <td>4</td>\n",
       "    </tr>\n",
       "    <tr>\n",
       "      <th>EC</th>\n",
       "      <td>1</td>\n",
       "      <td>4</td>\n",
       "      <td>1</td>\n",
       "      <td>2</td>\n",
       "      <td>2</td>\n",
       "    </tr>\n",
       "    <tr>\n",
       "      <th>BL</th>\n",
       "      <td>4</td>\n",
       "      <td>3</td>\n",
       "      <td>4</td>\n",
       "      <td>4</td>\n",
       "      <td>2</td>\n",
       "    </tr>\n",
       "    <tr>\n",
       "      <th>EL</th>\n",
       "      <td>1</td>\n",
       "      <td>1</td>\n",
       "      <td>2</td>\n",
       "      <td>1</td>\n",
       "      <td>1</td>\n",
       "    </tr>\n",
       "  </tbody>\n",
       "</table>\n",
       "</div>"
      ],
      "text/plain": [
       "                Pre_IBC  Pre_IBP  Pre_UBC  Pre_UBP  True Ranking\n",
       "Missing Rating                                                  \n",
       "BD                    1        1        3        2             4\n",
       "EC                    1        4        1        2             2\n",
       "BL                    4        3        4        4             2\n",
       "EL                    1        1        2        1             1"
      ]
     },
     "execution_count": 411,
     "metadata": {},
     "output_type": "execute_result"
    }
   ],
   "source": [
    "ranking=pd.DataFrame({'Missing Rating':['BD','EC','BL','EL'],'Pre_UBC':[3,1,4,2],'Pre_UBP':[2,2,4,1],'Pre_IBC':[1,1,4,1],'Pre_IBP':[1,4,3,1],'True Ranking':[4,2,2,1]})\n",
    "ranking.set_index('Missing Rating')"
   ]
  },
  {
   "cell_type": "code",
   "execution_count": 412,
   "metadata": {},
   "outputs": [],
   "source": [
    "RA_IBC=1/6\n",
    "RA_IBP=1/3\n",
    "RA_UBC=1/2\n",
    "PA_UBP=1/2"
   ]
  }
 ],
 "metadata": {
  "kernelspec": {
   "display_name": "Python 3",
   "language": "python",
   "name": "python3"
  },
  "language_info": {
   "codemirror_mode": {
    "name": "ipython",
    "version": 3
   },
   "file_extension": ".py",
   "mimetype": "text/x-python",
   "name": "python",
   "nbconvert_exporter": "python",
   "pygments_lexer": "ipython3",
   "version": "3.6.4"
  }
 },
 "nbformat": 4,
 "nbformat_minor": 2
}
